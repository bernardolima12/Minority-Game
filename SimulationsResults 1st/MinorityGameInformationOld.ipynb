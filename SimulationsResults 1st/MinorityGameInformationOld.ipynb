{
 "cells": [
  {
   "cell_type": "code",
   "execution_count": 1,
   "metadata": {},
   "outputs": [],
   "source": [
    "import numpy as np\n",
    "from mygame_functions import GameSimulationInfo\n",
    "import matplotlib.pyplot as plt\n",
    "%matplotlib inline"
   ]
  },
  {
   "cell_type": "code",
   "execution_count": 177,
   "metadata": {},
   "outputs": [],
   "source": [
    "N1 = 211\n",
    "M1 = 6\n",
    "N2 = 111\n",
    "M2 = 6"
   ]
  },
  {
   "cell_type": "code",
   "execution_count": 182,
   "metadata": {},
   "outputs": [
    {
     "name": "stdout",
     "output_type": "stream",
     "text": [
      "         t=100000/1000000\n",
      "         t=200000/1000000\n",
      "         t=300000/1000000\n",
      "         t=400000/1000000\n",
      "         t=500000/1000000\n",
      "         t=600000/1000000\n",
      "         t=700000/1000000\n",
      "         t=800000/1000000\n",
      "         t=900000/1000000\n",
      "         t=1000000/1000000\n"
     ]
    }
   ],
   "source": [
    "H2 = GameSimulationInfo(N2, M2, T=1000000, imprime=100000)"
   ]
  },
  {
   "cell_type": "code",
   "execution_count": 227,
   "metadata": {},
   "outputs": [],
   "source": [
    "Pmu1 = []\n",
    "for Hmus in H1:\n",
    "    hs = np.array(Hmus)\n",
    "    Pmu1.append(len(hs[hs==1])/len(hs))\n",
    "mu1 = np.arange(0,2**M1)\n",
    "Pmu2 = []\n",
    "for Hmus in H2:\n",
    "    hs = np.array(Hmus)\n",
    "    Pmu2.append(len(hs[hs==1])/len(hs))\n",
    "mu2 = np.arange(0,2**M2)"
   ]
  },
  {
   "cell_type": "code",
   "execution_count": 209,
   "metadata": {},
   "outputs": [],
   "source": [
    "sign1 = []\n",
    "for Hmus in H1:\n",
    "    hs = np.array(Hmus)\n",
    "    sign1.append(np.mean(hs))\n",
    "musi1 = np.arange(0,2**M1)\n",
    "sign2 = []\n",
    "for Hmus in H2:\n",
    "    hs = np.array(Hmus)\n",
    "    sign2.append(np.mean(hs))\n",
    "musi2 = np.arange(0,2**M2)"
   ]
  },
  {
   "cell_type": "code",
   "execution_count": 176,
   "metadata": {},
   "outputs": [
    {
     "data": {
      "image/png": "[encoded data removed]",
      "text/plain": [
       "<Figure size 432x288 with 2 Axes>"
      ]
     },
     "metadata": {
      "needs_background": "light"
     },
     "output_type": "display_data"
    }
   ],
   "source": [
    "fig = plt.figure()\n",
    "\n",
    "ax1 = fig.add_axes([0.1,0.1,0.5,.5])\n",
    "ax2 = fig.add_axes([0.6,0.1,1.3,.5])\n",
    "\n",
    "ax1.tick_params(which='both',\n",
    "                  labelbottom=True,\n",
    "                  labeltop=False,\n",
    "                  labelleft=True,\n",
    "                  labelright=False,\n",
    "                  bottom=True,\n",
    "                  top=False,\n",
    "                  left=True,\n",
    "                  right=True)\n",
    "ax2.tick_params(which='both',\n",
    "                  labelbottom=True,\n",
    "                  labeltop=False,\n",
    "                  labelleft=False,\n",
    "                  labelright=False,\n",
    "                  bottom=True,\n",
    "                  top=False,\n",
    "                  left=True,\n",
    "                  right=True)\n",
    "#ax[1].yaxis.set_label_position(\"right\")\n",
    "\n",
    "ax1.set(ylim=[0,1], title = 'Symmetric phase', ylabel=r'P($signA=1|\\mu$)', xlabel=r'$\\mu$')\n",
    "ax2.set(ylim=[0,1], xlim = [-1.5,64.5], title = 'Asymmetric phase', xlabel=r'$\\mu$')\n",
    "ax1.set_yticks([0, 0.5, 1])\n",
    "ax1.set_yticklabels(['0', '0.5', '1'])\n",
    "#ax1.set_xticks([0, 5, 10, 15])\n",
    "#ax1.set_xticklabels(['0', '5', '15', '15'])\n",
    "ax2.set_yticks([0, 0.5, 1])\n",
    "\n",
    "ax1.bar(mu1, Pmu1, width = 1, color= 'firebrick', edgecolor='k')\n",
    "ax1.axhline(y=0.5, xmin=0, xmax=1, color='k', alpha=0.7, linestyle='--')\n",
    "ax2.bar(mu2, Pmu2, width = 1, color= 'firebrick', edgecolor='k')\n",
    "ax2.axhline(y=0.5, xmin=0, xmax=1, color='k', alpha=0.7, linestyle='--')\n",
    "filename = 'histo_sym_asym_111N_5M_6M.png'\n",
    "fig.savefig(filename, bbox_inches='tight')"
   ]
  },
  {
   "cell_type": "code",
   "execution_count": 229,
   "metadata": {},
   "outputs": [
    {
     "data": {
      "image/png": "[encoded data removed]",
      "text/plain": [
       "<Figure size 864x432 with 4 Axes>"
      ]
     },
     "metadata": {
      "needs_background": "light"
     },
     "output_type": "display_data"
    }
   ],
   "source": [
    "fig, ax = plt.subplots(2, 2, gridspec_kw={'hspace':0, 'wspace': 0},figsize=(12, 6))\n",
    "ax[0][0].tick_params(which='both',\n",
    "                  labelbottom=False,\n",
    "                  labeltop=False,\n",
    "                  labelleft=True,\n",
    "                  labelright=False,\n",
    "                  bottom=True,\n",
    "                  top=False,\n",
    "                  left=True,\n",
    "                  right=True)\n",
    "ax[0][1].tick_params(which='both',\n",
    "                  labelbottom=False,\n",
    "                  labeltop=False,\n",
    "                  labelleft=False,\n",
    "                  labelright=False,\n",
    "                  bottom=True,\n",
    "                  top=False,\n",
    "                  left=True,\n",
    "                  right=True)\n",
    "\n",
    "ax[0][0].set(ylim=[0,1], title = 'Symmetric phase', ylabel=r'P($signA=1|\\mu$)')\n",
    "ax[0][0].set_yticks([0, 0.5, 1])\n",
    "ax[0][0].set_yticklabels(['0', '0.5', '1'])\n",
    "ax[0][0].bar(mu1, Pmu1, width = 1, color= 'firebrick', edgecolor='k')\n",
    "ax[0][0].axhline(y=0.5, xmin=0, xmax=1, color='k', alpha=0.7, linestyle='--')\n",
    "\n",
    "ax[0][1].set(ylim=[0,1], title = 'Asymmetric phase')\n",
    "ax[0][1].set_yticks([0, 0.5, 1])\n",
    "ax[0][1].set_yticklabels(['0', '0.5', '1'])\n",
    "ax[0][1].bar(mu2, Pmu2, width = 1, color= 'firebrick', edgecolor='k')\n",
    "ax[0][1].axhline(y=0.5, xmin=0, xmax=1, color='k', alpha=0.7, linestyle='--')\n",
    "\n",
    "\n",
    "ax[1][0].tick_params(which='both',\n",
    "                  labelbottom=True,\n",
    "                  labeltop=False,\n",
    "                  labelleft=True,\n",
    "                  labelright=False,\n",
    "                  bottom=True,\n",
    "                  top=False,\n",
    "                  left=True,\n",
    "                  right=True)\n",
    "ax[1][1].tick_params(which='both',\n",
    "                  labelbottom=True,\n",
    "                  labeltop=False,\n",
    "                  labelleft=False,\n",
    "                  labelright=False,\n",
    "                  bottom=True,\n",
    "                  top=False,\n",
    "                  left=True,\n",
    "                  right=True)\n",
    "\n",
    "ax[1][0].set(ylim=[-1,1], ylabel=r'$<signA|\\mu>$', xlabel=r'$\\mu$')\n",
    "ax[1][0].set_yticks([-0.5, 0, 0.5])\n",
    "ax[1][0].set_yticklabels(['-0.5','0', '0.5'])\n",
    "ax[1][0].bar(musi1, sign1, width = 1, color= 'firebrick', edgecolor='k')\n",
    "\n",
    "ax[1][1].set(ylim=[-1,1], xlabel=r'$\\mu$')\n",
    "ax[1][1].set_yticks([-0.5, 0, 0.5])\n",
    "ax[1][1].set_yticklabels(['-0.5','0', '0.5'])\n",
    "ax[1][1].bar(musi2, sign2, width = 1, color= 'firebrick', edgecolor='k')\n",
    "\n",
    "filename = 'histo_SymAsym_probsign_sign_6M_111,211N_millonT.png'\n",
    "fig.savefig(filename, bbox_inches='tight')"
   ]
  },
  {
   "cell_type": "code",
   "execution_count": 219,
   "metadata": {},
   "outputs": [
    {
     "data": {
      "image/png": "[encoded data removed]",
      "text/plain": [
       "<Figure size 864x288 with 2 Axes>"
      ]
     },
     "metadata": {
      "needs_background": "light"
     },
     "output_type": "display_data"
    }
   ],
   "source": [
    "fig, ax = plt.subplots(1, 2, gridspec_kw={'wspace': 0},figsize=(12, 4))\n",
    "ax[0].tick_params(which='both',\n",
    "                  labelbottom=True,\n",
    "                  labeltop=False,\n",
    "                  labelleft=True,\n",
    "                  labelright=False,\n",
    "                  bottom=True,\n",
    "                  top=False,\n",
    "                  left=True,\n",
    "                  right=True)\n",
    "ax[1].tick_params(which='both',\n",
    "                  labelbottom=True,\n",
    "                  labeltop=False,\n",
    "                  labelleft=False,\n",
    "                  labelright=False,\n",
    "                  bottom=True,\n",
    "                  top=False,\n",
    "                  left=True,\n",
    "                  right=True)\n",
    "\n",
    "ax[0].set(ylim=[-1,1], ylabel=r'$<signA|\\mu>$', xlabel=r'$\\mu$')\n",
    "ax[0].set_yticks([-1, -0.5, 0, 0.5, 1])\n",
    "ax[0].set_yticklabels(['-1','-0.5','0', '0.5', '1'])\n",
    "ax[0].bar(musi1, sign1, width = 1, color= 'firebrick', edgecolor='k')\n",
    "\n",
    "ax[1].set(ylim=[-1,1], xlabel=r'$\\mu$')\n",
    "ax[1].set_yticks([-1, -0.5, 0, 0.5, 1])\n",
    "ax[1].set_yticklabels(['-1','-0.5','0', '0.5', '1'])\n",
    "ax[1].bar(musi2, sign2, width = 1, color= 'firebrick', edgecolor='k')\n",
    "\n",
    "filename = 'histo_sym_asym_6M_111,211N_millonT.png'\n",
    "#fig.savefig(filename, bbox_inches='tight')"
   ]
  }
 ],
 "metadata": {
  "kernelspec": {
   "display_name": "Documentos",
   "language": "python",
   "name": "documentos"
  },
  "language_info": {
   "codemirror_mode": {
    "name": "ipython",
    "version": 3
   },
   "file_extension": ".py",
   "mimetype": "text/x-python",
   "name": "python",
   "nbconvert_exporter": "python",
   "pygments_lexer": "ipython3",
   "version": "3.5.2"
  }
 },
 "nbformat": 4,
 "nbformat_minor": 2
}
