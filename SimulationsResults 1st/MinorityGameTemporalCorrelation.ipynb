{
 "cells": [
  {
   "cell_type": "code",
   "execution_count": 1,
   "metadata": {},
   "outputs": [],
   "source": [
    "import numpy as np\n",
    "from mygame_functions import GameSimulationInfoCorr\n",
    "import matplotlib.pyplot as plt\n",
    "%matplotlib inline"
   ]
  },
  {
   "cell_type": "code",
   "execution_count": 80,
   "metadata": {
    "scrolled": true
   },
   "outputs": [
    {
     "name": "stdout",
     "output_type": "stream",
     "text": [
      "         t=1000/10000\n",
      "         t=2000/10000\n",
      "         t=3000/10000\n",
      "         t=4000/10000\n",
      "         t=5000/10000\n",
      "         t=6000/10000\n",
      "         t=7000/10000\n",
      "         t=8000/10000\n",
      "         t=9000/10000\n",
      "         t=10000/10000\n"
     ]
    }
   ],
   "source": [
    "M = 7\n",
    "T = 10000\n",
    "N = 161\n",
    "infos=GameSimulationInfoCorr(N, M, T, imprime=int(T/10))"
   ]
  },
  {
   "cell_type": "code",
   "execution_count": 81,
   "metadata": {},
   "outputs": [],
   "source": [
    "frecs = np.zeros(2**M)\n",
    "for m in range(2**M):\n",
    "    frecs[m] = len(infos[m,infos[m]!=0])/T"
   ]
  },
  {
   "cell_type": "code",
   "execution_count": null,
   "metadata": {},
   "outputs": [],
   "source": []
  },
  {
   "cell_type": "code",
   "execution_count": 82,
   "metadata": {},
   "outputs": [
    {
     "data": {
      "text/plain": [
       "array([0.0209, 0.01  , 0.0138, 0.0081, 0.0076, 0.0131, 0.0048, 0.0107,\n",
       "       0.0111, 0.0084, 0.0114, 0.0095, 0.0053, 0.0074, 0.014 , 0.0046,\n",
       "       0.0084, 0.0152, 0.0103, 0.003 , 0.0084, 0.0145, 0.0092, 0.0099,\n",
       "       0.0053, 0.0035, 0.0082, 0.0034, 0.0125, 0.0043, 0.0043, 0.0034,\n",
       "       0.0105, 0.0079, 0.0165, 0.0078, 0.0148, 0.0098, 0.0021, 0.0038,\n",
       "       0.0149, 0.0089, 0.0123, 0.012 , 0.0084, 0.0056, 0.0119, 0.0129,\n",
       "       0.0059, 0.0026, 0.0077, 0.0034, 0.0064, 0.0149, 0.0045, 0.0023,\n",
       "       0.0133, 0.0065, 0.0074, 0.0031, 0.0079, 0.005 , 0.0056, 0.0045,\n",
       "       0.01  , 0.0119, 0.0069, 0.0074, 0.0119, 0.0078, 0.0079, 0.0079,\n",
       "       0.0125, 0.0049, 0.0115, 0.0096, 0.0035, 0.0042, 0.0028, 0.0031,\n",
       "       0.01  , 0.0091, 0.0143, 0.0029, 0.0154, 0.0098, 0.0048, 0.0149,\n",
       "       0.0032, 0.0076, 0.0131, 0.0034, 0.0073, 0.0063, 0.0086, 0.0067,\n",
       "       0.0114, 0.0064, 0.0031, 0.008 , 0.0026, 0.0113, 0.0056, 0.0021,\n",
       "       0.0042, 0.0083, 0.0129, 0.0077, 0.0024, 0.0109, 0.0017, 0.0024,\n",
       "       0.0119, 0.0085, 0.0062, 0.0043, 0.0061, 0.0057, 0.0088, 0.0018,\n",
       "       0.0071, 0.004 , 0.0044, 0.0075, 0.0032, 0.0069, 0.0045, 0.0013])"
      ]
     },
     "execution_count": 82,
     "metadata": {},
     "output_type": "execute_result"
    }
   ],
   "source": [
    "frecs"
   ]
  },
  {
   "cell_type": "code",
   "execution_count": 83,
   "metadata": {
    "scrolled": true
   },
   "outputs": [
    {
     "name": "stdout",
     "output_type": "stream",
     "text": [
      "1/128\n",
      "2/128\n",
      "3/128\n",
      "4/128\n",
      "5/128\n",
      "6/128\n",
      "7/128\n",
      "8/128\n",
      "9/128\n",
      "10/128\n",
      "11/128\n",
      "12/128\n",
      "13/128\n",
      "14/128\n",
      "15/128\n",
      "16/128\n",
      "17/128\n",
      "18/128\n",
      "19/128\n",
      "20/128\n",
      "21/128\n",
      "22/128\n",
      "23/128\n",
      "24/128\n",
      "25/128\n",
      "26/128\n",
      "27/128\n",
      "28/128\n",
      "29/128\n",
      "30/128\n",
      "31/128\n",
      "32/128\n",
      "33/128\n",
      "34/128\n",
      "35/128\n",
      "36/128\n",
      "37/128\n",
      "38/128\n",
      "39/128\n",
      "40/128\n",
      "41/128\n",
      "42/128\n",
      "43/128\n",
      "44/128\n",
      "45/128\n",
      "46/128\n",
      "47/128\n",
      "48/128\n",
      "49/128\n",
      "50/128\n",
      "51/128\n",
      "52/128\n",
      "53/128\n",
      "54/128\n",
      "55/128\n",
      "56/128\n",
      "57/128\n",
      "58/128\n",
      "59/128\n",
      "60/128\n",
      "61/128\n",
      "62/128\n",
      "63/128\n",
      "64/128\n",
      "65/128\n",
      "66/128\n",
      "67/128\n",
      "68/128\n",
      "69/128\n",
      "70/128\n",
      "71/128\n",
      "72/128\n",
      "73/128\n",
      "74/128\n",
      "75/128\n",
      "76/128\n",
      "77/128\n",
      "78/128\n",
      "79/128\n",
      "80/128\n",
      "81/128\n",
      "82/128\n",
      "83/128\n",
      "84/128\n",
      "85/128\n",
      "86/128\n",
      "87/128\n",
      "88/128\n",
      "89/128\n",
      "90/128\n",
      "91/128\n",
      "92/128\n",
      "93/128\n",
      "94/128\n",
      "95/128\n",
      "96/128\n",
      "97/128\n",
      "98/128\n",
      "99/128\n",
      "100/128\n",
      "101/128\n",
      "102/128\n",
      "103/128\n",
      "104/128\n",
      "105/128\n",
      "106/128\n",
      "107/128\n",
      "108/128\n",
      "109/128\n",
      "110/128\n",
      "111/128\n",
      "112/128\n",
      "113/128\n",
      "114/128\n",
      "115/128\n",
      "116/128\n",
      "117/128\n",
      "118/128\n",
      "119/128\n",
      "120/128\n",
      "121/128\n",
      "122/128\n",
      "123/128\n",
      "124/128\n",
      "125/128\n",
      "126/128\n",
      "127/128\n",
      "128/128\n"
     ]
    }
   ],
   "source": [
    "tao_max = 500\n",
    "correls = [[] for _ in range(tao_max)]\n",
    "cuenta=0\n",
    "for i in infos:\n",
    "    print('{}/{}'.format(cuenta+1, len(infos)))\n",
    "    corr_i = [[] for _ in range(tao_max)]\n",
    "    for t in range(T-tao_max):\n",
    "        for increm_tao in range(tao_max):\n",
    "            if (i[t] != 0 and i[t+increm_tao+1] != 0):\n",
    "                corr_i[increm_tao].append(i[t]*i[t+increm_tao+1])\n",
    "    for j in range(tao_max):\n",
    "        if len(corr_i[j])>0:\n",
    "            corr_i[j]=frecs[cuenta]*np.mean(corr_i[j])\n",
    "    for k in range(tao_max):\n",
    "        if isinstance(corr_i[k], list)!=True:\n",
    "            correls[k].append(corr_i[k])\n",
    "    cuenta+=1"
   ]
  },
  {
   "cell_type": "code",
   "execution_count": 84,
   "metadata": {},
   "outputs": [],
   "source": [
    "for i in range(len(correls)):\n",
    "    if len(correls[i])>0:\n",
    "        correls[i]=np.mean(correls[i])\n",
    "    else:\n",
    "        print('ep, el indice {} no esta'.format(i))\n",
    "        correls[i]=0"
   ]
  },
  {
   "cell_type": "code",
   "execution_count": null,
   "metadata": {},
   "outputs": [],
   "source": [
    "correls3 el otro"
   ]
  },
  {
   "cell_type": "code",
   "execution_count": 85,
   "metadata": {},
   "outputs": [],
   "source": [
    "correls = np.array(correls)"
   ]
  },
  {
   "cell_type": "code",
   "execution_count": 86,
   "metadata": {},
   "outputs": [
    {
     "data": {
      "text/plain": [
       "0.0015836231454257246"
      ]
     },
     "execution_count": 86,
     "metadata": {},
     "output_type": "execute_result"
    }
   ],
   "source": [
    "np.mean(correls)"
   ]
  },
  {
   "cell_type": "code",
   "execution_count": 73,
   "metadata": {},
   "outputs": [
    {
     "data": {
      "text/plain": [
       "[<matplotlib.lines.Line2D at 0x7f589b501cc0>]"
      ]
     },
     "execution_count": 73,
     "metadata": {},
     "output_type": "execute_result"
    },
    {
     "data": {
      "image/png": "[encoded data removed]",
      "text/plain": [
       "<Figure size 432x288 with 1 Axes>"
      ]
     },
     "metadata": {
      "needs_background": "light"
     },
     "output_type": "display_data"
    }
   ],
   "source": [
    "fig, ax = plt.subplots()\n",
    "ax.plot(np.arange(tao_max),correls3)"
   ]
  },
  {
   "cell_type": "code",
   "execution_count": 87,
   "metadata": {},
   "outputs": [
    {
     "data": {
      "text/plain": [
       "[<matplotlib.lines.Line2D at 0x7f589b4af390>]"
      ]
     },
     "execution_count": 87,
     "metadata": {},
     "output_type": "execute_result"
    },
    {
     "data": {
      "image/png": "[encoded data removed]",
      "text/plain": [
       "<Figure size 432x288 with 1 Axes>"
      ]
     },
     "metadata": {
      "needs_background": "light"
     },
     "output_type": "display_data"
    }
   ],
   "source": [
    "fig, ax = plt.subplots()\n",
    "ax.plot(np.arange(tao_max),correls)"
   ]
  }
 ],
 "metadata": {
  "kernelspec": {
   "display_name": "Documentos",
   "language": "python",
   "name": "documentos"
  },
  "language_info": {
   "codemirror_mode": {
    "name": "ipython",
    "version": 3
   },
   "file_extension": ".py",
   "mimetype": "text/x-python",
   "name": "python",
   "nbconvert_exporter": "python",
   "pygments_lexer": "ipython3",
   "version": "3.5.2"
  }
 },
 "nbformat": 4,
 "nbformat_minor": 2
}
