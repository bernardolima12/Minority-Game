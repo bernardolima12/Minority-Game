{
 "cells": [
  {
   "cell_type": "code",
   "execution_count": 28,
   "metadata": {},
   "outputs": [],
   "source": [
    "import numpy as np\n",
    "import matplotlib.pyplot as plt\n",
    "from mygame_functions import one_simulation_variables\n",
    "import seaborn as sns\n",
    "%matplotlib inline"
   ]
  },
  {
   "cell_type": "code",
   "execution_count": 2,
   "metadata": {},
   "outputs": [
    {
     "name": "stdout",
     "output_type": "stream",
     "text": [
      "         t=2500/10000\n",
      "         t=5000/10000\n",
      "         t=7500/10000\n",
      "         t=10000/10000\n"
     ]
    }
   ],
   "source": [
    "N = 252\n",
    "M = 8\n",
    "T = 10000\n",
    "t,A,pol = one_simulation_variables(N,2,M,T,imprime=2500)\n",
    "pol_nozeros = pol[pol>0]/T"
   ]
  },
  {
   "cell_type": "code",
   "execution_count": 3,
   "metadata": {
    "scrolled": true
   },
   "outputs": [
    {
     "name": "stdout",
     "output_type": "stream",
     "text": [
      "252 245\n"
     ]
    }
   ],
   "source": [
    "print(len(pol), len(pol_nozeros))"
   ]
  },
  {
   "cell_type": "code",
   "execution_count": 4,
   "metadata": {},
   "outputs": [
    {
     "data": {
      "image/png": "[encoded data removed]",
      "text/plain": [
       "<Figure size 432x288 with 1 Axes>"
      ]
     },
     "metadata": {
      "needs_background": "light"
     },
     "output_type": "display_data"
    }
   ],
   "source": [
    "plt.hist(pol_nozeros,bins = 10**np.linspace(np.log10(min(pol_nozeros)),np.log10(max(pol_nozeros)),40))\n",
    "plt.yscale('log')\n",
    "plt.xscale('log')"
   ]
  },
  {
   "cell_type": "code",
   "execution_count": 3,
   "metadata": {},
   "outputs": [],
   "source": [
    "pol_list = list(pol_nozeros)"
   ]
  },
  {
   "cell_type": "code",
   "execution_count": 4,
   "metadata": {},
   "outputs": [
    {
     "name": "stdout",
     "output_type": "stream",
     "text": [
      "Ponderacion numero 1/10\n",
      "         t=100000/1000000\n",
      "         t=200000/1000000\n",
      "         t=300000/1000000\n",
      "         t=400000/1000000\n",
      "         t=500000/1000000\n",
      "         t=600000/1000000\n",
      "         t=700000/1000000\n",
      "         t=800000/1000000\n",
      "         t=900000/1000000\n",
      "         t=1000000/1000000\n",
      "Ponderacion numero 2/10\n",
      "         t=100000/1000000\n",
      "         t=200000/1000000\n",
      "         t=300000/1000000\n",
      "         t=400000/1000000\n",
      "         t=500000/1000000\n",
      "         t=600000/1000000\n",
      "         t=700000/1000000\n",
      "         t=800000/1000000\n",
      "         t=900000/1000000\n",
      "         t=1000000/1000000\n",
      "Ponderacion numero 3/10\n",
      "         t=100000/1000000\n",
      "         t=200000/1000000\n",
      "         t=300000/1000000\n",
      "         t=400000/1000000\n",
      "         t=500000/1000000\n",
      "         t=600000/1000000\n",
      "         t=700000/1000000\n",
      "         t=800000/1000000\n",
      "         t=900000/1000000\n",
      "         t=1000000/1000000\n",
      "Ponderacion numero 4/10\n",
      "         t=100000/1000000\n",
      "         t=200000/1000000\n",
      "         t=300000/1000000\n",
      "         t=400000/1000000\n",
      "         t=500000/1000000\n",
      "         t=600000/1000000\n",
      "         t=700000/1000000\n",
      "         t=800000/1000000\n",
      "         t=900000/1000000\n",
      "         t=1000000/1000000\n",
      "Ponderacion numero 5/10\n",
      "         t=100000/1000000\n",
      "         t=200000/1000000\n",
      "         t=300000/1000000\n",
      "         t=400000/1000000\n",
      "         t=500000/1000000\n",
      "         t=600000/1000000\n",
      "         t=700000/1000000\n",
      "         t=800000/1000000\n",
      "         t=900000/1000000\n",
      "         t=1000000/1000000\n",
      "Ponderacion numero 6/10\n",
      "         t=100000/1000000\n",
      "         t=200000/1000000\n",
      "         t=300000/1000000\n",
      "         t=400000/1000000\n",
      "         t=500000/1000000\n",
      "         t=600000/1000000\n",
      "         t=700000/1000000\n",
      "         t=800000/1000000\n",
      "         t=900000/1000000\n",
      "         t=1000000/1000000\n",
      "Ponderacion numero 7/10\n",
      "         t=100000/1000000\n",
      "         t=200000/1000000\n",
      "         t=300000/1000000\n",
      "         t=400000/1000000\n",
      "         t=500000/1000000\n",
      "         t=600000/1000000\n",
      "         t=700000/1000000\n",
      "         t=800000/1000000\n",
      "         t=900000/1000000\n",
      "         t=1000000/1000000\n",
      "Ponderacion numero 8/10\n",
      "         t=100000/1000000\n",
      "         t=200000/1000000\n",
      "         t=300000/1000000\n",
      "         t=400000/1000000\n",
      "         t=500000/1000000\n",
      "         t=600000/1000000\n",
      "         t=700000/1000000\n",
      "         t=800000/1000000\n",
      "         t=900000/1000000\n",
      "         t=1000000/1000000\n",
      "Ponderacion numero 9/10\n",
      "         t=100000/1000000\n",
      "         t=200000/1000000\n",
      "         t=300000/1000000\n",
      "         t=400000/1000000\n",
      "         t=500000/1000000\n",
      "         t=600000/1000000\n",
      "         t=700000/1000000\n",
      "         t=800000/1000000\n",
      "         t=900000/1000000\n",
      "         t=1000000/1000000\n",
      "Ponderacion numero 10/10\n",
      "         t=100000/1000000\n",
      "         t=200000/1000000\n",
      "         t=300000/1000000\n",
      "         t=400000/1000000\n",
      "         t=500000/1000000\n",
      "         t=600000/1000000\n",
      "         t=700000/1000000\n",
      "         t=800000/1000000\n",
      "         t=900000/1000000\n",
      "         t=1000000/1000000\n"
     ]
    }
   ],
   "source": [
    "N = 251\n",
    "M = 8\n",
    "T = 1000000\n",
    "pol_list=[]\n",
    "for i in range(10):\n",
    "    print('Ponderacion numero {}/{}'.format(i+1,10))\n",
    "    t,A,pol = one_simulation_variables(N,2,M,T,imprime=100000)\n",
    "    pol = pol[pol>0]\n",
    "    for j in list(pol):\n",
    "        pol_list.append(j)"
   ]
  },
  {
   "cell_type": "code",
   "execution_count": 24,
   "metadata": {},
   "outputs": [
    {
     "data": {
      "text/plain": [
       "array([2.6182e-02, 4.0000e-06, 1.4000e-05, ..., 2.6910e-02, 4.0000e-05,\n",
       "       3.4766e-02])"
      ]
     },
     "execution_count": 24,
     "metadata": {},
     "output_type": "execute_result"
    }
   ],
   "source": [
    "polpol = np.array(pol_list)/T\n",
    "polpol"
   ]
  },
  {
   "cell_type": "code",
   "execution_count": 83,
   "metadata": {},
   "outputs": [
    {
     "data": {
      "image/png": "[encoded data removed]",
      "text/plain": [
       "<Figure size 432x288 with 1 Axes>"
      ]
     },
     "metadata": {
      "needs_background": "light"
     },
     "output_type": "display_data"
    }
   ],
   "source": [
    "fig, ax = plt.subplots()\n",
    "ax.hist(polpol,bins = 10**np.linspace(np.log10(min(polpol)),np.log10(max(polpol)),50),alpha=0.5, histtype='step')#,density=True)\n",
    "ax.set_yscale('log')\n",
    "ax.set_xscale('log')\n",
    "ax.set_xlabel('v')\n",
    "ax.set_ylabel('D(v)')\n",
    "ax.set_xlim()\n",
    "fig.savefig(\"D(v)_vs_v_2.png\")"
   ]
  },
  {
   "cell_type": "code",
   "execution_count": 88,
   "metadata": {},
   "outputs": [
    {
     "data": {
      "image/png": "[encoded data removed]",
      "text/plain": [
       "<Figure size 432x288 with 1 Axes>"
      ]
     },
     "metadata": {
      "needs_background": "light"
     },
     "output_type": "display_data"
    }
   ],
   "source": [
    "def plot_loghist(x, bins):\n",
    "    hist, bins = np.histogram(x, bins=bins)\n",
    "    logbins = np.logspace(np.log10(bins[0]),np.log10(bins[-1]),len(bins))\n",
    "    plt.hist(x, bins=logbins, histtype='step')\n",
    "    plt.xscale('log')\n",
    "    plt.xlabel('v')\n",
    "    plt.ylabel('D(v)')\n",
    "plot_loghist(polpol,30)\n",
    "plt.savefig(\"D(v)_vs_v_3_sinylog_.png\")"
   ]
  }
 ],
 "metadata": {
  "kernelspec": {
   "display_name": "Documentos",
   "language": "python",
   "name": "documentos"
  },
  "language_info": {
   "codemirror_mode": {
    "name": "ipython",
    "version": 3
   },
   "file_extension": ".py",
   "mimetype": "text/x-python",
   "name": "python",
   "nbconvert_exporter": "python",
   "pygments_lexer": "ipython3",
   "version": "3.5.2"
  }
 },
 "nbformat": 4,
 "nbformat_minor": 2
}
