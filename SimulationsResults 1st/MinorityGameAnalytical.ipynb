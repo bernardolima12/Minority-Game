{
 "cells": [
  {
   "cell_type": "code",
   "execution_count": 1,
   "metadata": {},
   "outputs": [],
   "source": [
    "import numpy as np\n",
    "import matplotlib.pyplot as plt\n",
    "from scipy.optimize import fsolve\n",
    "from scipy import special"
   ]
  },
  {
   "cell_type": "code",
   "execution_count": 123,
   "metadata": {},
   "outputs": [],
   "source": [
    "func1 = lambda dseta : np.sqrt(2/np.pi)*np.exp(-dseta**2/2)/dseta+special.erf(dseta/np.sqrt(2))-(1-c)**-1"
   ]
  },
  {
   "cell_type": "code",
   "execution_count": 124,
   "metadata": {},
   "outputs": [],
   "source": [
    "func2 = lambda dseta2 : np.sqrt(2/np.pi)*np.exp(-dseta2**2/2)/dseta2+special.erf(dseta2/np.sqrt(2))-x"
   ]
  },
  {
   "cell_type": "code",
   "execution_count": null,
   "metadata": {},
   "outputs": [],
   "source": [
    "c = np.linspace(0.1,0.9,100)\n",
    "x = np.linspace(0.1,5,200)"
   ]
  },
  {
   "cell_type": "code",
   "execution_count": null,
   "metadata": {},
   "outputs": [],
   "source": [
    "fig, ax = plt.subplots()\n",
    "ax.plot(c, func1(c), '-', label = 'func(c)')\n",
    "ax.plot(x, func2(x), '-', label = r'func( (1+$rho$)/(1-c) )')\n",
    "ax.set_xlabel(r'$c$')\n",
    "ax.set_ylabel(r'$func$')\n",
    "ax.legend(loc=0)"
   ]
  },
  {
   "cell_type": "code",
   "execution_count": 125,
   "metadata": {},
   "outputs": [
    {
     "name": "stdout",
     "output_type": "stream",
     "text": [
      "[0.33740019]\n"
     ]
    }
   ],
   "source": [
    "alpha_c = []\n",
    "ces = [0.001*i for i in range(990)]\n",
    "for c in ces:\n",
    "    dseta_guess = 0.5\n",
    "    dseta = fsolve(func1, dseta_guess)\n",
    "    alpha_c.append(special.erf(dseta[0]/np.sqrt(2)))\n",
    "    if c == 0.5:\n",
    "        print(special.erf(dseta/np.sqrt(2)))"
   ]
  },
  {
   "cell_type": "code",
   "execution_count": 129,
   "metadata": {},
   "outputs": [],
   "source": [
    "alpha_rho = []\n",
    "exis = np.linspace(1,5,100)\n",
    "for x in exis:\n",
    "    dseta_guess = 0.5\n",
    "    dseta2 = fsolve(func2, dseta_guess)\n",
    "    alpha_rho.append(special.erf(dseta2/np.sqrt(2)))\n",
    "    if x == 0.5:\n",
    "        print(special.erf(dseta2/np.sqrt(2)))"
   ]
  },
  {
   "cell_type": "code",
   "execution_count": 362,
   "metadata": {},
   "outputs": [
    {
     "data": {
      "image/png": "[encoded data removed]",
      "text/plain": [
       "<Figure size 720x288 with 2 Axes>"
      ]
     },
     "metadata": {
      "needs_background": "light"
     },
     "output_type": "display_data"
    }
   ],
   "source": [
    "fig, ax = plt.subplots(1,2, figsize=(10,4))\n",
    "\n",
    "ax[0].tick_params(which='both',\n",
    "                  labelbottom=True,\n",
    "                  labeltop=False,\n",
    "                  labelleft=True,\n",
    "                  labelright=False,\n",
    "                  bottom=True,\n",
    "                  top=False,\n",
    "                  left=True,\n",
    "                  right=False)\n",
    "ax[1].tick_params(which='both',\n",
    "                  labelbottom=True,\n",
    "                  labeltop=False,\n",
    "                  labelleft=True,\n",
    "                  labelright=False,\n",
    "                  bottom=True,\n",
    "                  top=False,\n",
    "                  left=True,\n",
    "                  right=False)\n",
    "\n",
    "\n",
    "ax[0].set(xlabel='c', ylabel=r'$\\alpha$', xlim=[0,1], ylim=[0,1])\n",
    "ax[0].set_yticks([0, 0.337, 0.5, 1])\n",
    "ax[0].set_yticklabels(['0', r'$\\alpha_{cs}$', '0.5', '1'])\n",
    "ax[0].set_xticks([0, 0.5, 1])\n",
    "ax[0].set_xticklabels(['0', r'$c_s=0.5$', '1'])\n",
    "\n",
    "ax[0].axvline(x=0.5, color='k', alpha=0.2, linestyle='--')\n",
    "ax[0].axhline(y=0.337, color='k', alpha=0.2, linestyle='--')\n",
    "ax[0].plot(ces, alpha_c, zorder=-1,ls ='-', color= 'indianred',lw=3)\n",
    "ax[0].plot(0.5,0.337, zorder=1, marker='o',ms=7, mec='k', mfc='k')\n",
    "ax[0].text(x=0.15,y=0.15,s='Symmetric region', fontsize=15)\n",
    "ax[0].text(x=0.35,y=0.6,s='Asymmetric region', fontsize=15)\n",
    "\n",
    "ax[1].set(xlabel=r'$(1+\\rho)/(1-c)$', ylabel=r'$\\alpha$', xlim=[1,5], ylim=[0,1])\n",
    "ax[1].set_yticks([0, 0.5, 1])\n",
    "ax[1].set_yticklabels(['0', '0.5', '1'])\n",
    "ax[1].set_xticks([1, 3, 5])\n",
    "ax[1].set_xticklabels(['1', '3', '5'])\n",
    "\n",
    "ax[1].axvline(x=2, color='k', alpha=0.2, linestyle='--')\n",
    "ax[1].axhline(y=0.337, color='k', alpha=0.2, linestyle='--')\n",
    "ax[1].plot(np.array(exis), alpha_rho, zorder=-1,ls ='-', color= 'indianred',lw=3)\n",
    "ax[1].plot(2,0.337, zorder=1, marker='o',ms=7, mec='k', mfc='k')\n",
    "ax[1].text(x=1.55,y=0.1,s='Symmetric region', fontsize=15)\n",
    "ax[1].text(x=2.3,y=0.6,s='Asymmetric region', fontsize=15)\n",
    "\n",
    "filename = 'phase_diagram_alpha_c_rho.png'\n",
    "#fig.savefig(filename, bbox_inches='tight')"
   ]
  },
  {
   "cell_type": "markdown",
   "metadata": {},
   "source": [
    "## - New trial from 18-aug forward for Np Ns transition line"
   ]
  },
  {
   "cell_type": "markdown",
   "metadata": {},
   "source": [
    "### See variation of $\\alpha$ if we vary Np (alpha_Np) or Ns (alpha_Ns)"
   ]
  },
  {
   "cell_type": "code",
   "execution_count": 61,
   "metadata": {},
   "outputs": [],
   "source": [
    "func3 = lambda dseta3, Np : (np.sqrt(2/np.pi)*np.exp(-dseta3**2/2)/dseta3+special.erf(dseta3/np.sqrt(2))-(1+Np))\n",
    "alpha_Ns = []\n",
    "Nprods = np.linspace(0.000001,10,1000)\n",
    "for Np in Nprods:\n",
    "    dseta_guess = 0.5\n",
    "    dseta3 = fsolve(func3, dseta_guess, args=(Np))\n",
    "    alpha_Np.append(special.erf(dseta3[0]/np.sqrt(2)))"
   ]
  },
  {
   "cell_type": "code",
   "execution_count": 3,
   "metadata": {},
   "outputs": [
    {
     "data": {
      "text/plain": [
       "array([0.99998005, 0.94857944, 0.91524673, 0.88791374, 0.86422567,\n",
       "       0.84310819, 0.82394825, 0.80635164, 0.7900449 , 0.77482804])"
      ]
     },
     "execution_count": 3,
     "metadata": {},
     "output_type": "execute_result"
    }
   ],
   "source": [
    "alpha_Np = np.array(alpha_Np)\n",
    "alpha_Np[:10]"
   ]
  },
  {
   "cell_type": "code",
   "execution_count": null,
   "metadata": {},
   "outputs": [],
   "source": []
  },
  {
   "cell_type": "code",
   "execution_count": 52,
   "metadata": {},
   "outputs": [],
   "source": [
    "func4 = lambda dseta4, rho : (np.sqrt(2/np.pi)*np.exp(-dseta4**2/2)/dseta4+special.erf(\n",
    "                                    dseta4/np.sqrt(2))-(1+rho))\n",
    "cuantos = 1000\n",
    "alpha_rho = np.zeros(cuantos)\n",
    "rhos = np.linspace(0.000001,6,cuantos)\n",
    "i = -1\n",
    "for rho in rhos:\n",
    "    i += 1\n",
    "    dseta_guess = 0.5\n",
    "    dseta4 = fsolve(func4, dseta_guess, args=(rho))\n",
    "    alpha_rho[i] = special.erf(dseta4[0]/np.sqrt(2))"
   ]
  },
  {
   "cell_type": "code",
   "execution_count": 58,
   "metadata": {},
   "outputs": [
    {
     "data": {
      "text/plain": [
       "array([1.00001995, 1.03632347, 1.06245788, 1.08540684, 1.10647266,\n",
       "       1.12623552, 1.14502047, 1.16303338, 1.18041523, 1.197268  ])"
      ]
     },
     "execution_count": 58,
     "metadata": {},
     "output_type": "execute_result"
    }
   ],
   "source": [
    "1/alpha_rho[:10]"
   ]
  },
  {
   "cell_type": "code",
   "execution_count": 57,
   "metadata": {},
   "outputs": [
    {
     "data": {
      "text/plain": [
       "array([1.00000000e+06, 1.66472310e+02, 8.32430839e+01, 5.54969292e+01,\n",
       "       4.16232744e+01, 3.32988967e+01, 2.77492346e+01, 2.37851525e+01,\n",
       "       2.08120703e+01, 1.84996608e+01])"
      ]
     },
     "execution_count": 57,
     "metadata": {},
     "output_type": "execute_result"
    }
   ],
   "source": [
    "1/rhos[:10]"
   ]
  },
  {
   "cell_type": "code",
   "execution_count": null,
   "metadata": {},
   "outputs": [],
   "source": [
    "rhos[1]-rhos[0]"
   ]
  },
  {
   "cell_type": "code",
   "execution_count": null,
   "metadata": {},
   "outputs": [],
   "source": []
  },
  {
   "cell_type": "code",
   "execution_count": 63,
   "metadata": {},
   "outputs": [],
   "source": [
    "func4 = lambda dseta4, Ns : (np.sqrt(2/np.pi)*np.exp(-dseta4**2/2)/dseta4+special.erf(dseta4/np.sqrt(2))-(1+1/Ns))\n",
    "alpha_Ns = []\n",
    "Nspecs = np.linspace(1.000001,10,1000)\n",
    "for Ns in Nspecs:\n",
    "    dseta_guess = 0.5\n",
    "    dseta4 = fsolve(func4, dseta_guess, args=(Ns))\n",
    "    alpha_Ns.append(special.erf(dseta4[0]/np.sqrt(2)))"
   ]
  },
  {
   "cell_type": "code",
   "execution_count": null,
   "metadata": {},
   "outputs": [],
   "source": []
  },
  {
   "cell_type": "code",
   "execution_count": null,
   "metadata": {},
   "outputs": [],
   "source": []
  },
  {
   "cell_type": "code",
   "execution_count": 64,
   "metadata": {},
   "outputs": [],
   "source": [
    "alpha_Ns = np.array(alpha_Ns)\n",
    "alpha_Ns[:10]\n",
    "alphaNs = alpha_Ns[::-1]"
   ]
  },
  {
   "cell_type": "code",
   "execution_count": 65,
   "metadata": {},
   "outputs": [],
   "source": [
    "alphaNs = alphaNs/alphaNs[0]"
   ]
  },
  {
   "cell_type": "markdown",
   "metadata": {},
   "source": [
    "### Increments for alpha_Np and alpha_Ns"
   ]
  },
  {
   "cell_type": "code",
   "execution_count": 220,
   "metadata": {},
   "outputs": [],
   "source": [
    "increm_alpha_Np = alpha_Np[:-1]-alpha_Np[1:]"
   ]
  },
  {
   "cell_type": "code",
   "execution_count": 221,
   "metadata": {},
   "outputs": [
    {
     "data": {
      "text/plain": [
       "array([0.05140061, 0.03333271, 0.02733299, 0.02368807, 0.02111749,\n",
       "       0.01915994, 0.01759661, 0.01630674, 0.01521686, 0.01427906])"
      ]
     },
     "execution_count": 221,
     "metadata": {},
     "output_type": "execute_result"
    }
   ],
   "source": [
    "increm_alpha_Np[:10]"
   ]
  },
  {
   "cell_type": "code",
   "execution_count": 222,
   "metadata": {},
   "outputs": [],
   "source": [
    "increm_alpha_Ns = alpha_Ns[1:]-alpha_Ns[:-1]"
   ]
  },
  {
   "cell_type": "code",
   "execution_count": 223,
   "metadata": {
    "scrolled": true
   },
   "outputs": [
    {
     "data": {
      "text/plain": [
       "array([0.00170901, 0.00169684, 0.00168482, 0.00167295, 0.00166122,\n",
       "       0.00164963, 0.00163818, 0.00162687, 0.00161568, 0.00160463])"
      ]
     },
     "execution_count": 223,
     "metadata": {},
     "output_type": "execute_result"
    }
   ],
   "source": [
    "increm_alpha_Ns[:10]"
   ]
  },
  {
   "cell_type": "markdown",
   "metadata": {},
   "source": [
    "### Total lenght of the increment vectors"
   ]
  },
  {
   "cell_type": "code",
   "execution_count": 224,
   "metadata": {},
   "outputs": [
    {
     "data": {
      "text/plain": [
       "(999, 999)"
      ]
     },
     "execution_count": 224,
     "metadata": {},
     "output_type": "execute_result"
    }
   ],
   "source": [
    "len(increm_alpha_Ns), len(increm_alpha_Np)"
   ]
  },
  {
   "cell_type": "markdown",
   "metadata": {},
   "source": [
    "### When alpha_Ns changes slower than alpha_Np:  the first 259"
   ]
  },
  {
   "cell_type": "code",
   "execution_count": 225,
   "metadata": {
    "scrolled": true
   },
   "outputs": [
    {
     "data": {
      "text/plain": [
       "259"
      ]
     },
     "execution_count": 225,
     "metadata": {},
     "output_type": "execute_result"
    }
   ],
   "source": [
    "len(increm_alpha_Ns[increm_alpha_Ns < increm_alpha_Np])"
   ]
  },
  {
   "cell_type": "markdown",
   "metadata": {},
   "source": [
    "### When alpha_Np changes faster than alpha_Np:  the last 740"
   ]
  },
  {
   "cell_type": "code",
   "execution_count": 226,
   "metadata": {
    "scrolled": true
   },
   "outputs": [
    {
     "data": {
      "text/plain": [
       "740"
      ]
     },
     "execution_count": 226,
     "metadata": {},
     "output_type": "execute_result"
    }
   ],
   "source": [
    "len(increm_alpha_Ns[increm_alpha_Ns > increm_alpha_Np])"
   ]
  },
  {
   "cell_type": "markdown",
   "metadata": {},
   "source": [
    "### How much I have to increase Ns for compensate the increase in alfa induced by the increase of Np?"
   ]
  },
  {
   "cell_type": "code",
   "execution_count": 117,
   "metadata": {},
   "outputs": [],
   "source": [
    "increm = Nspecs[100]-Nspecs[99]\n",
    "NS = [1]\n",
    "NP = [0]\n",
    "for i in range(len(Nspecs)-1):\n",
    "    if i > 0:\n",
    "        NS.append(NS[-1]+inc_np*inc_mul_s/inc_mul_p)"
   ]
  },
  {
   "cell_type": "code",
   "execution_count": 155,
   "metadata": {},
   "outputs": [],
   "source": [
    "#alpha_Ns"
   ]
  },
  {
   "cell_type": "code",
   "execution_count": 135,
   "metadata": {},
   "outputs": [
    {
     "data": {
      "text/plain": [
       "[<matplotlib.lines.Line2D at 0x7f91848ea908>]"
      ]
     },
     "execution_count": 135,
     "metadata": {},
     "output_type": "execute_result"
    },
    {
     "data": {
      "image/png": "[encoded data removed]",
      "text/plain": [
       "<Figure size 432x288 with 1 Axes>"
      ]
     },
     "metadata": {
      "needs_background": "light"
     },
     "output_type": "display_data"
    }
   ],
   "source": [
    "fig,ax=plt.subplots()\n",
    "ax.plot(Nspecs, alpha_Ns, ls ='-', color= 'indianred', lw=3)"
   ]
  },
  {
   "cell_type": "code",
   "execution_count": 134,
   "metadata": {},
   "outputs": [
    {
     "data": {
      "text/plain": [
       "[<matplotlib.lines.Line2D at 0x7f91847b6a90>]"
      ]
     },
     "execution_count": 134,
     "metadata": {},
     "output_type": "execute_result"
    },
    {
     "data": {
      "image/png": "[encoded data removed]",
      "text/plain": [
       "<Figure size 432x288 with 1 Axes>"
      ]
     },
     "metadata": {
      "needs_background": "light"
     },
     "output_type": "display_data"
    }
   ],
   "source": [
    "fig,ax=plt.subplots()\n",
    "ax.plot(Nprods, alpha_Np, ls ='-', color= 'indianred', lw=3)"
   ]
  },
  {
   "cell_type": "code",
   "execution_count": 67,
   "metadata": {},
   "outputs": [
    {
     "data": {
      "text/plain": [
       "[<matplotlib.lines.Line2D at 0x7fa7f960f128>]"
      ]
     },
     "execution_count": 67,
     "metadata": {},
     "output_type": "execute_result"
    },
    {
     "data": {
      "image/png": "[encoded data removed]",
      "text/plain": [
       "<Figure size 432x432 with 1 Axes>"
      ]
     },
     "metadata": {
      "needs_background": "light"
     },
     "output_type": "display_data"
    }
   ],
   "source": [
    "fig, ax = plt.subplots(figsize=(6,6))\n",
    "\n",
    "ax.tick_params(which='both',\n",
    "                  labelbottom=True,\n",
    "                  labeltop=False,\n",
    "                  labelleft=True,\n",
    "                  labelright=False,\n",
    "                  bottom=True,\n",
    "                  top=False,\n",
    "                  left=True,\n",
    "                  right=False)\n",
    "ax.tick_params(which='both',\n",
    "                  labelbottom=True,\n",
    "                  labeltop=False,\n",
    "                  labelleft=True,\n",
    "                  labelright=False,\n",
    "                  bottom=True,\n",
    "                  top=False,\n",
    "                  left=True,\n",
    "                  right=False)\n",
    "\n",
    "\n",
    "#ax.set(xlabel=r'$N_{prods}/2^M$', ylabel=r'$N_{spec}/2^M$', xlim=[0,6], ylim=[0,4])\n",
    "\n",
    "#ax.axvline(x=0.5, color='k', alpha=0.2, linestyle='--')\n",
    "#ax.axhline(y=0.337, color='k', alpha=0.2, linestyle='--')\n",
    "ax.plot(1/alpha_Ns**2, alpha_Np, zorder=-1,ls ='-', color= 'indianred',lw=3)\n",
    "#ax.plot(0.5,0.337, zorder=1, marker='o',ms=7, mec='k', mfc='k')\n",
    "#ax.text(x=0.15,y=0.15,s='Symmetric region', fontsize=15)\n",
    "#ax.text(x=0.35,y=0.6,s='Asymmetric region', fontsize=15)"
   ]
  },
  {
   "cell_type": "code",
   "execution_count": null,
   "metadata": {},
   "outputs": [],
   "source": []
  },
  {
   "cell_type": "code",
   "execution_count": null,
   "metadata": {},
   "outputs": [],
   "source": []
  }
 ],
 "metadata": {
  "kernelspec": {
   "display_name": "Documentos",
   "language": "python",
   "name": "documentos"
  },
  "language_info": {
   "codemirror_mode": {
    "name": "ipython",
    "version": 3
   },
   "file_extension": ".py",
   "mimetype": "text/x-python",
   "name": "python",
   "nbconvert_exporter": "python",
   "pygments_lexer": "ipython3",
   "version": "3.5.2"
  }
 },
 "nbformat": 4,
 "nbformat_minor": 2
}
