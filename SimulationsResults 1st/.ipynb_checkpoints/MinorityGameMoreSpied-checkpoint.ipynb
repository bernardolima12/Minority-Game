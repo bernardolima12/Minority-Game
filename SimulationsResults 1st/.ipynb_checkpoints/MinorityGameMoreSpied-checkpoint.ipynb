{
 "cells": [
  {
   "cell_type": "code",
   "execution_count": 139,
   "metadata": {},
   "outputs": [],
   "source": [
    "import numpy as np\n",
    "import matplotlib.pyplot as plt\n",
    "import matplotlib.ticker as ticker\n",
    "from matplotlib.ticker import MultipleLocator\n",
    "from mygame_functions import GameSimulationSpy"
   ]
  },
  {
   "cell_type": "markdown",
   "metadata": {},
   "source": [
    "# - Simulation"
   ]
  },
  {
   "cell_type": "code",
   "execution_count": 162,
   "metadata": {},
   "outputs": [
    {
     "data": {
      "text/plain": [
       "[1, 3, 5, 7, 9, 11, 21, 31, 41, 51, 61, 71, 81, 91, 101]"
      ]
     },
     "execution_count": 162,
     "metadata": {},
     "output_type": "execute_result"
    }
   ],
   "source": [
    "Nspied = [(2 * i + 1) for i in range(5)]\n",
    "Nspied.extend([(10 * i + 11) for i in range(10)])\n",
    "Nspied"
   ]
  },
  {
   "cell_type": "code",
   "execution_count": null,
   "metadata": {
    "scrolled": true
   },
   "outputs": [],
   "source": [
    "N = 1000\n",
    "M = 7\n",
    "numponderas = 30\n",
    "imprimecada = 10\n",
    "GS = []\n",
    "GSPY = []\n",
    "rango_s = 26\n",
    "for NB in Nspied:\n",
    "    print(\"        ----------------------\")\n",
    "    print(\"        NB = {}        ({}/{})\".format(NB, Nspied.index(NB)+1, len(Nspied)))\n",
    "    print(\"        ----------------------\")\n",
    "    gs = 0\n",
    "    gspy = 0\n",
    "    for i in range(numponderas):\n",
    "        gains, gainspy = GameSimulationSpy(N, M, NB, T=12000)\n",
    "        gs += gains\n",
    "        gspy += gainspy\n",
    "        if (i + 1) % imprimecada == 0:\n",
    "            print('      ---> Ponderacion nº {}/{}'.format(i + 1, numponderas))\n",
    "            print('      NB = {}            ({}/{})'.format(NB, Nspied.index(NB)+1, len(Nspied)))\n",
    "            print('             <Gs> = {:.3f}'.format(gs / (i + 1)))\n",
    "            print('             <Gspy> = {:.3f}'.format(gspy / (i + 1)))\n",
    "            print(' ')\n",
    "    GS.append(gs / numponderas)\n",
    "    GSPY.append(gspy / numponderas)\n",
    "    print('Remembering')\n",
    "    print(\"NB    = \", Nspied[:(Nspied.index(NB)+1)])\n",
    "    print('G_s   = ', GS)\n",
    "    print('G_spy = ', GSPY)"
   ]
  },
  {
   "cell_type": "markdown",
   "metadata": {},
   "source": [
    "# - Write to file"
   ]
  },
  {
   "cell_type": "code",
   "execution_count": 39,
   "metadata": {},
   "outputs": [],
   "source": [
    "file_name = \"GainALL_GainSPYvsNSPIED\" + str(N) + \"N_\" + str(M) + 'M_' + str(numponderas) + \"numponderas\"\n",
    "with open('{}.dat'.format(file_name), 'w') as file:\n",
    "    for i in range(len(Nspied)):\n",
    "        file.write('{} {} {}\\n'.format(Nspied[i], GS[i], GSPY[i]))"
   ]
  },
  {
   "cell_type": "markdown",
   "metadata": {},
   "source": [
    "# - Read all files"
   ]
  },
  {
   "cell_type": "code",
   "execution_count": 59,
   "metadata": {},
   "outputs": [],
   "source": [
    "N = 856\n",
    "M = 7\n",
    "numponderas = 500\n",
    "file_name = \"GainALL_GainSPYvsNSPIED\" + str(N) + \"N_\" + str(M) + 'M_' + str(numponderas) + \"numponderas\"\n",
    "Nspied0 = []\n",
    "GS0 = []\n",
    "GSPY0 = []\n",
    "with open('{}.dat'.format(file_name), 'r') as file:\n",
    "    for line in file:\n",
    "        value = line.split()\n",
    "        value[2].split('\\n')\n",
    "        Nspied0.append(float(value[0]))\n",
    "        GS0.append(float(value[1]))\n",
    "        GSPY0.append(float(value[2]))"
   ]
  },
  {
   "cell_type": "code",
   "execution_count": 42,
   "metadata": {},
   "outputs": [],
   "source": [
    "file_name = 'gainS_SPY__vs__spied_0.15alpha_7M_100ponds'\n",
    "Nspied1 = []\n",
    "GS1 = []\n",
    "GSPY1 = []\n",
    "with open('{}.dat'.format(file_name), 'r') as file:\n",
    "    for line in file:\n",
    "        value = line.split()\n",
    "        value[2].split('\\n')\n",
    "        Nspied1.append(float(value[0]))\n",
    "        GS1.append(float(value[1]))\n",
    "        GSPY1.append(float(value[2]))"
   ]
  },
  {
   "cell_type": "markdown",
   "metadata": {},
   "source": [
    "# - Figures"
   ]
  },
  {
   "cell_type": "code",
   "execution_count": 161,
   "metadata": {},
   "outputs": [
    {
     "data": {
      "image/png": "[encoded data removed]",
      "text/plain": [
       "<Figure size 576x432 with 2 Axes>"
      ]
     },
     "metadata": {
      "needs_background": "light"
     },
     "output_type": "display_data"
    }
   ],
   "source": [
    "fig, ax = plt.subplots(figsize = (8,6))\n",
    "\n",
    "ax.set(xscale='log', ylim = [-0.9, 0])\n",
    "ax.set_ylabel(r\"<$G_i$>\", fontsize='large')\n",
    "\n",
    "ax.xaxis.set_major_formatter(ticker.FuncFormatter(lambda x, pos: ('{{:.{:1d}f}}'.format(\n",
    "                                                        int(np.maximum(-np.log10(x), 0)))).format(x)))\n",
    "ax.yaxis.set_minor_locator(MultipleLocator(0.1))\n",
    "ax.tick_params(which='minor', direction = 'inout', length=3, width=1.2,\n",
    "              labelbottom=True, labeltop=False, labelleft=True, labelright=False,\n",
    "                  bottom=True, top=True, left=True, right=True)\n",
    "\n",
    "ax.tick_params(which='major', length=5, width = 2, direction = 'inout', \n",
    "                  labelbottom=False, labeltop=False, labelleft=True, labelright=False,\n",
    "                  bottom=True, top=True, left=True, right=True)\n",
    "\n",
    "\n",
    "axin = fig.add_axes([0.125, -0.25, 0.777, 0.3])\n",
    "\n",
    "axin.set(xscale='log', ylim = [-1.85,-1.1])\n",
    "axin.set_ylabel(r\"<$G_i$>\", fontsize='large')\n",
    "axin.set_xlabel(r\"$N_B$\", fontsize='large')\n",
    "\n",
    "axin.tick_params(which='major', length=5, width = 2, direction = 'inout', \n",
    "                  labelbottom=True, labeltop=False, labelleft=True, labelright=False,\n",
    "                  bottom=True, top=True, left=True, right=True)\n",
    "axin.xaxis.set_major_formatter(ticker.FuncFormatter(lambda x, pos: ('{{:.{:1d}f}}'.format(\n",
    "                                                 int(np.maximum(-np.log10(x), 0)))).format(x)))\n",
    "axin.yaxis.set_minor_locator(MultipleLocator(0.1))\n",
    "axin.tick_params(which='minor', direction = 'inout', length=3, width=1.2,\n",
    "              labelbottom=True, labeltop=False, labelleft=True, labelright=False,\n",
    "                  bottom=True, top=True, left=True, right=True)\n",
    "\n",
    "lin, = ax.plot(Nspied0, GSPY0, lw=1.5, ls = '-', color = 'k', alpha=.6)\n",
    "mark, = ax.plot(Nspied0, GSPY0, ls = '', marker='s', ms = 7, alpha=.8, mec='crimson', mfc='crimson')\n",
    "\n",
    "#ax.plot(Nspied, GS, lw=1.5, ls = '-', color = 'k', alpha=.6)\n",
    "#ax.plot(Nspied, GS, ls = '', marker='s', ms = 7, alpha=.8, mec='blue', mfc='blue')\n",
    "\n",
    "lin1, = axin.plot(Nspied0, GS0, lw=1.5, ls = '-', color = 'k', alpha=.6)\n",
    "mark1, = axin.plot(Nspied0, GS0, ls = '', marker='o', ms = 7, alpha=.8, mec='crimson', mfc='crimson')\n",
    "\n",
    "#ax.plot(Nspied, GSPY, lw=1.5, ls = '-', color = 'k', alpha=.6)\n",
    "#ax.plot(Nspied, GSPY, ls = '', marker='s', ms = 7, alpha=.8, mec='blue', mfc='blue')\n",
    "\n",
    "yticks = [-0.8,-0.6,-0.4,-0.2, 0]\n",
    "ax.set_yticks(yticks)\n",
    "ax.set_yticklabels([str(i) for i in yticks])\n",
    "\n",
    "yticks1 = [-1.8, -1.6, -1.4, -1.2]\n",
    "axin.set_yticks(yticks1)\n",
    "axin.set_yticklabels([str(i) for i in yticks1])\n",
    "\n",
    "#props = dict(boxstyle='round', facecolor='wheat', alpha=0.5)\n",
    "#ax.text(1.,-0.1, '   Spy   ', fontsize= 'large', bbox=props)\n",
    "\n",
    "labels = ['Spy', 'Spied']\n",
    "#ax.legend([(lin, mark), (lin1, mark1)], labels, loc=2)\n",
    "\n",
    "filename = \"GainSPYvsSPied_7M_856N_500ponds.png\"\n",
    "fig.savefig(filename, bbox_inches='tight')"
   ]
  }
 ],
 "metadata": {
  "kernelspec": {
   "display_name": "Documentos",
   "language": "python",
   "name": "documentos"
  },
  "language_info": {
   "codemirror_mode": {
    "name": "ipython",
    "version": 3
   },
   "file_extension": ".py",
   "mimetype": "text/x-python",
   "name": "python",
   "nbconvert_exporter": "python",
   "pygments_lexer": "ipython3",
   "version": "3.5.2"
  }
 },
 "nbformat": 4,
 "nbformat_minor": 2
}
