{
 "cells": [
  {
   "cell_type": "code",
   "execution_count": 2,
   "metadata": {},
   "outputs": [],
   "source": [
    "import numpy as np\n",
    "import matplotlib.pyplot as plt\n",
    "from scipy.optimize import fsolve\n",
    "from scipy import special"
   ]
  },
  {
   "cell_type": "code",
   "execution_count": 123,
   "metadata": {},
   "outputs": [],
   "source": [
    "func1 = lambda dseta : np.sqrt(2/np.pi)*np.exp(-dseta**2/2)/dseta+special.erf(dseta/np.sqrt(2))-(1-c)**-1"
   ]
  },
  {
   "cell_type": "code",
   "execution_count": 124,
   "metadata": {},
   "outputs": [],
   "source": [
    "func2 = lambda dseta2 : np.sqrt(2/np.pi)*np.exp(-dseta2**2/2)/dseta2+special.erf(dseta2/np.sqrt(2))-x"
   ]
  },
  {
   "cell_type": "code",
   "execution_count": null,
   "metadata": {},
   "outputs": [],
   "source": [
    "c = np.linspace(0.1,0.9,100)\n",
    "x = np.linspace(0.1,5,200)"
   ]
  },
  {
   "cell_type": "code",
   "execution_count": null,
   "metadata": {},
   "outputs": [],
   "source": [
    "fig, ax = plt.subplots()\n",
    "ax.plot(c, func1(c), '-', label = 'func(c)')\n",
    "ax.plot(x, func2(x), '-', label = r'func( (1+$rho$)/(1-c) )')\n",
    "ax.set_xlabel(r'$c$')\n",
    "ax.set_ylabel(r'$func$')\n",
    "ax.legend(loc=0)"
   ]
  },
  {
   "cell_type": "code",
   "execution_count": 125,
   "metadata": {},
   "outputs": [
    {
     "name": "stdout",
     "output_type": "stream",
     "text": [
      "[0.33740019]\n"
     ]
    }
   ],
   "source": [
    "alpha_c = []\n",
    "ces = [0.001*i for i in range(990)]\n",
    "for c in ces:\n",
    "    dseta_guess = 0.5\n",
    "    dseta = fsolve(func1, dseta_guess)\n",
    "    alpha_c.append(special.erf(dseta[0]/np.sqrt(2)))\n",
    "    if c == 0.5:\n",
    "        print(special.erf(dseta/np.sqrt(2)))"
   ]
  },
  {
   "cell_type": "code",
   "execution_count": 129,
   "metadata": {},
   "outputs": [],
   "source": [
    "alpha_rho = []\n",
    "exis = np.linspace(1,5,100)\n",
    "for x in exis:\n",
    "    dseta_guess = 0.5\n",
    "    dseta2 = fsolve(func2, dseta_guess)\n",
    "    alpha_rho.append(special.erf(dseta2/np.sqrt(2)))\n",
    "    if x == 0.5:\n",
    "        print(special.erf(dseta2/np.sqrt(2)))"
   ]
  },
  {
   "cell_type": "code",
   "execution_count": 362,
   "metadata": {},
   "outputs": [
    {
     "data": {
      "image/png": "[encoded data removed]",
      "text/plain": [
       "<Figure size 720x288 with 2 Axes>"
      ]
     },
     "metadata": {
      "needs_background": "light"
     },
     "output_type": "display_data"
    }
   ],
   "source": [
    "fig, ax = plt.subplots(1,2, figsize=(10,4))\n",
    "\n",
    "ax[0].tick_params(which='both',\n",
    "                  labelbottom=True,\n",
    "                  labeltop=False,\n",
    "                  labelleft=True,\n",
    "                  labelright=False,\n",
    "                  bottom=True,\n",
    "                  top=False,\n",
    "                  left=True,\n",
    "                  right=False)\n",
    "ax[1].tick_params(which='both',\n",
    "                  labelbottom=True,\n",
    "                  labeltop=False,\n",
    "                  labelleft=True,\n",
    "                  labelright=False,\n",
    "                  bottom=True,\n",
    "                  top=False,\n",
    "                  left=True,\n",
    "                  right=False)\n",
    "\n",
    "\n",
    "ax[0].set(xlabel='c', ylabel=r'$\\alpha$', xlim=[0,1], ylim=[0,1])\n",
    "ax[0].set_yticks([0, 0.337, 0.5, 1])\n",
    "ax[0].set_yticklabels(['0', r'$\\alpha_{cs}$', '0.5', '1'])\n",
    "ax[0].set_xticks([0, 0.5, 1])\n",
    "ax[0].set_xticklabels(['0', r'$c_s=0.5$', '1'])\n",
    "\n",
    "ax[0].axvline(x=0.5, color='k', alpha=0.2, linestyle='--')\n",
    "ax[0].axhline(y=0.337, color='k', alpha=0.2, linestyle='--')\n",
    "ax[0].plot(ces, alpha_c, zorder=-1,ls ='-', color= 'indianred',lw=3)\n",
    "ax[0].plot(0.5,0.337, zorder=1, marker='o',ms=7, mec='k', mfc='k')\n",
    "ax[0].text(x=0.15,y=0.15,s='Symmetric region', fontsize=15)\n",
    "ax[0].text(x=0.35,y=0.6,s='Asymmetric region', fontsize=15)\n",
    "\n",
    "ax[1].set(xlabel=r'$(1+\\rho)/(1-c)$', ylabel=r'$\\alpha$', xlim=[1,5], ylim=[0,1])\n",
    "ax[1].set_yticks([0, 0.5, 1])\n",
    "ax[1].set_yticklabels(['0', '0.5', '1'])\n",
    "ax[1].set_xticks([1, 3, 5])\n",
    "ax[1].set_xticklabels(['1', '3', '5'])\n",
    "\n",
    "ax[1].axvline(x=2, color='k', alpha=0.2, linestyle='--')\n",
    "ax[1].axhline(y=0.337, color='k', alpha=0.2, linestyle='--')\n",
    "ax[1].plot(np.array(exis), alpha_rho, zorder=-1,ls ='-', color= 'indianred',lw=3)\n",
    "ax[1].plot(2,0.337, zorder=1, marker='o',ms=7, mec='k', mfc='k')\n",
    "ax[1].text(x=1.55,y=0.1,s='Symmetric region', fontsize=15)\n",
    "ax[1].text(x=2.3,y=0.6,s='Asymmetric region', fontsize=15)\n",
    "\n",
    "filename = 'phase_diagram_alpha_c_rho.png'\n",
    "#fig.savefig(filename, bbox_inches='tight')"
   ]
  },
  {
   "cell_type": "markdown",
   "metadata": {},
   "source": [
    "## New trial from 18-aug for Np Ns transition line"
   ]
  },
  {
   "cell_type": "code",
   "execution_count": 368,
   "metadata": {},
   "outputs": [],
   "source": [
    "func3 = lambda dseta3, RHO : (np.sqrt(2/np.pi)*np.exp(-dseta3**2/2)/dseta3+special.erf(dseta3/np.sqrt(2))-(1+RHO))\n",
    "alpha_RHO = []\n",
    "Nprods = np.linspace(0.01,6,200)\n",
    "for RHO in Nprods:\n",
    "    dseta_guess = 0.5\n",
    "    dseta3 = fsolve(func3, dseta_guess, args=(RHO))\n",
    "    alpha_RHO.append(special.erf(dseta3[0]/np.sqrt(2)))"
   ]
  },
  {
   "cell_type": "code",
   "execution_count": 369,
   "metadata": {},
   "outputs": [
    {
     "data": {
      "text/plain": [
       "array([0.94862122, 0.86409339, 0.80613219, 0.7602718 , 0.72193962,\n",
       "       0.68889687, 0.65983224, 0.6338944 , 0.61049188, 0.58919345])"
      ]
     },
     "execution_count": 369,
     "metadata": {},
     "output_type": "execute_result"
    }
   ],
   "source": [
    "np.array(alpha_RHO)[:10]"
   ]
  },
  {
   "cell_type": "code",
   "execution_count": 383,
   "metadata": {},
   "outputs": [],
   "source": [
    "Nspecs = []\n",
    "for i in range(len(Nprods)):\n",
    "    alfa = alpha_RHO[i]\n",
    "    if i >0:\n",
    "        Nspecs.append(1/(1-alfa))"
   ]
  },
  {
   "cell_type": "code",
   "execution_count": 373,
   "metadata": {},
   "outputs": [
    {
     "data": {
      "text/plain": [
       "[<matplotlib.lines.Line2D at 0x7f483f9e3e10>]"
      ]
     },
     "execution_count": 373,
     "metadata": {},
     "output_type": "execute_result"
    },
    {
     "data": {
      "image/png": "[encoded data removed]",
      "text/plain": [
       "<Figure size 432x288 with 1 Axes>"
      ]
     },
     "metadata": {
      "needs_background": "light"
     },
     "output_type": "display_data"
    }
   ],
   "source": [
    "fig,ax=plt.subplots()\n",
    "ax.plot(Nprods, alpha_RHO, zorder=-1,ls ='-', color= 'indianred',lw=3)"
   ]
  },
  {
   "cell_type": "code",
   "execution_count": 384,
   "metadata": {},
   "outputs": [
    {
     "data": {
      "text/plain": [
       "[<matplotlib.lines.Line2D at 0x7f48401d1e80>]"
      ]
     },
     "execution_count": 384,
     "metadata": {},
     "output_type": "execute_result"
    },
    {
     "data": {
      "image/png": "[encoded data removed]",
      "text/plain": [
       "<Figure size 432x432 with 1 Axes>"
      ]
     },
     "metadata": {
      "needs_background": "light"
     },
     "output_type": "display_data"
    }
   ],
   "source": [
    "fig, ax = plt.subplots(figsize=(6,6))\n",
    "\n",
    "ax.tick_params(which='both',\n",
    "                  labelbottom=True,\n",
    "                  labeltop=False,\n",
    "                  labelleft=True,\n",
    "                  labelright=False,\n",
    "                  bottom=True,\n",
    "                  top=False,\n",
    "                  left=True,\n",
    "                  right=False)\n",
    "ax.tick_params(which='both',\n",
    "                  labelbottom=True,\n",
    "                  labeltop=False,\n",
    "                  labelleft=True,\n",
    "                  labelright=False,\n",
    "                  bottom=True,\n",
    "                  top=False,\n",
    "                  left=True,\n",
    "                  right=False)\n",
    "\n",
    "\n",
    "#ax.set(xlabel=r'$N_{prods}/2^M$', ylabel=r'$N_{spec}/2^M$', xlim=[0,6], ylim=[0,4])\n",
    "\n",
    "#ax.axvline(x=0.5, color='k', alpha=0.2, linestyle='--')\n",
    "#ax.axhline(y=0.337, color='k', alpha=0.2, linestyle='--')\n",
    "ax.plot(Nprods[1:],1/np.array(Nspecs), zorder=-1,ls ='-', color= 'indianred',lw=3)\n",
    "#ax.plot(0.5,0.337, zorder=1, marker='o',ms=7, mec='k', mfc='k')\n",
    "#ax.text(x=0.15,y=0.15,s='Symmetric region', fontsize=15)\n",
    "#ax.text(x=0.35,y=0.6,s='Asymmetric region', fontsize=15)"
   ]
  },
  {
   "cell_type": "code",
   "execution_count": null,
   "metadata": {},
   "outputs": [],
   "source": []
  }
 ],
 "metadata": {
  "kernelspec": {
   "display_name": "Documentos",
   "language": "python",
   "name": "documentos"
  },
  "language_info": {
   "codemirror_mode": {
    "name": "ipython",
    "version": 3
   },
   "file_extension": ".py",
   "mimetype": "text/x-python",
   "name": "python",
   "nbconvert_exporter": "python",
   "pygments_lexer": "ipython3",
   "version": "3.5.2"
  }
 },
 "nbformat": 4,
 "nbformat_minor": 2
}
