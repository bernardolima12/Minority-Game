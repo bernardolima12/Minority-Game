{
 "cells": [
  {
   "cell_type": "code",
   "execution_count": 1,
   "metadata": {},
   "outputs": [],
   "source": [
    "import numpy as np\n",
    "import matplotlib.pyplot as plt\n",
    "from mygame_functions import one_simulation, one_simulation_variables\n",
    "from time import time\n",
    "%matplotlib inline"
   ]
  },
  {
   "cell_type": "markdown",
   "metadata": {},
   "source": [
    "# Computational time scaling with T"
   ]
  },
  {
   "cell_type": "markdown",
   "metadata": {},
   "source": [
    "### - ONE SIMULATION FUNCTION"
   ]
  },
  {
   "cell_type": "code",
   "execution_count": 4,
   "metadata": {},
   "outputs": [
    {
     "name": "stdout",
     "output_type": "stream",
     "text": [
      "T = 1000 (1/4)\n",
      "     Time elapsed in simulation 1 of 10 = 5.410s\n",
      "     Time elapsed in simulation 2 of 10 = 4.310s\n",
      "     Time elapsed in simulation 3 of 10 = 4.260s\n",
      "     Time elapsed in simulation 4 of 10 = 4.358s\n",
      "     Time elapsed in simulation 5 of 10 = 4.321s\n",
      "     Time elapsed in simulation 6 of 10 = 4.516s\n",
      "     Time elapsed in simulation 7 of 10 = 4.409s\n",
      "     Time elapsed in simulation 8 of 10 = 4.384s\n",
      "     Time elapsed in simulation 9 of 10 = 4.345s\n",
      "     Time elapsed in simulation 10 of 10 = 4.347s\n",
      " \n",
      "<time> = 4.47\n",
      " \n",
      "T = 2500 (2/4)\n",
      "     Time elapsed in simulation 1 of 10 = 10.845s\n",
      "     Time elapsed in simulation 2 of 10 = 11.225s\n",
      "     Time elapsed in simulation 3 of 10 = 10.823s\n",
      "     Time elapsed in simulation 4 of 10 = 10.967s\n",
      "     Time elapsed in simulation 5 of 10 = 10.799s\n",
      "     Time elapsed in simulation 6 of 10 = 10.661s\n",
      "     Time elapsed in simulation 7 of 10 = 10.568s\n",
      "     Time elapsed in simulation 8 of 10 = 10.853s\n",
      "     Time elapsed in simulation 9 of 10 = 11.080s\n",
      "     Time elapsed in simulation 10 of 10 = 10.907s\n",
      " \n",
      "<time> = 10.87\n",
      " \n",
      "T = 5000 (3/4)\n",
      "     Time elapsed in simulation 1 of 10 = 21.550s\n",
      "     Time elapsed in simulation 2 of 10 = 22.641s\n",
      "     Time elapsed in simulation 3 of 10 = 21.463s\n",
      "     Time elapsed in simulation 4 of 10 = 21.229s\n",
      "     Time elapsed in simulation 5 of 10 = 21.159s\n",
      "     Time elapsed in simulation 6 of 10 = 21.104s\n",
      "     Time elapsed in simulation 7 of 10 = 21.277s\n",
      "     Time elapsed in simulation 8 of 10 = 21.149s\n",
      "     Time elapsed in simulation 9 of 10 = 21.668s\n",
      "     Time elapsed in simulation 10 of 10 = 22.275s\n",
      " \n",
      "<time> = 21.55\n",
      " \n",
      "T = 7500 (4/4)\n",
      "     Time elapsed in simulation 1 of 10 = 35.805s\n",
      "     Time elapsed in simulation 2 of 10 = 33.608s\n",
      "     Time elapsed in simulation 3 of 10 = 34.140s\n",
      "     Time elapsed in simulation 4 of 10 = 32.310s\n",
      "     Time elapsed in simulation 5 of 10 = 34.087s\n",
      "     Time elapsed in simulation 6 of 10 = 36.779s\n",
      "     Time elapsed in simulation 7 of 10 = 39.463s\n",
      "     Time elapsed in simulation 8 of 10 = 36.419s\n",
      "     Time elapsed in simulation 9 of 10 = 32.797s\n",
      "     Time elapsed in simulation 10 of 10 = 32.117s\n",
      " \n",
      "<time> = 34.75\n",
      " \n"
     ]
    }
   ],
   "source": [
    "S = 2\n",
    "M = 8\n",
    "N = 51\n",
    "tes = [1000,2500,5000,7500]\n",
    "scaleT = []\n",
    "for T in tes:\n",
    "    print('T = {} ({}/{})'.format(T,tes.index(T)+1,len(tes)))\n",
    "    alltimes=0\n",
    "    ponderas=10\n",
    "    for i in range(ponderas):\n",
    "        time_i = time()\n",
    "        t,A,pol = one_simulation(N,S,M,T)\n",
    "        laps = time()-time_i\n",
    "        print('     Time elapsed in simulation {} of {} = {:.3f}s'.format(i+1,ponderas,laps))\n",
    "        alltimes+=laps\n",
    "    print(' ')\n",
    "    alltimes/=ponderas\n",
    "    print('<time> = {:.2f}'.format(alltimes))\n",
    "    print(' ')\n",
    "    scaleT.append(alltimes)"
   ]
  },
  {
   "cell_type": "code",
   "execution_count": 5,
   "metadata": {},
   "outputs": [
    {
     "data": {
      "text/plain": [
       "Text(0, 0.5, '<computational time>')"
      ]
     },
     "execution_count": 5,
     "metadata": {},
     "output_type": "execute_result"
    },
    {
     "data": {
      "image/png": "[encoded data removed]",
      "text/plain": [
       "<Figure size 432x288 with 1 Axes>"
      ]
     },
     "metadata": {
      "needs_background": "light"
     },
     "output_type": "display_data"
    }
   ],
   "source": [
    "fig, ax = plt.subplots()\n",
    "ax.plot(tes,scaleT)\n",
    "ax.set_xlabel('T')\n",
    "ax.set_ylabel('<computational time>')"
   ]
  },
  {
   "cell_type": "markdown",
   "metadata": {},
   "source": [
    "### -  ONE SIMULATION VARIABLES FUNCTION"
   ]
  },
  {
   "cell_type": "code",
   "execution_count": 6,
   "metadata": {},
   "outputs": [
    {
     "name": "stdout",
     "output_type": "stream",
     "text": [
      "T = 1000 (1/4)\n",
      "     Time elapsed in simulation 1 of 10 = 0.253s\n",
      "     Time elapsed in simulation 2 of 10 = 0.227s\n",
      "     Time elapsed in simulation 3 of 10 = 0.239s\n",
      "     Time elapsed in simulation 4 of 10 = 0.249s\n",
      "     Time elapsed in simulation 5 of 10 = 0.240s\n",
      "     Time elapsed in simulation 6 of 10 = 0.236s\n",
      "     Time elapsed in simulation 7 of 10 = 0.235s\n",
      "     Time elapsed in simulation 8 of 10 = 0.224s\n",
      "     Time elapsed in simulation 9 of 10 = 0.227s\n",
      "     Time elapsed in simulation 10 of 10 = 0.226s\n",
      " \n",
      "<time> = 0.24\n",
      " \n",
      "T = 2500 (2/4)\n",
      "     Time elapsed in simulation 1 of 10 = 0.554s\n",
      "     Time elapsed in simulation 2 of 10 = 0.540s\n",
      "     Time elapsed in simulation 3 of 10 = 0.573s\n",
      "     Time elapsed in simulation 4 of 10 = 0.618s\n",
      "     Time elapsed in simulation 5 of 10 = 0.565s\n",
      "     Time elapsed in simulation 6 of 10 = 0.540s\n",
      "     Time elapsed in simulation 7 of 10 = 0.549s\n",
      "     Time elapsed in simulation 8 of 10 = 0.555s\n",
      "     Time elapsed in simulation 9 of 10 = 0.587s\n",
      "     Time elapsed in simulation 10 of 10 = 0.546s\n",
      " \n",
      "<time> = 0.56\n",
      " \n",
      "T = 5000 (3/4)\n",
      "     Time elapsed in simulation 1 of 10 = 1.076s\n",
      "     Time elapsed in simulation 2 of 10 = 1.065s\n",
      "     Time elapsed in simulation 3 of 10 = 1.034s\n",
      "     Time elapsed in simulation 4 of 10 = 1.079s\n",
      "     Time elapsed in simulation 5 of 10 = 1.075s\n",
      "     Time elapsed in simulation 6 of 10 = 1.068s\n",
      "     Time elapsed in simulation 7 of 10 = 1.068s\n",
      "     Time elapsed in simulation 8 of 10 = 1.083s\n",
      "     Time elapsed in simulation 9 of 10 = 1.064s\n",
      "     Time elapsed in simulation 10 of 10 = 1.101s\n",
      " \n",
      "<time> = 1.07\n",
      " \n",
      "T = 7500 (4/4)\n",
      "     Time elapsed in simulation 1 of 10 = 1.609s\n",
      "     Time elapsed in simulation 2 of 10 = 1.624s\n",
      "     Time elapsed in simulation 3 of 10 = 1.647s\n",
      "     Time elapsed in simulation 4 of 10 = 1.609s\n",
      "     Time elapsed in simulation 5 of 10 = 1.634s\n",
      "     Time elapsed in simulation 6 of 10 = 1.618s\n",
      "     Time elapsed in simulation 7 of 10 = 1.637s\n",
      "     Time elapsed in simulation 8 of 10 = 1.611s\n",
      "     Time elapsed in simulation 9 of 10 = 1.589s\n",
      "     Time elapsed in simulation 10 of 10 = 1.592s\n",
      " \n",
      "<time> = 1.62\n",
      " \n"
     ]
    }
   ],
   "source": [
    "S = 2\n",
    "M = 8\n",
    "N = 51\n",
    "tes2 = [1000,2500,5000,7500]\n",
    "scaleT2 = []\n",
    "for T in tes2:\n",
    "    print('T = {} ({}/{})'.format(T,tes2.index(T)+1,len(tes2)))\n",
    "    alltimes=0\n",
    "    ponderas=10\n",
    "    for i in range(ponderas):\n",
    "        time_i = time()\n",
    "        t,A,pol = one_simulation_variables(N,S,M,T)\n",
    "        laps = time()-time_i\n",
    "        print('     Time elapsed in simulation {} of {} = {:.3f}s'.format(i+1,ponderas,laps))\n",
    "        alltimes+=laps\n",
    "    print(' ')\n",
    "    alltimes/=ponderas\n",
    "    print('<time> = {:.2f}'.format(alltimes))\n",
    "    print(' ')\n",
    "    scaleT2.append(alltimes)"
   ]
  },
  {
   "cell_type": "code",
   "execution_count": 9,
   "metadata": {},
   "outputs": [
    {
     "data": {
      "text/plain": [
       "<matplotlib.legend.Legend at 0x7fe57cbfacf8>"
      ]
     },
     "execution_count": 9,
     "metadata": {},
     "output_type": "execute_result"
    },
    {
     "data": {
      "image/png": "[encoded data removed]",
      "text/plain": [
       "<Figure size 432x288 with 1 Axes>"
      ]
     },
     "metadata": {
      "needs_background": "light"
     },
     "output_type": "display_data"
    }
   ],
   "source": [
    "fig, ax = plt.subplots()\n",
    "ax.plot(tes,scaleT, label='Normal simulation')\n",
    "ax.plot(tes2,scaleT2, label='Variables simulation')\n",
    "ax.set_xlabel('T')\n",
    "ax.set_ylabel('<computational time>')\n",
    "ax.legend(loc=0)"
   ]
  },
  {
   "cell_type": "markdown",
   "metadata": {},
   "source": [
    "# Computational time scaling with N"
   ]
  },
  {
   "cell_type": "markdown",
   "metadata": {},
   "source": [
    "### - One simulation function"
   ]
  },
  {
   "cell_type": "code",
   "execution_count": 120,
   "metadata": {
    "scrolled": true
   },
   "outputs": [
    {
     "name": "stdout",
     "output_type": "stream",
     "text": [
      "T = 101 (1/4)\n",
      "         t=0/1000\n",
      "     Time elapsed in simulation 1 of 10 = 0.977s\n",
      "         t=0/1000\n",
      "     Time elapsed in simulation 2 of 10 = 0.914s\n",
      "         t=0/1000\n",
      "     Time elapsed in simulation 3 of 10 = 0.936s\n",
      "         t=0/1000\n",
      "     Time elapsed in simulation 4 of 10 = 0.946s\n",
      "         t=0/1000\n",
      "     Time elapsed in simulation 5 of 10 = 0.914s\n",
      "         t=0/1000\n",
      "     Time elapsed in simulation 6 of 10 = 0.882s\n",
      "         t=0/1000\n",
      "     Time elapsed in simulation 7 of 10 = 0.878s\n",
      "         t=0/1000\n",
      "     Time elapsed in simulation 8 of 10 = 0.911s\n",
      "         t=0/1000\n",
      "     Time elapsed in simulation 9 of 10 = 0.885s\n",
      "         t=0/1000\n",
      "     Time elapsed in simulation 10 of 10 = 0.893s\n",
      " \n",
      "<time> = 0.91\n",
      " \n",
      "T = 301 (2/4)\n",
      "         t=0/1000\n",
      "     Time elapsed in simulation 1 of 10 = 2.449s\n",
      "         t=0/1000\n",
      "     Time elapsed in simulation 2 of 10 = 2.511s\n",
      "         t=0/1000\n",
      "     Time elapsed in simulation 3 of 10 = 2.501s\n",
      "         t=0/1000\n",
      "     Time elapsed in simulation 4 of 10 = 2.510s\n",
      "         t=0/1000\n",
      "     Time elapsed in simulation 5 of 10 = 2.664s\n",
      "         t=0/1000\n",
      "     Time elapsed in simulation 6 of 10 = 2.733s\n",
      "         t=0/1000\n",
      "     Time elapsed in simulation 7 of 10 = 2.798s\n",
      "         t=0/1000\n",
      "     Time elapsed in simulation 8 of 10 = 2.996s\n",
      "         t=0/1000\n",
      "     Time elapsed in simulation 9 of 10 = 2.477s\n",
      "         t=0/1000\n",
      "     Time elapsed in simulation 10 of 10 = 3.271s\n",
      " \n",
      "<time> = 2.69\n",
      " \n",
      "T = 501 (3/4)\n",
      "         t=0/1000\n",
      "     Time elapsed in simulation 1 of 10 = 6.427s\n",
      "         t=0/1000\n",
      "     Time elapsed in simulation 2 of 10 = 5.587s\n",
      "         t=0/1000\n",
      "     Time elapsed in simulation 3 of 10 = 4.306s\n",
      "         t=0/1000\n",
      "     Time elapsed in simulation 4 of 10 = 4.809s\n",
      "         t=0/1000\n",
      "     Time elapsed in simulation 5 of 10 = 4.343s\n",
      "         t=0/1000\n",
      "     Time elapsed in simulation 6 of 10 = 4.199s\n",
      "         t=0/1000\n",
      "     Time elapsed in simulation 7 of 10 = 4.301s\n",
      "         t=0/1000\n",
      "     Time elapsed in simulation 8 of 10 = 4.174s\n",
      "         t=0/1000\n",
      "     Time elapsed in simulation 9 of 10 = 4.262s\n",
      "         t=0/1000\n",
      "     Time elapsed in simulation 10 of 10 = 3.925s\n",
      " \n",
      "<time> = 4.63\n",
      " \n",
      "T = 701 (4/4)\n",
      "         t=0/1000\n",
      "     Time elapsed in simulation 1 of 10 = 5.576s\n",
      "         t=0/1000\n",
      "     Time elapsed in simulation 2 of 10 = 5.710s\n",
      "         t=0/1000\n",
      "     Time elapsed in simulation 3 of 10 = 5.792s\n",
      "         t=0/1000\n",
      "     Time elapsed in simulation 4 of 10 = 6.183s\n",
      "         t=0/1000\n",
      "     Time elapsed in simulation 5 of 10 = 6.746s\n",
      "         t=0/1000\n",
      "     Time elapsed in simulation 6 of 10 = 6.867s\n",
      "         t=0/1000\n",
      "     Time elapsed in simulation 7 of 10 = 5.760s\n",
      "         t=0/1000\n",
      "     Time elapsed in simulation 8 of 10 = 5.805s\n",
      "         t=0/1000\n",
      "     Time elapsed in simulation 9 of 10 = 6.487s\n",
      "         t=0/1000\n",
      "     Time elapsed in simulation 10 of 10 = 6.077s\n",
      " \n",
      "<time> = 6.10\n",
      " \n"
     ]
    }
   ],
   "source": [
    "S = 2\n",
    "M = 10\n",
    "T = 1000\n",
    "enes = [101,301,501,701]\n",
    "scaleTN = []\n",
    "for N in enes:\n",
    "    print('T = {} ({}/{})'.format(N,enes.index(N)+1,len(enes)))\n",
    "    alltimes=0\n",
    "    ponderas=10\n",
    "    for i in range(ponderas):\n",
    "        time_i = time()\n",
    "        t,A,pol = one_simulation(N,S,M,T)\n",
    "        laps = time()-time_i\n",
    "        print('     Time elapsed in simulation {} of {} = {:.3f}s'.format(i+1,ponderas,laps))\n",
    "        alltimes+=laps\n",
    "    print(' ')\n",
    "    alltimes/=ponderas\n",
    "    print('<time> = {:.2f}'.format(alltimes))\n",
    "    print(' ')\n",
    "    scaleTN.append(alltimes)"
   ]
  },
  {
   "cell_type": "code",
   "execution_count": 2,
   "metadata": {},
   "outputs": [
    {
     "name": "stdout",
     "output_type": "stream",
     "text": [
      "T = 101 (1/4)\n",
      "     Time elapsed in simulation 1 of 10 = 9.349s\n",
      "     Time elapsed in simulation 2 of 10 = 8.503s\n",
      "     Time elapsed in simulation 3 of 10 = 8.788s\n",
      "     Time elapsed in simulation 4 of 10 = 8.363s\n"
     ]
    },
    {
     "ename": "KeyboardInterrupt",
     "evalue": "",
     "output_type": "error",
     "traceback": [
      "\u001b[0;31m---------------------------------------------------------------------------\u001b[0m",
      "\u001b[0;31mKeyboardInterrupt\u001b[0m                         Traceback (most recent call last)",
      "\u001b[0;32m<ipython-input-2-b5e8cd0ed36d>\u001b[0m in \u001b[0;36m<module>\u001b[0;34m\u001b[0m\n\u001b[1;32m     10\u001b[0m     \u001b[0;32mfor\u001b[0m \u001b[0mi\u001b[0m \u001b[0;32min\u001b[0m \u001b[0mrange\u001b[0m\u001b[0;34m(\u001b[0m\u001b[0mponderas\u001b[0m\u001b[0;34m)\u001b[0m\u001b[0;34m:\u001b[0m\u001b[0;34m\u001b[0m\u001b[0m\n\u001b[1;32m     11\u001b[0m         \u001b[0mtime_i\u001b[0m \u001b[0;34m=\u001b[0m \u001b[0mtime\u001b[0m\u001b[0;34m(\u001b[0m\u001b[0;34m)\u001b[0m\u001b[0;34m\u001b[0m\u001b[0m\n\u001b[0;32m---> 12\u001b[0;31m         \u001b[0mt\u001b[0m\u001b[0;34m,\u001b[0m\u001b[0mA\u001b[0m\u001b[0;34m,\u001b[0m\u001b[0mpol\u001b[0m \u001b[0;34m=\u001b[0m \u001b[0mone_simulation\u001b[0m\u001b[0;34m(\u001b[0m\u001b[0mN\u001b[0m\u001b[0;34m,\u001b[0m\u001b[0mS\u001b[0m\u001b[0;34m,\u001b[0m\u001b[0mM\u001b[0m\u001b[0;34m,\u001b[0m\u001b[0mT\u001b[0m\u001b[0;34m)\u001b[0m\u001b[0;34m\u001b[0m\u001b[0m\n\u001b[0m\u001b[1;32m     13\u001b[0m         \u001b[0mlaps\u001b[0m \u001b[0;34m=\u001b[0m \u001b[0mtime\u001b[0m\u001b[0;34m(\u001b[0m\u001b[0;34m)\u001b[0m\u001b[0;34m-\u001b[0m\u001b[0mtime_i\u001b[0m\u001b[0;34m\u001b[0m\u001b[0m\n\u001b[1;32m     14\u001b[0m         \u001b[0mprint\u001b[0m\u001b[0;34m(\u001b[0m\u001b[0;34m'     Time elapsed in simulation {} of {} = {:.3f}s'\u001b[0m\u001b[0;34m.\u001b[0m\u001b[0mformat\u001b[0m\u001b[0;34m(\u001b[0m\u001b[0mi\u001b[0m\u001b[0;34m+\u001b[0m\u001b[0;36m1\u001b[0m\u001b[0;34m,\u001b[0m\u001b[0mponderas\u001b[0m\u001b[0;34m,\u001b[0m\u001b[0mlaps\u001b[0m\u001b[0;34m)\u001b[0m\u001b[0;34m)\u001b[0m\u001b[0;34m\u001b[0m\u001b[0m\n",
      "\u001b[0;32m~/Documentos/Minority_Game/mygame_functions.py\u001b[0m in \u001b[0;36mone_simulation\u001b[0;34m(N, S, M, T, imprime)\u001b[0m\n\u001b[1;32m     80\u001b[0m         \u001b[0;32mif\u001b[0m \u001b[0;34m(\u001b[0m\u001b[0mt\u001b[0m\u001b[0;34m+\u001b[0m\u001b[0;36m1\u001b[0m\u001b[0;34m)\u001b[0m \u001b[0;34m%\u001b[0m \u001b[0mimprime\u001b[0m \u001b[0;34m==\u001b[0m \u001b[0;36m0\u001b[0m\u001b[0;34m:\u001b[0m\u001b[0;34m\u001b[0m\u001b[0m\n\u001b[1;32m     81\u001b[0m             \u001b[0mprint\u001b[0m\u001b[0;34m(\u001b[0m\u001b[0;34m'         t={}/{}'\u001b[0m\u001b[0;34m.\u001b[0m\u001b[0mformat\u001b[0m\u001b[0;34m(\u001b[0m\u001b[0mt\u001b[0m\u001b[0;34m+\u001b[0m\u001b[0;36m1\u001b[0m\u001b[0;34m,\u001b[0m \u001b[0mT\u001b[0m\u001b[0;34m)\u001b[0m\u001b[0;34m)\u001b[0m\u001b[0;34m\u001b[0m\u001b[0m\n\u001b[0;32m---> 82\u001b[0;31m         \u001b[0mA\u001b[0m\u001b[0;34m,\u001b[0m \u001b[0mhistory\u001b[0m\u001b[0;34m,\u001b[0m \u001b[0mscores\u001b[0m \u001b[0;34m=\u001b[0m \u001b[0mone_game\u001b[0m\u001b[0;34m(\u001b[0m\u001b[0mN\u001b[0m\u001b[0;34m,\u001b[0m \u001b[0mS\u001b[0m\u001b[0;34m,\u001b[0m \u001b[0mstrategies\u001b[0m\u001b[0;34m,\u001b[0m \u001b[0mhistory\u001b[0m\u001b[0;34m,\u001b[0m \u001b[0mscores\u001b[0m\u001b[0;34m)\u001b[0m\u001b[0;34m\u001b[0m\u001b[0m\n\u001b[0m\u001b[1;32m     83\u001b[0m         \u001b[0mtimes\u001b[0m\u001b[0;34m[\u001b[0m\u001b[0mt\u001b[0m\u001b[0;34m]\u001b[0m \u001b[0;34m=\u001b[0m \u001b[0mt\u001b[0m\u001b[0;34m\u001b[0m\u001b[0m\n\u001b[1;32m     84\u001b[0m         \u001b[0mattendances\u001b[0m\u001b[0;34m[\u001b[0m\u001b[0mt\u001b[0m\u001b[0;34m]\u001b[0m \u001b[0;34m=\u001b[0m \u001b[0mA\u001b[0m\u001b[0;34m\u001b[0m\u001b[0m\n",
      "\u001b[0;32m~/Documentos/Minority_Game/mygame_functions.py\u001b[0m in \u001b[0;36mone_game\u001b[0;34m(N, S, strategies, history, scores)\u001b[0m\n\u001b[1;32m     60\u001b[0m     \u001b[0mstate\u001b[0m \u001b[0;34m=\u001b[0m \u001b[0minteger_state\u001b[0m\u001b[0;34m(\u001b[0m\u001b[0mhistory\u001b[0m\u001b[0;34m)\u001b[0m\u001b[0;34m\u001b[0m\u001b[0m\n\u001b[1;32m     61\u001b[0m     \u001b[0;32mfor\u001b[0m \u001b[0mi\u001b[0m \u001b[0;32min\u001b[0m \u001b[0mrange\u001b[0m\u001b[0;34m(\u001b[0m\u001b[0mN\u001b[0m\u001b[0;34m)\u001b[0m\u001b[0;34m:\u001b[0m\u001b[0;34m\u001b[0m\u001b[0m\n\u001b[0;32m---> 62\u001b[0;31m         \u001b[0mindex_strategy\u001b[0m \u001b[0;34m=\u001b[0m \u001b[0mmaximum_index\u001b[0m\u001b[0;34m(\u001b[0m\u001b[0mscores\u001b[0m\u001b[0;34m[\u001b[0m\u001b[0mi\u001b[0m\u001b[0;34m]\u001b[0m\u001b[0;34m)\u001b[0m\u001b[0;34m\u001b[0m\u001b[0m\n\u001b[0m\u001b[1;32m     63\u001b[0m         \u001b[0mactions\u001b[0m\u001b[0;34m[\u001b[0m\u001b[0mi\u001b[0m\u001b[0;34m]\u001b[0m \u001b[0;34m=\u001b[0m \u001b[0mstrategies\u001b[0m\u001b[0;34m[\u001b[0m\u001b[0mi\u001b[0m\u001b[0;34m]\u001b[0m\u001b[0;34m[\u001b[0m\u001b[0mindex_strategy\u001b[0m\u001b[0;34m]\u001b[0m\u001b[0;34m[\u001b[0m\u001b[0mstate\u001b[0m\u001b[0;34m]\u001b[0m\u001b[0;34m\u001b[0m\u001b[0m\n\u001b[1;32m     64\u001b[0m     \u001b[0mA\u001b[0m \u001b[0;34m=\u001b[0m \u001b[0mnp\u001b[0m\u001b[0;34m.\u001b[0m\u001b[0msum\u001b[0m\u001b[0;34m(\u001b[0m\u001b[0mactions\u001b[0m\u001b[0;34m)\u001b[0m\u001b[0;34m\u001b[0m\u001b[0m\n",
      "\u001b[0;32m~/Documentos/Minority_Game/mygame_functions.py\u001b[0m in \u001b[0;36mmaximum_index\u001b[0;34m(score)\u001b[0m\n\u001b[1;32m     53\u001b[0m     \"\"\"\n\u001b[1;32m     54\u001b[0m     \u001b[0mmaximos\u001b[0m \u001b[0;34m=\u001b[0m \u001b[0mnp\u001b[0m\u001b[0;34m.\u001b[0m\u001b[0margwhere\u001b[0m\u001b[0;34m(\u001b[0m\u001b[0mscore\u001b[0m \u001b[0;34m==\u001b[0m \u001b[0mnp\u001b[0m\u001b[0;34m.\u001b[0m\u001b[0mamax\u001b[0m\u001b[0;34m(\u001b[0m\u001b[0mscore\u001b[0m\u001b[0;34m)\u001b[0m\u001b[0;34m)\u001b[0m\u001b[0;34m.\u001b[0m\u001b[0mflatten\u001b[0m\u001b[0;34m(\u001b[0m\u001b[0;34m)\u001b[0m\u001b[0;34m\u001b[0m\u001b[0m\n\u001b[0;32m---> 55\u001b[0;31m     \u001b[0;32mreturn\u001b[0m \u001b[0mnp\u001b[0m\u001b[0;34m.\u001b[0m\u001b[0mrandom\u001b[0m\u001b[0;34m.\u001b[0m\u001b[0mchoice\u001b[0m\u001b[0;34m(\u001b[0m\u001b[0mmaximos\u001b[0m\u001b[0;34m)\u001b[0m\u001b[0;34m\u001b[0m\u001b[0m\n\u001b[0m\u001b[1;32m     56\u001b[0m \u001b[0;34m\u001b[0m\u001b[0m\n\u001b[1;32m     57\u001b[0m \u001b[0;34m\u001b[0m\u001b[0m\n",
      "\u001b[0;31mKeyboardInterrupt\u001b[0m: "
     ]
    }
   ],
   "source": [
    "###PORQ VA MAS LENTO AHORA?? QUE COÑO HA PASADO (HABIA PUESTO EL PARALELO Y LO HE QUITADO, PERO ES COMO QUE SIGUE)\n",
    "S = 2\n",
    "M = 10\n",
    "T = 1000\n",
    "enes = [101,301,501,701]\n",
    "scaleTN = []\n",
    "for N in enes:\n",
    "    print('T = {} ({}/{})'.format(N,enes.index(N)+1,len(enes)))\n",
    "    alltimes=0\n",
    "    ponderas=10\n",
    "    for i in range(ponderas):\n",
    "        time_i = time()\n",
    "        t,A,pol = one_simulation(N,S,M,T)\n",
    "        laps = time()-time_i\n",
    "        print('     Time elapsed in simulation {} of {} = {:.3f}s'.format(i+1,ponderas,laps))\n",
    "        alltimes+=laps\n",
    "    print(' ')\n",
    "    alltimes/=ponderas\n",
    "    print('<time> = {:.2f}'.format(alltimes))\n",
    "    print(' ')\n",
    "    scaleTN.append(alltimes)"
   ]
  },
  {
   "cell_type": "code",
   "execution_count": 121,
   "metadata": {},
   "outputs": [
    {
     "data": {
      "text/plain": [
       "Text(0, 0.5, '<computational time>')"
      ]
     },
     "execution_count": 121,
     "metadata": {},
     "output_type": "execute_result"
    },
    {
     "data": {
      "image/png": "[encoded data removed]",
      "text/plain": [
       "<Figure size 432x288 with 1 Axes>"
      ]
     },
     "metadata": {
      "needs_background": "light"
     },
     "output_type": "display_data"
    }
   ],
   "source": [
    "fig, ax = plt.subplots()\n",
    "ax.plot(enes,scaleTN)\n",
    "ax.set_xlabel('N')\n",
    "ax.set_ylabel('<computational time>')"
   ]
  },
  {
   "cell_type": "markdown",
   "metadata": {},
   "source": [
    "### - One simulation variables function"
   ]
  },
  {
   "cell_type": "code",
   "execution_count": 3,
   "metadata": {},
   "outputs": [
    {
     "name": "stdout",
     "output_type": "stream",
     "text": [
      "T = 101 (1/4)\n",
      "     Time elapsed in simulation 1 of 10 = 0.279s\n",
      "     Time elapsed in simulation 2 of 10 = 0.265s\n",
      "     Time elapsed in simulation 3 of 10 = 0.256s\n",
      "     Time elapsed in simulation 4 of 10 = 0.255s\n",
      "     Time elapsed in simulation 5 of 10 = 0.253s\n",
      "     Time elapsed in simulation 6 of 10 = 0.266s\n",
      "     Time elapsed in simulation 7 of 10 = 0.254s\n",
      "     Time elapsed in simulation 8 of 10 = 0.253s\n",
      "     Time elapsed in simulation 9 of 10 = 0.266s\n",
      "     Time elapsed in simulation 10 of 10 = 0.367s\n",
      " \n",
      "<time> = 0.27\n",
      " \n",
      "T = 301 (2/4)\n",
      "     Time elapsed in simulation 1 of 10 = 0.445s\n",
      "     Time elapsed in simulation 2 of 10 = 0.388s\n",
      "     Time elapsed in simulation 3 of 10 = 0.391s\n",
      "     Time elapsed in simulation 4 of 10 = 0.367s\n",
      "     Time elapsed in simulation 5 of 10 = 0.357s\n",
      "     Time elapsed in simulation 6 of 10 = 0.385s\n",
      "     Time elapsed in simulation 7 of 10 = 0.363s\n",
      "     Time elapsed in simulation 8 of 10 = 0.385s\n",
      "     Time elapsed in simulation 9 of 10 = 0.364s\n",
      "     Time elapsed in simulation 10 of 10 = 0.345s\n",
      " \n",
      "<time> = 0.38\n",
      " \n",
      "T = 501 (3/4)\n",
      "     Time elapsed in simulation 1 of 10 = 0.438s\n",
      "     Time elapsed in simulation 2 of 10 = 0.454s\n",
      "     Time elapsed in simulation 3 of 10 = 0.449s\n",
      "     Time elapsed in simulation 4 of 10 = 0.441s\n",
      "     Time elapsed in simulation 5 of 10 = 0.447s\n",
      "     Time elapsed in simulation 6 of 10 = 0.453s\n",
      "     Time elapsed in simulation 7 of 10 = 0.439s\n",
      "     Time elapsed in simulation 8 of 10 = 0.434s\n",
      "     Time elapsed in simulation 9 of 10 = 0.447s\n",
      "     Time elapsed in simulation 10 of 10 = 0.471s\n",
      " \n",
      "<time> = 0.45\n",
      " \n",
      "T = 701 (4/4)\n",
      "     Time elapsed in simulation 1 of 10 = 0.560s\n",
      "     Time elapsed in simulation 2 of 10 = 0.532s\n",
      "     Time elapsed in simulation 3 of 10 = 0.533s\n",
      "     Time elapsed in simulation 4 of 10 = 0.518s\n",
      "     Time elapsed in simulation 5 of 10 = 0.522s\n",
      "     Time elapsed in simulation 6 of 10 = 0.519s\n",
      "     Time elapsed in simulation 7 of 10 = 0.520s\n",
      "     Time elapsed in simulation 8 of 10 = 0.525s\n",
      "     Time elapsed in simulation 9 of 10 = 0.520s\n",
      "     Time elapsed in simulation 10 of 10 = 0.521s\n",
      " \n",
      "<time> = 0.53\n",
      " \n"
     ]
    }
   ],
   "source": [
    "S = 2\n",
    "M = 10\n",
    "T = 1000\n",
    "scaleTN2 = []\n",
    "for N in enes:\n",
    "    print('T = {} ({}/{})'.format(N,enes.index(N)+1,len(enes)))\n",
    "    alltimes=0\n",
    "    ponderas=10\n",
    "    for i in range(ponderas):\n",
    "        time_i = time()\n",
    "        t,A,pol = one_simulation_variables(N,S,M,T)\n",
    "        laps = time()-time_i\n",
    "        print('     Time elapsed in simulation {} of {} = {:.3f}s'.format(i+1,ponderas,laps))\n",
    "        alltimes+=laps\n",
    "    print(' ')\n",
    "    alltimes/=ponderas\n",
    "    print('<time> = {:.2f}'.format(alltimes))\n",
    "    print(' ')\n",
    "    scaleTN2.append(alltimes)"
   ]
  },
  {
   "cell_type": "code",
   "execution_count": 4,
   "metadata": {},
   "outputs": [
    {
     "data": {
      "text/plain": [
       "<matplotlib.legend.Legend at 0x7fd2b436bef0>"
      ]
     },
     "execution_count": 4,
     "metadata": {},
     "output_type": "execute_result"
    },
    {
     "data": {
      "image/png": "[encoded data removed]",
      "text/plain": [
       "<Figure size 432x288 with 1 Axes>"
      ]
     },
     "metadata": {
      "needs_background": "light"
     },
     "output_type": "display_data"
    }
   ],
   "source": [
    "fig, ax = plt.subplots()\n",
    "#ax.plot(enes,scaleTN, label = 'Before')\n",
    "ax.plot(enes,scaleTN2, label = 'After')\n",
    "ax.set_xlabel('N')\n",
    "ax.set_ylabel('<computational time>')\n",
    "ax.legend(loc=0)"
   ]
  },
  {
   "cell_type": "markdown",
   "metadata": {},
   "source": [
    "# Computational time scaling with m"
   ]
  },
  {
   "cell_type": "markdown",
   "metadata": {},
   "source": [
    "### - Normal"
   ]
  },
  {
   "cell_type": "code",
   "execution_count": 122,
   "metadata": {},
   "outputs": [
    {
     "name": "stdout",
     "output_type": "stream",
     "text": [
      "T = 4 (1/4)\n",
      "         t=0/1000\n",
      "     Time elapsed in simulation 1 of 10 = 1.746s\n",
      "         t=0/1000\n",
      "     Time elapsed in simulation 2 of 10 = 1.691s\n",
      "         t=0/1000\n",
      "     Time elapsed in simulation 3 of 10 = 1.611s\n",
      "         t=0/1000\n",
      "     Time elapsed in simulation 4 of 10 = 1.723s\n",
      "         t=0/1000\n",
      "     Time elapsed in simulation 5 of 10 = 1.680s\n",
      "         t=0/1000\n",
      "     Time elapsed in simulation 6 of 10 = 1.841s\n",
      "         t=0/1000\n",
      "     Time elapsed in simulation 7 of 10 = 1.780s\n",
      "         t=0/1000\n",
      "     Time elapsed in simulation 8 of 10 = 1.732s\n",
      "         t=0/1000\n",
      "     Time elapsed in simulation 9 of 10 = 1.873s\n",
      "         t=0/1000\n",
      "     Time elapsed in simulation 10 of 10 = 1.870s\n",
      " \n",
      "<time> = 1.75\n",
      " \n",
      "T = 7 (2/4)\n",
      "         t=0/1000\n",
      "     Time elapsed in simulation 1 of 10 = 1.773s\n",
      "         t=0/1000\n",
      "     Time elapsed in simulation 2 of 10 = 1.703s\n",
      "         t=0/1000\n",
      "     Time elapsed in simulation 3 of 10 = 1.638s\n",
      "         t=0/1000\n",
      "     Time elapsed in simulation 4 of 10 = 1.815s\n",
      "         t=0/1000\n",
      "     Time elapsed in simulation 5 of 10 = 1.736s\n",
      "         t=0/1000\n",
      "     Time elapsed in simulation 6 of 10 = 1.629s\n",
      "         t=0/1000\n",
      "     Time elapsed in simulation 7 of 10 = 1.672s\n",
      "         t=0/1000\n",
      "     Time elapsed in simulation 8 of 10 = 1.761s\n",
      "         t=0/1000\n",
      "     Time elapsed in simulation 9 of 10 = 1.707s\n",
      "         t=0/1000\n",
      "     Time elapsed in simulation 10 of 10 = 1.633s\n",
      " \n",
      "<time> = 1.71\n",
      " \n",
      "T = 10 (3/4)\n",
      "         t=0/1000\n",
      "     Time elapsed in simulation 1 of 10 = 1.724s\n",
      "         t=0/1000\n",
      "     Time elapsed in simulation 2 of 10 = 1.723s\n",
      "         t=0/1000\n",
      "     Time elapsed in simulation 3 of 10 = 1.679s\n",
      "         t=0/1000\n",
      "     Time elapsed in simulation 4 of 10 = 1.717s\n",
      "         t=0/1000\n",
      "     Time elapsed in simulation 5 of 10 = 1.698s\n",
      "         t=0/1000\n",
      "     Time elapsed in simulation 6 of 10 = 1.799s\n",
      "         t=0/1000\n",
      "     Time elapsed in simulation 7 of 10 = 1.814s\n",
      "         t=0/1000\n",
      "     Time elapsed in simulation 8 of 10 = 1.764s\n",
      "         t=0/1000\n",
      "     Time elapsed in simulation 9 of 10 = 1.744s\n",
      "         t=0/1000\n",
      "     Time elapsed in simulation 10 of 10 = 1.782s\n",
      " \n",
      "<time> = 1.74\n",
      " \n",
      "T = 13 (4/4)\n",
      "         t=0/1000\n",
      "     Time elapsed in simulation 1 of 10 = 1.764s\n",
      "         t=0/1000\n",
      "     Time elapsed in simulation 2 of 10 = 1.781s\n",
      "         t=0/1000\n",
      "     Time elapsed in simulation 3 of 10 = 1.797s\n",
      "         t=0/1000\n",
      "     Time elapsed in simulation 4 of 10 = 1.738s\n",
      "         t=0/1000\n",
      "     Time elapsed in simulation 5 of 10 = 1.748s\n",
      "         t=0/1000\n",
      "     Time elapsed in simulation 6 of 10 = 1.685s\n",
      "         t=0/1000\n",
      "     Time elapsed in simulation 7 of 10 = 1.718s\n",
      "         t=0/1000\n",
      "     Time elapsed in simulation 8 of 10 = 1.699s\n",
      "         t=0/1000\n",
      "     Time elapsed in simulation 9 of 10 = 1.669s\n",
      "         t=0/1000\n",
      "     Time elapsed in simulation 10 of 10 = 1.664s\n",
      " \n",
      "<time> = 1.73\n",
      " \n"
     ]
    }
   ],
   "source": [
    "S = 2\n",
    "N = 201\n",
    "T = 1000\n",
    "emes = [4,7,10,13]\n",
    "scaleTM = []\n",
    "for M in emes:\n",
    "    print('T = {} ({}/{})'.format(M,emes.index(M)+1,len(emes)))\n",
    "    alltimes=0\n",
    "    ponderas=10\n",
    "    for i in range(ponderas):\n",
    "        time_i = time()\n",
    "        t,A,pol = one_simulation(N,S,M,T)\n",
    "        laps = time()-time_i\n",
    "        print('     Time elapsed in simulation {} of {} = {:.3f}s'.format(i+1,ponderas,laps))\n",
    "        alltimes+=laps\n",
    "    print(' ')\n",
    "    alltimes/=ponderas\n",
    "    print('<time> = {:.2f}'.format(alltimes))\n",
    "    print(' ')\n",
    "    scaleTM.append(alltimes)"
   ]
  },
  {
   "cell_type": "code",
   "execution_count": 123,
   "metadata": {},
   "outputs": [
    {
     "data": {
      "text/plain": [
       "Text(0, 0.5, '<computational time>')"
      ]
     },
     "execution_count": 123,
     "metadata": {},
     "output_type": "execute_result"
    },
    {
     "data": {
      "image/png": "[encoded data removed]",
      "text/plain": [
       "<Figure size 432x288 with 1 Axes>"
      ]
     },
     "metadata": {
      "needs_background": "light"
     },
     "output_type": "display_data"
    }
   ],
   "source": [
    "fig, ax = plt.subplots()\n",
    "ax.plot(emes,scaleTM)\n",
    "ax.set_xlabel('M')\n",
    "ax.set_ylabel('<computational time>')"
   ]
  },
  {
   "cell_type": "markdown",
   "metadata": {},
   "source": [
    "### - Variables"
   ]
  },
  {
   "cell_type": "code",
   "execution_count": 7,
   "metadata": {},
   "outputs": [
    {
     "name": "stdout",
     "output_type": "stream",
     "text": [
      "T = 4 (1/4)\n",
      "     Time elapsed in simulation 1 of 10 = 0.521s\n",
      "     Time elapsed in simulation 2 of 10 = 0.516s\n",
      "     Time elapsed in simulation 3 of 10 = 0.498s\n",
      "     Time elapsed in simulation 4 of 10 = 0.565s\n",
      "     Time elapsed in simulation 5 of 10 = 0.490s\n",
      "     Time elapsed in simulation 6 of 10 = 0.621s\n",
      "     Time elapsed in simulation 7 of 10 = 0.509s\n",
      "     Time elapsed in simulation 8 of 10 = 0.558s\n",
      "     Time elapsed in simulation 9 of 10 = 0.471s\n",
      "     Time elapsed in simulation 10 of 10 = 0.472s\n",
      " \n",
      "<time> = 0.52\n",
      " \n",
      "T = 7 (2/4)\n",
      "     Time elapsed in simulation 1 of 10 = 0.304s\n",
      "     Time elapsed in simulation 2 of 10 = 0.326s\n",
      "     Time elapsed in simulation 3 of 10 = 0.322s\n",
      "     Time elapsed in simulation 4 of 10 = 0.308s\n",
      "     Time elapsed in simulation 5 of 10 = 0.309s\n",
      "     Time elapsed in simulation 6 of 10 = 0.296s\n",
      "     Time elapsed in simulation 7 of 10 = 0.292s\n",
      "     Time elapsed in simulation 8 of 10 = 0.281s\n",
      "     Time elapsed in simulation 9 of 10 = 0.319s\n",
      "     Time elapsed in simulation 10 of 10 = 0.294s\n",
      " \n",
      "<time> = 0.31\n",
      " \n",
      "T = 10 (3/4)\n",
      "     Time elapsed in simulation 1 of 10 = 0.333s\n",
      "     Time elapsed in simulation 2 of 10 = 0.314s\n",
      "     Time elapsed in simulation 3 of 10 = 0.344s\n",
      "     Time elapsed in simulation 4 of 10 = 0.333s\n",
      "     Time elapsed in simulation 5 of 10 = 0.313s\n",
      "     Time elapsed in simulation 6 of 10 = 0.339s\n",
      "     Time elapsed in simulation 7 of 10 = 0.360s\n",
      "     Time elapsed in simulation 8 of 10 = 0.345s\n",
      "     Time elapsed in simulation 9 of 10 = 0.305s\n",
      "     Time elapsed in simulation 10 of 10 = 0.328s\n",
      " \n",
      "<time> = 0.33\n",
      " \n",
      "T = 13 (4/4)\n",
      "     Time elapsed in simulation 1 of 10 = 0.450s\n",
      "     Time elapsed in simulation 2 of 10 = 0.436s\n",
      "     Time elapsed in simulation 3 of 10 = 0.420s\n",
      "     Time elapsed in simulation 4 of 10 = 0.433s\n",
      "     Time elapsed in simulation 5 of 10 = 0.426s\n",
      "     Time elapsed in simulation 6 of 10 = 0.429s\n",
      "     Time elapsed in simulation 7 of 10 = 0.438s\n",
      "     Time elapsed in simulation 8 of 10 = 0.420s\n",
      "     Time elapsed in simulation 9 of 10 = 0.423s\n",
      "     Time elapsed in simulation 10 of 10 = 0.418s\n",
      " \n",
      "<time> = 0.43\n",
      " \n"
     ]
    }
   ],
   "source": [
    "S = 2\n",
    "N = 201\n",
    "T = 1000\n",
    "emes = [4,7,10,13]\n",
    "scaleTM2 = []\n",
    "for M in emes:\n",
    "    print('M = {} ({}/{})'.format(M,emes.index(M)+1,len(emes)))\n",
    "    alltimes=0\n",
    "    ponderas=10\n",
    "    for i in range(ponderas):\n",
    "        time_i = time()\n",
    "        t,A,pol = one_simulation_variables(N,S,M,T)\n",
    "        laps = time()-time_i\n",
    "        print('     Time elapsed in simulation {} of {} = {:.3f}s'.format(i+1,ponderas,laps))\n",
    "        alltimes+=laps\n",
    "    print(' ')\n",
    "    alltimes/=ponderas\n",
    "    print('<time> = {:.2f}'.format(alltimes))\n",
    "    print(' ')\n",
    "    scaleTM2.append(alltimes)"
   ]
  },
  {
   "cell_type": "code",
   "execution_count": 8,
   "metadata": {},
   "outputs": [
    {
     "data": {
      "text/plain": [
       "<matplotlib.legend.Legend at 0x7fd2b5d87b38>"
      ]
     },
     "execution_count": 8,
     "metadata": {},
     "output_type": "execute_result"
    },
    {
     "data": {
      "image/png": "[encoded data removed]",
      "text/plain": [
       "<Figure size 432x288 with 1 Axes>"
      ]
     },
     "metadata": {
      "needs_background": "light"
     },
     "output_type": "display_data"
    }
   ],
   "source": [
    "fig, ax = plt.subplots()\n",
    "#ax.plot(emes,scaleTM, label = 'Before')\n",
    "ax.plot(emes,scaleTM2, label = 'After')\n",
    "ax.set_xlabel('M')\n",
    "ax.set_ylabel('<computational time>')\n",
    "ax.legend(loc=0)"
   ]
  }
 ],
 "metadata": {
  "kernelspec": {
   "display_name": "Documentos",
   "language": "python",
   "name": "documentos"
  },
  "language_info": {
   "codemirror_mode": {
    "name": "ipython",
    "version": 3
   },
   "file_extension": ".py",
   "mimetype": "text/x-python",
   "name": "python",
   "nbconvert_exporter": "python",
   "pygments_lexer": "ipython3",
   "version": "3.5.2"
  }
 },
 "nbformat": 4,
 "nbformat_minor": 2
}
