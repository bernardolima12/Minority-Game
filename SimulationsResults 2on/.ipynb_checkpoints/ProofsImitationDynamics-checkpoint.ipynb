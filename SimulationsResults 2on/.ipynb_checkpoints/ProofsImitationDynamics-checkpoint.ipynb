{
 "cells": [
  {
   "cell_type": "code",
   "execution_count": 15,
   "metadata": {},
   "outputs": [
    {
     "ename": "ImportError",
     "evalue": "cannot import name 'Neigbors_RandomGraph'",
     "output_type": "error",
     "traceback": [
      "\u001b[0;31m---------------------------------------------------------------------------\u001b[0m",
      "\u001b[0;31mImportError\u001b[0m                               Traceback (most recent call last)",
      "\u001b[0;32m<ipython-input-15-ab53d68072f3>\u001b[0m in \u001b[0;36m<module>\u001b[0;34m\u001b[0m\n\u001b[1;32m      2\u001b[0m \u001b[0;32mimport\u001b[0m \u001b[0mrandom\u001b[0m\u001b[0;34m\u001b[0m\u001b[0m\n\u001b[1;32m      3\u001b[0m \u001b[0;32mimport\u001b[0m \u001b[0mnetworkx\u001b[0m \u001b[0;32mas\u001b[0m \u001b[0mnx\u001b[0m\u001b[0;34m\u001b[0m\u001b[0m\n\u001b[0;32m----> 4\u001b[0;31m \u001b[0;32mfrom\u001b[0m \u001b[0mMinorityGameComplex\u001b[0m \u001b[0;32mimport\u001b[0m \u001b[0;34m(\u001b[0m\u001b[0mNeighbors_SmallWorld\u001b[0m\u001b[0;34m,\u001b[0m \u001b[0mNeigbors_RandomGraph\u001b[0m\u001b[0;34m,\u001b[0m \u001b[0mReduced_Neighbors\u001b[0m\u001b[0;34m)\u001b[0m\u001b[0;34m\u001b[0m\u001b[0m\n\u001b[0m\u001b[1;32m      5\u001b[0m \u001b[0;32mfrom\u001b[0m \u001b[0mtime\u001b[0m \u001b[0;32mimport\u001b[0m \u001b[0mtime\u001b[0m\u001b[0;34m\u001b[0m\u001b[0m\n",
      "\u001b[0;31mImportError\u001b[0m: cannot import name 'Neigbors_RandomGraph'"
     ]
    }
   ],
   "source": [
    "import numpy as np\n",
    "import random\n",
    "import networkx as nx\n",
    "from MinorityGameComplex import (Neighbors_SmallWorld, Neigbors_RandomGraph, Reduced_Neighbors)\n",
    "from time import time"
   ]
  },
  {
   "cell_type": "markdown",
   "metadata": {},
   "source": [
    "## Draw (Network, Counts and Neighbors) and (strategies and scores)"
   ]
  },
  {
   "cell_type": "code",
   "execution_count": 89,
   "metadata": {},
   "outputs": [],
   "source": [
    "S = 2\n",
    "M = 2\n",
    "N = 5\n",
    "Ncop = 2\n",
    "p = 1\n",
    "strategies0 = 2 * np.random.randint(2, size=(N, S, 2**M)) - 1\n",
    "scores0 = np.random.randint(15, size=(N, S))-7\n",
    "counts, neighs = Neighbors_SmallWorld(N, p)\n",
    "#print('(counts, neighs) = ({}, {})'.format(counts, neighs))\n",
    "nodes_imitators = np.array(random.sample(range(N), Ncop))\n",
    "nodes_imitators.sort()\n",
    "counts, neighs = Reduced_Neighbors(counts, neighs, nodes_imitators)\n",
    "#print('(counts, neighs)_imitators = ({}, {})'.format(counts, neighs))"
   ]
  },
  {
   "cell_type": "markdown",
   "metadata": {},
   "source": [
    "### Choose the same neighbors, randomly"
   ]
  },
  {
   "cell_type": "code",
   "execution_count": 445,
   "metadata": {},
   "outputs": [],
   "source": [
    "chosen_neighs = np.zeros(len(counts)-1)\n",
    "for i in range(len(counts) - 1):\n",
    "    node = nodes_imitators[i]\n",
    "    neigh_copy = np.random.choice(neighs[counts[i]:counts[i + 1]])\n",
    "    chosen_neighs[i] = neigh_copy\n",
    "chosen_neighs = chosen_neighs.astype(int)"
   ]
  },
  {
   "cell_type": "markdown",
   "metadata": {},
   "source": [
    "# With arrays"
   ]
  },
  {
   "cell_type": "code",
   "execution_count": 446,
   "metadata": {},
   "outputs": [],
   "source": [
    "strategies = strategies0.copy()\n",
    "scores = scores0.copy()"
   ]
  },
  {
   "cell_type": "code",
   "execution_count": 447,
   "metadata": {},
   "outputs": [
    {
     "name": "stdout",
     "output_type": "stream",
     "text": [
      "0.0024995803833007812\n"
     ]
    }
   ],
   "source": [
    "t0=time()\n",
    "scores_max = np.argmax(scores, axis=1)\n",
    "\n",
    "scores_max_imitators = scores_max[nodes_imitators]\n",
    "scores_max_neighs = scores_max[chosen_neighs]\n",
    "\n",
    "scores_min_imitators = np.argmin(scores[nodes_imitators], axis=1)\n",
    "strategies_past = strategies.copy()\n",
    "copy_from = np.argwhere(scores[nodes_imitators, scores_max_imitators] < scores[\n",
    "    chosen_neighs, scores_max_neighs]).flatten()\n",
    "strategies[nodes_imitators[copy_from],scores_min_imitators[copy_from],:] = strategies_past[\n",
    "                chosen_neighs[copy_from], scores_max_neighs[copy_from], :]\n",
    "scores[nodes_imitators[copy_from], scores_min_imitators[copy_from]] = 0\n",
    "print(time()-t0)"
   ]
  },
  {
   "cell_type": "code",
   "execution_count": 448,
   "metadata": {},
   "outputs": [],
   "source": [
    "strategies_A = strategies.copy()\n",
    "scores_A = scores.copy()"
   ]
  },
  {
   "cell_type": "markdown",
   "metadata": {},
   "source": [
    "# With fors (less optimum)"
   ]
  },
  {
   "cell_type": "code",
   "execution_count": 449,
   "metadata": {},
   "outputs": [],
   "source": [
    "strategies = strategies0.copy()\n",
    "scores = scores0.copy()"
   ]
  },
  {
   "cell_type": "code",
   "execution_count": 450,
   "metadata": {},
   "outputs": [
    {
     "name": "stdout",
     "output_type": "stream",
     "text": [
      "0.00854802131652832\n"
     ]
    }
   ],
   "source": [
    "t0 = time()\n",
    "scores_max = np.argmax(scores, axis=1)\n",
    "scores_min_imitators = np.argmin(scores[nodes_imitators,:], axis=1)\n",
    "strategies_past = strategies.copy()\n",
    "scores_past = scores.copy()\n",
    "for i in range(len(counts) - 1):\n",
    "    node_imit = nodes_imitators[i]\n",
    "    #neigh_chosen = np.random.choice(neighs[counts[i]:counts[i + 1]])\n",
    "    max_node_imit = scores_max[node_imit]\n",
    "    min_node_imit = scores_min_imitators[i]\n",
    "    max_chosen_neigh = scores_max[chosen_neighs[i]]\n",
    "    if scores_past[node_imit, max_node_imit] < scores_past[chosen_neighs[i], max_chosen_neigh]:\n",
    "        strategies[node_imit, min_node_imit] = strategies_past[chosen_neighs[i], max_chosen_neigh]\n",
    "        scores[node_imit, min_node_imit] = 0\n",
    "print(time()-t0)"
   ]
  },
  {
   "cell_type": "code",
   "execution_count": 451,
   "metadata": {},
   "outputs": [],
   "source": [
    "strategies_B = strategies.copy()\n",
    "scores_B = scores.copy()"
   ]
  },
  {
   "cell_type": "markdown",
   "metadata": {},
   "source": [
    "# Comparison"
   ]
  },
  {
   "cell_type": "code",
   "execution_count": 452,
   "metadata": {},
   "outputs": [
    {
     "data": {
      "text/plain": [
       "True"
      ]
     },
     "execution_count": 452,
     "metadata": {},
     "output_type": "execute_result"
    }
   ],
   "source": [
    "np.array_equal(strategies_A, strategies_B)"
   ]
  },
  {
   "cell_type": "code",
   "execution_count": 453,
   "metadata": {},
   "outputs": [
    {
     "data": {
      "text/plain": [
       "True"
      ]
     },
     "execution_count": 453,
     "metadata": {},
     "output_type": "execute_result"
    }
   ],
   "source": [
    "np.array_equal(scores_A, scores_B)"
   ]
  },
  {
   "cell_type": "markdown",
   "metadata": {},
   "source": [
    "# Select the neighbor with highest score"
   ]
  },
  {
   "cell_type": "code",
   "execution_count": 104,
   "metadata": {},
   "outputs": [],
   "source": [
    "strategies = strategies0.copy()\n",
    "scores = scores0.copy()"
   ]
  },
  {
   "cell_type": "code",
   "execution_count": 102,
   "metadata": {},
   "outputs": [
    {
     "data": {
      "text/plain": [
       "array([[-5, -1],\n",
       "       [-3,  1],\n",
       "       [-4,  0],\n",
       "       [-3, -6],\n",
       "       [-3, -2]])"
      ]
     },
     "execution_count": 102,
     "metadata": {},
     "output_type": "execute_result"
    }
   ],
   "source": [
    "scores"
   ]
  },
  {
   "cell_type": "code",
   "execution_count": 106,
   "metadata": {},
   "outputs": [
    {
     "name": "stdout",
     "output_type": "stream",
     "text": [
      "scores \n",
      " [[-5 -1]\n",
      " [-3  1]\n",
      " [-4  0]\n",
      " [-3 -6]\n",
      " [-3 -2]]\n",
      "node  1\n",
      "neighs  [0 2 3 4]\n",
      "scores neighs \n",
      " [[-5 -1]\n",
      " [-4  0]\n",
      " [-3 -6]\n",
      " [-3 -2]]\n",
      "[-5 -1 -4  0 -3 -6 -3 -2]\n",
      "maximoneigh=  0\n",
      "maximosiguales=  [3]\n",
      "eligo el  3\n",
      "neigh, strat =  2 1\n",
      " \n",
      "scores \n",
      " [[-5 -1]\n",
      " [-3  1]\n",
      " [-4  0]\n",
      " [-3 -6]\n",
      " [-3 -2]]\n",
      "node  2\n",
      "neighs  [0 1 3 4]\n",
      "scores neighs \n",
      " [[-5 -1]\n",
      " [-3  1]\n",
      " [-3 -6]\n",
      " [-3 -2]]\n",
      "[-5 -1 -3  1 -3 -6 -3 -2]\n",
      "maximoneigh=  1\n",
      "maximosiguales=  [3]\n",
      "eligo el  3\n",
      "neigh, strat =  1 1\n",
      " \n",
      "maxneighs=  [2 1]\n",
      "numstratneigh= [1 1]\n",
      "strategymin imitators = \n",
      "[[ 1 -1  1  1]]\n",
      "new strategymin imitators = \n",
      "[[1 1 1 1]]\n",
      "scores\n",
      "[[-5 -1]\n",
      " [-3  1]\n",
      " [ 0  0]\n",
      " [-3 -6]\n",
      " [-3 -2]]\n"
     ]
    }
   ],
   "source": [
    "scores_max = np.argmax(scores, axis=1)\n",
    "scores_min_imitators = np.argmin(scores[nodes_imitators], axis=1)\n",
    "maxneighs = np.zeros(len(nodes_imitators)).astype(int)\n",
    "numstratneigh = np.zeros(len(nodes_imitators)).astype(int)\n",
    "for i in range(len(counts) - 1):\n",
    "    node = nodes_imitators[i]\n",
    "    print('scores \\n', scores)\n",
    "    print('node ', node)\n",
    "    print('neighs ', neighs[counts[i]:counts[i + 1]])\n",
    "    print('scores neighs \\n', scores[neighs[counts[i]:counts[i + 1]]])\n",
    "    print(scores[neighs[counts[i]:counts[i + 1]]].flatten())\n",
    "    maximoneigh = np.amax(scores[neighs[counts[i]:counts[i + 1]]].flatten())\n",
    "    print('maximoneigh= ', maximoneigh)\n",
    "    iguales = np.argwhere(\n",
    "        scores[neighs[counts[i]:counts[i + 1]]].flatten() == maximoneigh).flatten()\n",
    "    print('maximosiguales= ', iguales)\n",
    "    cual = np.random.choice(iguales)\n",
    "    print('eligo el ', cual)\n",
    "    strat = cual%S\n",
    "    neigh_con_maximo = neighs[counts[i]:counts[i + 1]][int(cual/S)]\n",
    "    maxneighs[i] = neigh_con_maximo\n",
    "    numstratneigh[i] = strat\n",
    "    print('neigh, strat = ', neigh_con_maximo, strat)\n",
    "    print(' ')\n",
    "    \n",
    "print('maxneighs= ', maxneighs)\n",
    "print('numstratneigh=', numstratneigh)\n",
    "copy_from = np.argwhere(scores[nodes_imitators, scores_max[nodes_imitators]] < scores[\n",
    "    maxneighs, numstratneigh]).flatten()\n",
    "print('strategymin imitators = ')\n",
    "print(strategies[nodes_imitators[copy_from],scores_min_imitators[copy_from],:])\n",
    "strategies[nodes_imitators[copy_from],scores_min_imitators[copy_from],:] = strategies[\n",
    "                                    maxneighs[copy_from], numstratneigh[copy_from], :]\n",
    "print('new strategymin imitators = ')\n",
    "print(strategies[nodes_imitators[copy_from],scores_min_imitators[copy_from],:])\n",
    "scores[nodes_imitators[copy_from], scores_min_imitators[copy_from]] = 0\n",
    "print('scores')\n",
    "print(scores)"
   ]
  },
  {
   "cell_type": "code",
   "execution_count": null,
   "metadata": {},
   "outputs": [],
   "source": []
  },
  {
   "cell_type": "code",
   "execution_count": 5,
   "metadata": {},
   "outputs": [],
   "source": [
    "imitators = np.array([1,15,23,50,98])"
   ]
  },
  {
   "cell_type": "code",
   "execution_count": 25,
   "metadata": {},
   "outputs": [
    {
     "data": {
      "text/plain": [
       "array([0.04644362, 0.48342698, 0.40955269, 0.15872487, 0.58787192])"
      ]
     },
     "execution_count": 25,
     "metadata": {},
     "output_type": "execute_result"
    }
   ],
   "source": [
    "who_now = np.random.rand(5)\n",
    "who_now"
   ]
  },
  {
   "cell_type": "code",
   "execution_count": 11,
   "metadata": {},
   "outputs": [
    {
     "data": {
      "text/plain": [
       "array([ True, False,  True, False, False])"
      ]
     },
     "execution_count": 11,
     "metadata": {},
     "output_type": "execute_result"
    }
   ],
   "source": [
    "who_now>0.6"
   ]
  },
  {
   "cell_type": "code",
   "execution_count": 13,
   "metadata": {},
   "outputs": [
    {
     "data": {
      "text/plain": [
       "0.001"
      ]
     },
     "execution_count": 13,
     "metadata": {},
     "output_type": "execute_result"
    }
   ],
   "source": [
    "1/1000"
   ]
  },
  {
   "cell_type": "code",
   "execution_count": 38,
   "metadata": {},
   "outputs": [
    {
     "name": "stdout",
     "output_type": "stream",
     "text": [
      "[23]\n",
      "[98]\n",
      "[98]\n",
      "[1]\n",
      "[15]\n"
     ]
    }
   ],
   "source": [
    "for i in range(1000):\n",
    "    who_now = np.random.rand(5)\n",
    "    if len(imitators[who_now<0.001])>0:\n",
    "        print(imitators[who_now<0.001])"
   ]
  },
  {
   "cell_type": "code",
   "execution_count": null,
   "metadata": {},
   "outputs": [],
   "source": []
  },
  {
   "cell_type": "code",
   "execution_count": 8,
   "metadata": {},
   "outputs": [
    {
     "ename": "NameError",
     "evalue": "name 'Neigbors_RandomGraph' is not defined",
     "output_type": "error",
     "traceback": [
      "\u001b[0;31m---------------------------------------------------------------------------\u001b[0m",
      "\u001b[0;31mNameError\u001b[0m                                 Traceback (most recent call last)",
      "\u001b[0;32m<ipython-input-8-94e4b027a296>\u001b[0m in \u001b[0;36m<module>\u001b[0;34m\u001b[0m\n\u001b[1;32m      7\u001b[0m \u001b[0mscores0\u001b[0m \u001b[0;34m=\u001b[0m \u001b[0mnp\u001b[0m\u001b[0;34m.\u001b[0m\u001b[0mrandom\u001b[0m\u001b[0;34m.\u001b[0m\u001b[0mrandint\u001b[0m\u001b[0;34m(\u001b[0m\u001b[0;36m15\u001b[0m\u001b[0;34m,\u001b[0m \u001b[0msize\u001b[0m\u001b[0;34m=\u001b[0m\u001b[0;34m(\u001b[0m\u001b[0mN\u001b[0m\u001b[0;34m,\u001b[0m \u001b[0mS\u001b[0m\u001b[0;34m)\u001b[0m\u001b[0;34m)\u001b[0m\u001b[0;34m-\u001b[0m\u001b[0;36m7\u001b[0m\u001b[0;34m\u001b[0m\u001b[0m\n\u001b[1;32m      8\u001b[0m \u001b[0;31m#counts, neighs = Neighbors_SmallWorld(N, p)\u001b[0m\u001b[0;34m\u001b[0m\u001b[0;34m\u001b[0m\u001b[0m\n\u001b[0;32m----> 9\u001b[0;31m \u001b[0mcounts\u001b[0m\u001b[0;34m,\u001b[0m \u001b[0mneighs\u001b[0m \u001b[0;34m=\u001b[0m \u001b[0mNeigbors_RandomGraph\u001b[0m\u001b[0;34m(\u001b[0m\u001b[0mN\u001b[0m\u001b[0;34m,\u001b[0m \u001b[0mp\u001b[0m\u001b[0;34m)\u001b[0m\u001b[0;34m\u001b[0m\u001b[0m\n\u001b[0m\u001b[1;32m     10\u001b[0m \u001b[0;31m#print('(counts, neighs) = ({}, {})'.format(counts, neighs))\u001b[0m\u001b[0;34m\u001b[0m\u001b[0;34m\u001b[0m\u001b[0m\n\u001b[1;32m     11\u001b[0m \u001b[0mnodes_imitators\u001b[0m \u001b[0;34m=\u001b[0m \u001b[0mnp\u001b[0m\u001b[0;34m.\u001b[0m\u001b[0marray\u001b[0m\u001b[0;34m(\u001b[0m\u001b[0mrandom\u001b[0m\u001b[0;34m.\u001b[0m\u001b[0msample\u001b[0m\u001b[0;34m(\u001b[0m\u001b[0mrange\u001b[0m\u001b[0;34m(\u001b[0m\u001b[0mN\u001b[0m\u001b[0;34m)\u001b[0m\u001b[0;34m,\u001b[0m \u001b[0mNcop\u001b[0m\u001b[0;34m)\u001b[0m\u001b[0;34m)\u001b[0m\u001b[0;34m\u001b[0m\u001b[0m\n",
      "\u001b[0;31mNameError\u001b[0m: name 'Neigbors_RandomGraph' is not defined"
     ]
    }
   ],
   "source": [
    "S = 2\n",
    "M = 2\n",
    "N = 5\n",
    "Ncop = 2\n",
    "p = 0.08\n",
    "strategies0 = 2 * np.random.randint(2, size=(N, S, 2**M)) - 1\n",
    "scores0 = np.random.randint(15, size=(N, S))-7\n",
    "#counts, neighs = Neighbors_SmallWorld(N, p)\n",
    "counts, neighs = Neigbors_RandomGraph(N, p)\n",
    "#print('(counts, neighs) = ({}, {})'.format(counts, neighs))\n",
    "nodes_imitators = np.array(random.sample(range(N), Ncop))\n",
    "nodes_imitators.sort()\n",
    "counts, neighs = Reduced_Neighbors(counts, neighs, nodes_imitators)\n",
    "#print('(counts, neighs)_imitators = ({}, {})'.format(counts, neighs))"
   ]
  },
  {
   "cell_type": "code",
   "execution_count": 4,
   "metadata": {},
   "outputs": [
    {
     "data": {
      "text/plain": [
       "(array([0, 4]), array([0, 4, 8]), array([1, 2, 3, 4, 0, 1, 2, 3]))"
      ]
     },
     "execution_count": 4,
     "metadata": {},
     "output_type": "execute_result"
    }
   ],
   "source": [
    "nodes_imitators, counts, neighs"
   ]
  },
  {
   "cell_type": "code",
   "execution_count": null,
   "metadata": {},
   "outputs": [],
   "source": [
    "scores_max = np.argmax(scores, axis=1)\n",
    "scores_min_imitators = np.argmin(scores[nodes_imitators], axis=1)\n",
    "maxneighs = np.zeros(len(nodes_imitators)).astype(int)\n",
    "numstratneigh = np.zeros(len(nodes_imitators)).astype(int)\n",
    "for i in range(len(counts) - 1):\n",
    "    node = nodes_imitators[i]\n",
    "    maximoneigh = np.amax(scores[neighs[counts[i]:counts[i + 1]]].flatten())\n",
    "    iguales = np.argwhere(\n",
    "        scores[neighs[counts[i]:counts[i + 1]]].flatten() == maximoneigh).flatten()\n",
    "    cual = np.random.choice(iguales)\n",
    "    strat = cual%S\n",
    "    neigh_con_maximo = neighs[counts[i]:counts[i + 1]][int(cual/S)]\n",
    "    maxneighs[i] = neigh_con_maximo\n",
    "    numstratneigh[i] = strat\n",
    "copy_from = np.argwhere(scores[nodes_imitators, scores_max[nodes_imitators]] < scores[\n",
    "    maxneighs, numstratneigh]).flatten()\n",
    "strategies[nodes_imitators[copy_from],scores_min_imitators[copy_from],:] = strategies[\n",
    "                                    maxneighs[copy_from], numstratneigh[copy_from], :]\n",
    "scores[nodes_imitators[copy_from], scores_min_imitators[copy_from]] = 0"
   ]
  },
  {
   "cell_type": "code",
   "execution_count": null,
   "metadata": {},
   "outputs": [],
   "source": []
  },
  {
   "cell_type": "code",
   "execution_count": 10,
   "metadata": {},
   "outputs": [],
   "source": [
    "N = 10\n",
    "grado = 4\n",
    "k = N*grado/2\n",
    "G = nx.gnm_random_graph(N, k)\n",
    "to_neighs = [[] for i in range(N)]\n",
    "for i in G.edges:\n",
    "    to_neighs[i[0]].append(i[1])\n",
    "    to_neighs[i[1]].append(i[0])\n",
    "neighs = []\n",
    "counts = [0]\n",
    "cum = 0\n",
    "for i in to_neighs:\n",
    "    cum += len(i)\n",
    "    counts.append(cum)\n",
    "    for j in i:\n",
    "        neighs.append(j)"
   ]
  },
  {
   "cell_type": "code",
   "execution_count": 11,
   "metadata": {},
   "outputs": [
    {
     "data": {
      "text/plain": [
       "(NodeView((0, 1, 2, 3, 4, 5, 6, 7, 8, 9)),\n",
       " EdgeView([(0, 9), (0, 2), (1, 4), (1, 5), (1, 6), (1, 7), (2, 8), (2, 4), (2, 7), (3, 8), (3, 6), (3, 7), (4, 8), (4, 6), (5, 8), (5, 7), (6, 8), (6, 7), (7, 9), (8, 9)]))"
      ]
     },
     "execution_count": 11,
     "metadata": {},
     "output_type": "execute_result"
    }
   ],
   "source": [
    "G.nodes, G.edges"
   ]
  },
  {
   "cell_type": "code",
   "execution_count": 13,
   "metadata": {},
   "outputs": [
    {
     "data": {
      "text/plain": [
       "[0, 2, 6, 10, 13, 17, 20, 25, 31, 37, 40]"
      ]
     },
     "execution_count": 13,
     "metadata": {},
     "output_type": "execute_result"
    }
   ],
   "source": [
    "counts"
   ]
  }
 ],
 "metadata": {
  "kernelspec": {
   "display_name": "Documentos",
   "language": "python",
   "name": "documentos"
  },
  "language_info": {
   "codemirror_mode": {
    "name": "ipython",
    "version": 3
   },
   "file_extension": ".py",
   "mimetype": "text/x-python",
   "name": "python",
   "nbconvert_exporter": "python",
   "pygments_lexer": "ipython3",
   "version": "3.5.2"
  }
 },
 "nbformat": 4,
 "nbformat_minor": 2
}
