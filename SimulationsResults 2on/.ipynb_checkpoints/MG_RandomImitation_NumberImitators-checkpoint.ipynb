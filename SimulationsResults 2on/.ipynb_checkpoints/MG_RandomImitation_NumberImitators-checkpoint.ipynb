{
 "cells": [
  {
   "cell_type": "code",
   "execution_count": 3,
   "metadata": {},
   "outputs": [],
   "source": [
    "import numpy as np\n",
    "import matplotlib.pyplot as plt\n",
    "import matplotlib.ticker as ticker\n",
    "from MinorityGameComplex import GameSimulationImitationSW"
   ]
  },
  {
   "cell_type": "markdown",
   "metadata": {},
   "source": [
    "# Change with $𝑁_{imitators}$"
   ]
  },
  {
   "cell_type": "markdown",
   "metadata": {},
   "source": [
    "### - Recollect measuresfrom simulations"
   ]
  },
  {
   "cell_type": "code",
   "execution_count": null,
   "metadata": {},
   "outputs": [],
   "source": [
    "S=2\n",
    "M=6\n",
    "N=201\n",
    "p=1\n",
    "\n",
    "numponderas = 10\n",
    "imprimecada = 5\n",
    "\n",
    "sigma = []\n",
    "gains = []\n",
    "gains_imitators = []\n",
    "Nimitators = [60, 70, 80, 90, 100, 110, 120, 130, 140]\n",
    "for Ncop in Nimitators:\n",
    "    print(' ..............................')\n",
    "    print(' N imitators = {}     ({} / {})'.format(Ncop, Nimitators.index(Ncop)+1, len(Nimitators)))\n",
    "    print(' ..............................')\n",
    "    s = 0\n",
    "    g = 0\n",
    "    gc = 0\n",
    "    for pond in range(numponderas):\n",
    "        A, G, GC = GameSimulationImitationSW(S, M, N, Ncop, p, T=10000)\n",
    "        s += np.var(A) / N\n",
    "        g += np.mean(G)\n",
    "        gc += np.mean(GC)\n",
    "        if (pond + 1) % imprimecada == 0:\n",
    "            print('        -Ponderacion nº {}/{}'.format(pond + 1, numponderas))\n",
    "            alpha_n = 2**M / N\n",
    "            print('        α = {:.3f}'.format(alpha_n))\n",
    "            print('             σ²/N = {}'.format(s / (pond + 1)))\n",
    "            print('             <g>  = {}'.format(g / (pond + 1)))\n",
    "            print('             <gc> = {}'.format(gc / (pond + 1)))\n",
    "    sigma.append(s / numponderas)\n",
    "    gains.append(g / numponderas)\n",
    "    gains_imitators.append(gc / numponderas)"
   ]
  },
  {
   "cell_type": "code",
   "execution_count": null,
   "metadata": {},
   "outputs": [],
   "source": [
    "file_name = 'Sigma,GainImitator,GainALLvsNimitators_6M201N_RandomSW,1p_10numponds'\n",
    "with open('{}.dat'.format(file_name), 'w') as file:\n",
    "    for i in range(len(Nimitators)):\n",
    "        file.write('{} {} {} {}\\n'.format(Nimitators[i], sigma[i], gains[i], gains_imitators[i]))"
   ]
  },
  {
   "cell_type": "markdown",
   "metadata": {},
   "source": [
    "### - Upload saved data"
   ]
  },
  {
   "cell_type": "code",
   "execution_count": 1,
   "metadata": {},
   "outputs": [],
   "source": [
    "Nimitators1 = []\n",
    "sigma1 = []\n",
    "gains1 = []\n",
    "gains_imitators1 = []\n",
    "file_name = 'Sigma,GainImitator,GainALLvsNimitators_6M201N_RandomSW,1p_10numponds'\n",
    "with open('{}.dat'.format(file_name), 'r') as file:\n",
    "    for line in file:\n",
    "        value = line.split()\n",
    "        value[3].split('\\n')\n",
    "        Nimitators1.append(float(value[0]))\n",
    "        sigma1.append(float(value[1]))\n",
    "        gains1.append(float(value[2]))\n",
    "        gains_imitators1.append(float(value[3]))"
   ]
  },
  {
   "cell_type": "markdown",
   "metadata": {},
   "source": [
    "### - PLOT"
   ]
  },
  {
   "cell_type": "code",
   "execution_count": 10,
   "metadata": {},
   "outputs": [
    {
     "data": {
      "text/plain": [
       "<matplotlib.legend.Legend at 0x7f5ce75d6d68>"
      ]
     },
     "execution_count": 10,
     "metadata": {},
     "output_type": "execute_result"
    },
    {
     "data": {
      "image/png": "[encoded data removed]",
      "text/plain": [
       "<Figure size 432x288 with 1 Axes>"
      ]
     },
     "metadata": {
      "needs_background": "light"
     },
     "output_type": "display_data"
    }
   ],
   "source": [
    "fig, ax = plt.subplots()\n",
    "ax.set(xlabel=r'$N_{cops}$')\n",
    "\"\"\"ax.xaxis.set_major_formatter(\n",
    "    ticker.FuncFormatter(lambda x, pos: ('{{:.{:1d}f}}'.format(\n",
    "        int(np.maximum(-np.log10(x), 0)))).format(x)))\"\"\"\n",
    "ax.tick_params(which='both', labelbottom=True, labeltop=False, labelleft=True, labelright=False,\n",
    "               bottom=True, top=True, left=True, right=True)\n",
    "\n",
    "ax.plot(Nimitators1, sigma1, marker='o', ms=6, mec='k', c ='b', mfc= 'b', mew = 2, alpha = .7,\n",
    "        ls='-', label=r'$\\sigma^2$')\n",
    "ax.plot(Nimitators1, gains1, marker='o', ms=6, mec='k', c ='r', mfc= 'r', mew = 2, alpha = .7,\n",
    "        ls='-', label=r'$G_{imitators}$')\n",
    "ax.plot(Nimitators1, gains_imitators1, marker='o', ms=6, mec='k', c ='g', mfc= 'g', mew = 2, alpha = .7,\n",
    "        ls='-', label=r'$G_{normals}$')\n",
    "\n",
    "ax.axhline(y=1, xmin=0, xmax=1, color='k', alpha=0.7, linestyle='--')\n",
    "ax.axhline(y=-1, xmin=0, xmax=1, color='k', alpha=0.7, linestyle='--')\n",
    "ax.legend(loc=0, bbox_to_anchor= (1., 0.65))"
   ]
  }
 ],
 "metadata": {
  "kernelspec": {
   "display_name": "Documentos",
   "language": "python",
   "name": "documentos"
  },
  "language_info": {
   "codemirror_mode": {
    "name": "ipython",
    "version": 3
   },
   "file_extension": ".py",
   "mimetype": "text/x-python",
   "name": "python",
   "nbconvert_exporter": "python",
   "pygments_lexer": "ipython3",
   "version": "3.5.2"
  }
 },
 "nbformat": 4,
 "nbformat_minor": 2
}
