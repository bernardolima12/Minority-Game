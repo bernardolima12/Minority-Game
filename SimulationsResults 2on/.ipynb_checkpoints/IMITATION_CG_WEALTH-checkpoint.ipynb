{
 "cells": [
  {
   "cell_type": "code",
   "execution_count": 1,
   "metadata": {},
   "outputs": [],
   "source": [
    "import numpy as np\n",
    "import matplotlib.pyplot as plt\n",
    "import matplotlib.ticker as ticker\n",
    "from matplotlib.ticker import MultipleLocator\n",
    "from MinorityGameComplex import GameSimulationImitationTermal"
   ]
  },
  {
   "cell_type": "code",
   "execution_count": 68,
   "metadata": {},
   "outputs": [],
   "source": [
    "S=2\n",
    "M=6\n",
    "N=301\n",
    "Ncop=100\n",
    "T=100000\n",
    "dynT=1000\n",
    "\n",
    "A = np.zeros(())\n",
    "G = np.zeros(())\n",
    "GI = np.zeros(())\n",
    "SM = np.zeros(())\n",
    "SMI = np.zeros(())\n",
    "for i in range(ponderas):\n",
    "    a,g,gi,sm,smi=GameSimulationImitationTermal(S, M, N, Ncop, T, dynT)"
   ]
  },
  {
   "cell_type": "code",
   "execution_count": 75,
   "metadata": {},
   "outputs": [],
   "source": [
    "media = np.mean(G,axis=0)\n",
    "mediaGI = np.mean(GI,axis=0)"
   ]
  },
  {
   "cell_type": "code",
   "execution_count": 78,
   "metadata": {},
   "outputs": [
    {
     "data": {
      "text/plain": [
       "Text(0.5, 0, '$<G_i>$')"
      ]
     },
     "execution_count": 78,
     "metadata": {},
     "output_type": "execute_result"
    },
    {
     "data": {
      "image/png": "[encoded data removed]",
      "text/plain": [
       "<Figure size 432x288 with 1 Axes>"
      ]
     },
     "metadata": {
      "needs_background": "light"
     },
     "output_type": "display_data"
    }
   ],
   "source": [
    "fig, ax = plt.subplots()\n",
    "ax.hist(media, bins = 20, alpha=0.5, histtype='step')\n",
    "ax.hist(mediaGI, bins = 30, alpha=0.5, histtype='step', color='red')\n",
    "#ax.set_xlabel(r'$<G_i>$')\n",
    "ax.set_yscale('log')\n",
    "ax.set_xlabel(r'$<G_i>$')"
   ]
  }
 ],
 "metadata": {
  "kernelspec": {
   "display_name": "Documentos",
   "language": "python",
   "name": "documentos"
  },
  "language_info": {
   "codemirror_mode": {
    "name": "ipython",
    "version": 3
   },
   "file_extension": ".py",
   "mimetype": "text/x-python",
   "name": "python",
   "nbconvert_exporter": "python",
   "pygments_lexer": "ipython3",
   "version": "3.5.2"
  }
 },
 "nbformat": 4,
 "nbformat_minor": 2
}
