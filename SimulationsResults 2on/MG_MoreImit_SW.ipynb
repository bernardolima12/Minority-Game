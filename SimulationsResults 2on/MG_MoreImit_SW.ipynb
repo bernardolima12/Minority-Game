{
 "cells": [
  {
   "cell_type": "code",
   "execution_count": 1,
   "metadata": {},
   "outputs": [],
   "source": [
    "import numpy as np\n",
    "import matplotlib.pyplot as plt\n",
    "import matplotlib.ticker as ticker\n",
    "from matplotlib.ticker import MultipleLocator\n",
    "from MinorityGameComplex import GameSimulationImitationTermalGraphs"
   ]
  },
  {
   "cell_type": "code",
   "execution_count": null,
   "metadata": {},
   "outputs": [],
   "source": [
    "S=2\n",
    "N=401\n",
    "T=10000\n",
    "dynT=1000\n",
    "numponderas = 100\n",
    "imprimecada = 10\n",
    "\n",
    "net=1 #SW NETWORK\n",
    "grado=30\n",
    "p=None\n",
    "\n",
    "lenemes = 8\n",
    "emes = np.arange(5,5+lenemes)\n",
    "alpha=2**emes/N\n",
    "\n",
    "lenimis = 5\n",
    "nimis = np.array([1,100,200,300,400])\n",
    "\n",
    "sigma = np.zeros((lenimis, lenemes))\n",
    "gains = np.zeros((lenimis, lenemes))\n",
    "gains_imitators = np.zeros((lenimis, lenemes))\n",
    "\n",
    "for m in range(lenemes):\n",
    "    M = emes[m]\n",
    "    for ncop in range(lenimis):\n",
    "        Ncop = nimis[ncop]\n",
    "        print(' ..............................')\n",
    "        print('              M = {}     ({} / {})'.format(M, m+1, lenemes))\n",
    "        print('           Ncop = {}     ({} / {})'.format(Ncop, ncop+1, lenimis))\n",
    "        print(' ..............................')\n",
    "        s = 0\n",
    "        g = 0\n",
    "        gc = 0\n",
    "        for pond in range(numponderas):\n",
    "            A, G, GC = GameSimulationImitationTermalGraphs(S, M, N, Ncop, T, dynT, net, grado, p)\n",
    "            s += np.var(A) / N\n",
    "            g += np.mean(G)\n",
    "            gc += np.mean(GC)\n",
    "            if (pond + 1) % imprimecada == 0:\n",
    "                print('        -Ponderacion nº {}/{}'.format(pond + 1, numponderas))\n",
    "                print('             σ²/N = {}'.format(s / (pond + 1)))\n",
    "                print('             <g>  = {}'.format(g / (pond + 1)))\n",
    "                print('             <gi> = {}'.format(gc / (pond + 1)))\n",
    "        sigma[ncop,m] =  s / numponderas\n",
    "        gains[ncop,m] = g / numponderas\n",
    "        gains_imitators[ncop,m] = gc / numponderas\n",
    "        print('...Remembering...')\n",
    "        print('Ncops = ', nimis[:(ncop+1)])\n",
    "        print('σ²/N = ', sigma[:(ncop+1),m])\n",
    "        print(' <g> = ', gains[:(ncop+1),m])\n",
    "        print('<gi> = ', gains_imitators[:(ncop+1),m])"
   ]
  }
 ],
 "metadata": {
  "kernelspec": {
   "display_name": "Documentos",
   "language": "python",
   "name": "documentos"
  },
  "language_info": {
   "codemirror_mode": {
    "name": "ipython",
    "version": 3
   },
   "file_extension": ".py",
   "mimetype": "text/x-python",
   "name": "python",
   "nbconvert_exporter": "python",
   "pygments_lexer": "ipython3",
   "version": "3.5.2"
  }
 },
 "nbformat": 4,
 "nbformat_minor": 2
}
