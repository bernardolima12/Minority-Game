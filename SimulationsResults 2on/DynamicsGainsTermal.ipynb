{
 "cells": [
  {
   "cell_type": "code",
   "execution_count": 1,
   "metadata": {},
   "outputs": [],
   "source": [
    "import numpy as np\n",
    "import random\n",
    "import matplotlib.pyplot as plt\n",
    "import matplotlib.ticker as ticker\n",
    "from MinorityGameComplex import GameSimulationImitationTermal"
   ]
  },
  {
   "cell_type": "code",
   "execution_count": 18,
   "metadata": {},
   "outputs": [],
   "source": [
    "dynamic_times = np.logspace(0,4.3,11).astype(int)"
   ]
  },
  {
   "cell_type": "code",
   "execution_count": 19,
   "metadata": {},
   "outputs": [
    {
     "data": {
      "text/plain": [
       "array([    1,     2,     7,    19,    52,   141,   380,  1023,  2754,\n",
       "        7413, 19952])"
      ]
     },
     "execution_count": 19,
     "metadata": {},
     "output_type": "execute_result"
    }
   ],
   "source": [
    "dynamic_times"
   ]
  },
  {
   "cell_type": "code",
   "execution_count": 35,
   "metadata": {
    "scrolled": true
   },
   "outputs": [
    {
     "name": "stdout",
     "output_type": "stream",
     "text": [
      "alpha=0.3360\n"
     ]
    },
    {
     "name": "stderr",
     "output_type": "stream",
     "text": [
      "ERROR:root:Internal Python error in the inspect module.\n",
      "Below is the traceback from this internal error.\n",
      "\n"
     ]
    },
    {
     "name": "stdout",
     "output_type": "stream",
     "text": [
      "Traceback (most recent call last):\n",
      "  File \"/home/raymun/.local/share/virtualenvs/Documentos-R9YD94Vv/lib/python3.5/site-packages/IPython/core/interactiveshell.py\", line 3291, in run_code\n",
      "    exec(code_obj, self.user_global_ns, self.user_ns)\n",
      "  File \"<ipython-input-35-c564ab50cac8>\", line 13, in <module>\n",
      "    A, G, GC = GameSimulationImitationTermal(S, M, N, Ncop, T, dynT)\n",
      "  File \"/home/raymun/Documentos/Minority_Game/Minority-Game/SimulationsResults 2on/MinorityGameComplex.py\", line 495, in GameSimulationImitationTermal\n",
      "    A_t[t] = A\n",
      "KeyboardInterrupt\n",
      "\n",
      "During handling of the above exception, another exception occurred:\n",
      "\n",
      "Traceback (most recent call last):\n",
      "  File \"/home/raymun/.local/share/virtualenvs/Documentos-R9YD94Vv/lib/python3.5/site-packages/IPython/core/interactiveshell.py\", line 2033, in showtraceback\n",
      "    stb = value._render_traceback_()\n",
      "AttributeError: 'KeyboardInterrupt' object has no attribute '_render_traceback_'\n",
      "\n",
      "During handling of the above exception, another exception occurred:\n",
      "\n",
      "Traceback (most recent call last):\n",
      "  File \"/home/raymun/.local/share/virtualenvs/Documentos-R9YD94Vv/lib/python3.5/site-packages/IPython/core/ultratb.py\", line 1095, in get_records\n",
      "    return _fixed_getinnerframes(etb, number_of_lines_of_context, tb_offset)\n",
      "  File \"/home/raymun/.local/share/virtualenvs/Documentos-R9YD94Vv/lib/python3.5/site-packages/IPython/core/ultratb.py\", line 313, in wrapped\n",
      "    return f(*args, **kwargs)\n",
      "  File \"/home/raymun/.local/share/virtualenvs/Documentos-R9YD94Vv/lib/python3.5/site-packages/IPython/core/ultratb.py\", line 347, in _fixed_getinnerframes\n",
      "    records = fix_frame_records_filenames(inspect.getinnerframes(etb, context))\n",
      "  File \"/usr/lib/python3.5/inspect.py\", line 1453, in getinnerframes\n",
      "    frameinfo = (tb.tb_frame,) + getframeinfo(tb, context)\n",
      "  File \"/usr/lib/python3.5/inspect.py\", line 1410, in getframeinfo\n",
      "    filename = getsourcefile(frame) or getfile(frame)\n",
      "  File \"/usr/lib/python3.5/inspect.py\", line 672, in getsourcefile\n",
      "    if getattr(getmodule(object, filename), '__loader__', None) is not None:\n",
      "  File \"/usr/lib/python3.5/inspect.py\", line 708, in getmodule\n",
      "    for modname, module in list(sys.modules.items()):\n",
      "KeyboardInterrupt\n"
     ]
    },
    {
     "ename": "KeyboardInterrupt",
     "evalue": "",
     "output_type": "error",
     "traceback": [
      "\u001b[0;31m---------------------------------------------------------------------------\u001b[0m"
     ]
    }
   ],
   "source": [
    "S=2\n",
    "M=7\n",
    "N=381\n",
    "Ncop=380\n",
    "dynT=2500\n",
    "T=10000000\n",
    "ponderas = 1\n",
    "imprime = 1\n",
    "print('alpha={:.4f}'.format(2**M/N))\n",
    "meangains=np.zeros(T)\n",
    "meangainimi=np.zeros(T)\n",
    "for i in range(ponderas):\n",
    "    A, G, GC = GameSimulationImitationTermal(S, M, N, Ncop, T, dynT)\n",
    "    for t in range(T):\n",
    "        if t<10000:\n",
    "            meangains[t] += np.mean(G[:(t+1)])\n",
    "            meangainimi[t] += np.mean(GC[:(t+1)])\n",
    "        else:\n",
    "            meangains[t] += np.mean(G[(t-9999):t])\n",
    "            meangainimi[t] += np.mean(GC[(t-9999):t])\n",
    "    if (i+1)%imprime==0:\n",
    "        print(' - Pondera nº{}/{}'.format(i+1,ponderas))\n",
    "        print('          <g(T)> = {}'.format(meangains[-1]/(i+1)))\n",
    "        print('        <g_I(T)> = {}'.format(meangainimi[-1]/(i+1)))\n",
    "meangains = meangains/ponderas\n",
    "meangainimi = meangainimi/ponderas"
   ]
  },
  {
   "cell_type": "code",
   "execution_count": 34,
   "metadata": {},
   "outputs": [
    {
     "data": {
      "text/plain": [
       "<matplotlib.legend.Legend at 0x7f3c8ed90c50>"
      ]
     },
     "execution_count": 34,
     "metadata": {},
     "output_type": "execute_result"
    },
    {
     "data": {
      "image/png": "[encoded data removed]",
      "text/plain": [
       "<Figure size 864x432 with 1 Axes>"
      ]
     },
     "metadata": {
      "needs_background": "light"
     },
     "output_type": "display_data"
    }
   ],
   "source": [
    "fig, ax = plt.subplots(1, figsize=(12,6))\n",
    "ax.set_xscale('log')\n",
    "#ax.set_yscale('log')\n",
    "#ax.set_ylim([-5,-1])\n",
    "\n",
    "ax.set_xlabel(r'$t$', fontsize='large')\n",
    "ax.set_ylabel(r'$G_i$', fontsize='large')\n",
    "\n",
    "ax.tick_params(which='minor', direction = 'inout', length=3, width=1,\n",
    "              labelbottom=False, labeltop=False, labelleft=False, labelright=False,\n",
    "                  bottom=True, top=True, left=True, right=True)\n",
    "\n",
    "ax.tick_params(which='major', direction = 'inout', length=6, width = 2,\n",
    "                  labelbottom=True, labeltop=False, labelleft=True, labelright=False,\n",
    "                  bottom=True, top=True, left=True, right=True)\n",
    "\n",
    "cols = ['dodgerblue', 'yellowgreen', 'crimson', 'forestgreen', 'cyan', 'darkblue']\n",
    "\n",
    "lin12, = ax.plot(np.arange(10,T-1), meangainimi[10:-1], lw=1, ls = '-', color = cols[3], alpha=.8)\n",
    "lin101, = ax.plot(np.arange(10,T-1), meangains[10:-1], lw=1, ls = '-', color = 'k', alpha=.8)\n",
    "\n",
    "\"\"\"xticks1 = [0.1, 1, 10]\n",
    "ax.set_xticks(xticks1)\n",
    "ax.set_xticklabels([str(i) for i in xticks1])\"\"\"\n",
    "\n",
    "#ax.axhline(y=0, xmin=0, xmax=1, color='k', alpha=0.7, linestyle='--')\n",
    "#for i in range(int(T/dynT)-1):\n",
    "#    ax.axvline(x=dynT*(i+1), linestyle='--', lw=.5, color='k', alpha=.5)\n",
    "\n",
    "labels = [r'$G_{I}$ ($N_I=1$)', r'$G_{ALL}$']\n",
    "ax.legend([(lin12,), (lin101,) ], labels, loc='center', bbox_to_anchor=[1.1,0.5])"
   ]
  }
 ],
 "metadata": {
  "kernelspec": {
   "display_name": "Documentos",
   "language": "python",
   "name": "documentos"
  },
  "language_info": {
   "codemirror_mode": {
    "name": "ipython",
    "version": 3
   },
   "file_extension": ".py",
   "mimetype": "text/x-python",
   "name": "python",
   "nbconvert_exporter": "python",
   "pygments_lexer": "ipython3",
   "version": "3.5.2"
  }
 },
 "nbformat": 4,
 "nbformat_minor": 2
}
