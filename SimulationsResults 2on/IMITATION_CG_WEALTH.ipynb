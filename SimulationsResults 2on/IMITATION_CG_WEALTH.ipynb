{
 "cells": [
  {
   "cell_type": "code",
   "execution_count": 2,
   "metadata": {},
   "outputs": [],
   "source": [
    "import numpy as np\n",
    "import matplotlib.pyplot as plt\n",
    "import matplotlib.ticker as ticker\n",
    "from matplotlib.ticker import MultipleLocator\n",
    "from MinorityGameComplex import GameSimulationImitationTermal, GameSimulationImitationTermalGraph"
   ]
  },
  {
   "cell_type": "code",
   "execution_count": 27,
   "metadata": {
    "scrolled": true
   },
   "outputs": [
    {
     "name": "stdout",
     "output_type": "stream",
     "text": [
      "Ponderacion nº10/100\n",
      "Ponderacion nº20/100\n",
      "Ponderacion nº30/100\n",
      "Ponderacion nº40/100\n",
      "Ponderacion nº50/100\n",
      "Ponderacion nº60/100\n",
      "Ponderacion nº70/100\n",
      "Ponderacion nº80/100\n",
      "Ponderacion nº90/100\n",
      "Ponderacion nº100/100\n"
     ]
    }
   ],
   "source": [
    "S=2\n",
    "M=6\n",
    "N=301\n",
    "Ncop=100\n",
    "\n",
    "T=100000\n",
    "dynT=1000\n",
    "\n",
    "ponderas = 100\n",
    "imprime = 10\n",
    "\n",
    "G = np.zeros((N-Ncop))\n",
    "GI = np.zeros((Ncop))\n",
    "for i in range(ponderas):\n",
    "    if (i+1)%imprime==0:\n",
    "        print('Ponderacion nº{}/{}'.format(i+1,ponderas))\n",
    "    A,g,gi,s,si=GameSimulationImitationTermal(S, M, N, Ncop, T, dynT)\n",
    "    G += np.mean(g,axis=0)\n",
    "    GI += np.mean(gi,axis=0)\n",
    "G /= ponderas\n",
    "GI /= ponderas"
   ]
  },
  {
   "cell_type": "code",
   "execution_count": 75,
   "metadata": {},
   "outputs": [],
   "source": [
    "#media = np.mean(G,axis=0)\n",
    "#mediaGI = np.mean(GI,axis=0)"
   ]
  },
  {
   "cell_type": "code",
   "execution_count": 28,
   "metadata": {},
   "outputs": [
    {
     "data": {
      "text/plain": [
       "Text(0.5, 0, '$<G_i>$')"
      ]
     },
     "execution_count": 28,
     "metadata": {},
     "output_type": "execute_result"
    },
    {
     "data": {
      "image/png": "[encoded data removed]",
      "text/plain": [
       "<Figure size 432x288 with 1 Axes>"
      ]
     },
     "metadata": {
      "needs_background": "light"
     },
     "output_type": "display_data"
    }
   ],
   "source": [
    "fig, ax = plt.subplots()\n",
    "ax.hist(G, bins = 20, alpha=0.5, histtype='step', label = 'Normal agents')\n",
    "ax.hist(GI, bins = 30, alpha=0.5, histtype='step', color ='red', label = 'Imitators')\n",
    "#ax.set_xlabel(r'$<G_i>$')\n",
    "#ax.set_yscale('log')\n",
    "ax.legend()\n",
    "ax.set_xlabel(r'$<G_i>$')"
   ]
  }
 ],
 "metadata": {
  "kernelspec": {
   "display_name": "Documentos",
   "language": "python",
   "name": "documentos"
  },
  "language_info": {
   "codemirror_mode": {
    "name": "ipython",
    "version": 3
   },
   "file_extension": ".py",
   "mimetype": "text/x-python",
   "name": "python",
   "nbconvert_exporter": "python",
   "pygments_lexer": "ipython3",
   "version": "3.5.2"
  }
 },
 "nbformat": 4,
 "nbformat_minor": 2
}
