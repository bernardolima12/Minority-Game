{
 "cells": [
  {
   "cell_type": "code",
   "execution_count": 1,
   "metadata": {},
   "outputs": [],
   "source": [
    "import numpy as np\n",
    "import matplotlib.pyplot as plt\n",
    "import matplotlib.ticker as ticker\n",
    "from MinorityGameComplex import GameSimulationImitationTermalGraphs"
   ]
  },
  {
   "cell_type": "code",
   "execution_count": 3,
   "metadata": {
    "scrolled": true
   },
   "outputs": [
    {
     "name": "stdout",
     "output_type": "stream",
     "text": [
      " ..............................\n",
      "              M = 5     (1 / 3)\n",
      "   Dynamic time = 1     (1 / 12)\n",
      " ..............................\n",
      "        -Ponderacion nº 10/100\n",
      "             σ²/N = 3.8676131046034916\n",
      "             <g>  = -3.8563085\n",
      "             <gi> = -8.38948\n",
      "        -Ponderacion nº 20/100\n",
      "             σ²/N = 3.9043309085536158\n",
      "             <g>  = -3.8920591125\n",
      "             <gi> = -8.813094999999999\n",
      "        -Ponderacion nº 30/100\n",
      "             σ²/N = 3.8724404657747296\n",
      "             <g>  = -3.860605425\n",
      "             <gi> = -8.606496666666665\n"
     ]
    },
    {
     "ename": "KeyboardInterrupt",
     "evalue": "",
     "output_type": "error",
     "traceback": [
      "\u001b[0;31m---------------------------------------------------------------------------\u001b[0m",
      "\u001b[0;31mKeyboardInterrupt\u001b[0m                         Traceback (most recent call last)",
      "\u001b[0;32m<ipython-input-3-0d173aa3759b>\u001b[0m in \u001b[0;36m<module>\u001b[0;34m\u001b[0m\n\u001b[1;32m     32\u001b[0m         \u001b[0mgc\u001b[0m \u001b[0;34m=\u001b[0m \u001b[0;36m0\u001b[0m\u001b[0;34m\u001b[0m\u001b[0m\n\u001b[1;32m     33\u001b[0m         \u001b[0;32mfor\u001b[0m \u001b[0mpond\u001b[0m \u001b[0;32min\u001b[0m \u001b[0mrange\u001b[0m\u001b[0;34m(\u001b[0m\u001b[0mnumponderas\u001b[0m\u001b[0;34m)\u001b[0m\u001b[0;34m:\u001b[0m\u001b[0;34m\u001b[0m\u001b[0m\n\u001b[0;32m---> 34\u001b[0;31m             \u001b[0mA\u001b[0m\u001b[0;34m,\u001b[0m \u001b[0mG\u001b[0m\u001b[0;34m,\u001b[0m \u001b[0mGC\u001b[0m \u001b[0;34m=\u001b[0m \u001b[0mGameSimulationImitationTermalGraphs\u001b[0m\u001b[0;34m(\u001b[0m\u001b[0mS\u001b[0m\u001b[0;34m,\u001b[0m \u001b[0mM\u001b[0m\u001b[0;34m,\u001b[0m \u001b[0mN\u001b[0m\u001b[0;34m,\u001b[0m \u001b[0mNcop\u001b[0m\u001b[0;34m,\u001b[0m \u001b[0mT\u001b[0m\u001b[0;34m,\u001b[0m \u001b[0mdynT\u001b[0m\u001b[0;34m,\u001b[0m \u001b[0mnet\u001b[0m\u001b[0;34m,\u001b[0m \u001b[0mgrado\u001b[0m\u001b[0;34m,\u001b[0m \u001b[0mp\u001b[0m\u001b[0;34m,\u001b[0m \u001b[0mm\u001b[0m\u001b[0;34m)\u001b[0m\u001b[0;34m\u001b[0m\u001b[0m\n\u001b[0m\u001b[1;32m     35\u001b[0m             \u001b[0ms\u001b[0m \u001b[0;34m+=\u001b[0m \u001b[0mnp\u001b[0m\u001b[0;34m.\u001b[0m\u001b[0mvar\u001b[0m\u001b[0;34m(\u001b[0m\u001b[0mA\u001b[0m\u001b[0;34m)\u001b[0m \u001b[0;34m/\u001b[0m \u001b[0mN\u001b[0m\u001b[0;34m\u001b[0m\u001b[0m\n\u001b[1;32m     36\u001b[0m             \u001b[0mg\u001b[0m \u001b[0;34m+=\u001b[0m \u001b[0mnp\u001b[0m\u001b[0;34m.\u001b[0m\u001b[0mmean\u001b[0m\u001b[0;34m(\u001b[0m\u001b[0mG\u001b[0m\u001b[0;34m)\u001b[0m\u001b[0;34m\u001b[0m\u001b[0m\n",
      "\u001b[0;32m~/Documentos/Minority_Game/Minority-Game/SimulationsResults 2on/MinorityGameComplex.py\u001b[0m in \u001b[0;36mGameSimulationImitationTermalGraphs\u001b[0;34m(S, M, N, Ncop, T, dynT, net, grado, p, m_ba)\u001b[0m\n\u001b[1;32m    576\u001b[0m         A, scores, gains = GameStepImitationTermalGraphs(S, M, N, Ncop, t, counts, neighs,\n\u001b[1;32m    577\u001b[0m                                         nodes, imitators_now, strategies, scores)\n\u001b[0;32m--> 578\u001b[0;31m         \u001b[0mA_t\u001b[0m\u001b[0;34m[\u001b[0m\u001b[0mt\u001b[0m\u001b[0;34m]\u001b[0m \u001b[0;34m=\u001b[0m \u001b[0mA\u001b[0m\u001b[0;34m\u001b[0m\u001b[0m\n\u001b[0m\u001b[1;32m    579\u001b[0m         \u001b[0mG_t\u001b[0m\u001b[0;34m[\u001b[0m\u001b[0mt\u001b[0m\u001b[0;34m]\u001b[0m \u001b[0;34m=\u001b[0m \u001b[0mnp\u001b[0m\u001b[0;34m.\u001b[0m\u001b[0mmean\u001b[0m\u001b[0;34m(\u001b[0m\u001b[0mgains\u001b[0m\u001b[0;34m[\u001b[0m\u001b[0mnodes\u001b[0m\u001b[0;34m]\u001b[0m\u001b[0;34m)\u001b[0m\u001b[0;34m\u001b[0m\u001b[0m\n\u001b[1;32m    580\u001b[0m         \u001b[0mGI_t\u001b[0m\u001b[0;34m[\u001b[0m\u001b[0mt\u001b[0m\u001b[0;34m]\u001b[0m \u001b[0;34m=\u001b[0m \u001b[0mnp\u001b[0m\u001b[0;34m.\u001b[0m\u001b[0mmean\u001b[0m\u001b[0;34m(\u001b[0m\u001b[0mgains\u001b[0m\u001b[0;34m[\u001b[0m\u001b[0mnodes_imitators\u001b[0m\u001b[0;34m]\u001b[0m\u001b[0;34m)\u001b[0m\u001b[0;34m\u001b[0m\u001b[0m\n",
      "\u001b[0;32m~/Documentos/Minority_Game/Minority-Game/SimulationsResults 2on/MinorityGameComplex.py\u001b[0m in \u001b[0;36mGameStepImitationTermalGraphs\u001b[0;34m(S, M, N, Ncop, t, counts, neighs, nodes, imitators_now, strategies, scores)\u001b[0m\n\u001b[1;32m    539\u001b[0m     \u001b[0mstate\u001b[0m \u001b[0;34m=\u001b[0m \u001b[0mnp\u001b[0m\u001b[0;34m.\u001b[0m\u001b[0mrandom\u001b[0m\u001b[0;34m.\u001b[0m\u001b[0mrandint\u001b[0m\u001b[0;34m(\u001b[0m\u001b[0;36m2\u001b[0m\u001b[0;34m**\u001b[0m\u001b[0mM\u001b[0m\u001b[0;34m)\u001b[0m\u001b[0;34m\u001b[0m\u001b[0m\n\u001b[1;32m    540\u001b[0m     \u001b[0mai\u001b[0m \u001b[0;34m=\u001b[0m \u001b[0mstrategies\u001b[0m\u001b[0;34m[\u001b[0m\u001b[0mnp\u001b[0m\u001b[0;34m.\u001b[0m\u001b[0marange\u001b[0m\u001b[0;34m(\u001b[0m\u001b[0mN\u001b[0m\u001b[0;34m)\u001b[0m\u001b[0;34m,\u001b[0m\u001b[0mscores_max\u001b[0m\u001b[0;34m,\u001b[0m\u001b[0mstate\u001b[0m\u001b[0;34m]\u001b[0m\u001b[0;34m\u001b[0m\u001b[0m\n\u001b[0;32m--> 541\u001b[0;31m \u001b[0;34m\u001b[0m\u001b[0m\n\u001b[0m\u001b[1;32m    542\u001b[0m     \u001b[0mA\u001b[0m \u001b[0;34m=\u001b[0m \u001b[0mnp\u001b[0m\u001b[0;34m.\u001b[0m\u001b[0msum\u001b[0m\u001b[0;34m(\u001b[0m\u001b[0mai\u001b[0m\u001b[0;34m)\u001b[0m\u001b[0;34m\u001b[0m\u001b[0m\n\u001b[1;32m    543\u001b[0m     \u001b[0mgains\u001b[0m \u001b[0;34m=\u001b[0m \u001b[0;34m-\u001b[0m\u001b[0mA\u001b[0m \u001b[0;34m*\u001b[0m \u001b[0mai\u001b[0m\u001b[0;34m\u001b[0m\u001b[0m\n",
      "\u001b[0;31mKeyboardInterrupt\u001b[0m: "
     ]
    }
   ],
   "source": [
    "S=2\n",
    "N=401\n",
    "Ncop=1\n",
    "T=20000\n",
    "numponderas = 100\n",
    "imprimecada = 10\n",
    "emes = np.array([5,7,10])\n",
    "\n",
    "net=1 #SMALL WORLD NETWORK\n",
    "grado=4\n",
    "p=0.3\n",
    "\n",
    "lendyn = 12\n",
    "leneme = 3\n",
    "sigma = np.zeros((lendyn, leneme))\n",
    "gains = np.zeros((lendyn, leneme))\n",
    "gains_imitators = np.zeros((lendyn, leneme))\n",
    "\n",
    "dynamic_times = np.logspace(0,4.3,lendyn).astype(int)\n",
    "\n",
    "for m in range(len(emes)):\n",
    "    M = emes[m]\n",
    "    for dynt in range(len(dynamic_times)):\n",
    "        dynT = dynamic_times[dynt]\n",
    "        print(' ..............................')\n",
    "        print('              M = {}     ({} / {})'.format(M, m+1, leneme))\n",
    "        print('   Dynamic time = {}     ({} / {})'.format(dynT, dynt+1, lendyn))\n",
    "        print(' ..............................')\n",
    "        s = 0\n",
    "        g = 0\n",
    "        gc = 0\n",
    "        for pond in range(numponderas):\n",
    "            A, G, GC = GameSimulationImitationTermalGraphs(S, M, N, Ncop, T, dynT, net, grado, p)\n",
    "            s += np.var(A) / N\n",
    "            g += np.mean(G)\n",
    "            gc += np.mean(GC)\n",
    "            if (pond + 1) % imprimecada == 0:\n",
    "                print('        -Ponderacion nº {}/{}'.format(pond + 1, numponderas))\n",
    "                print('             σ²/N = {}'.format(s / (pond + 1)))\n",
    "                print('             <g>  = {}'.format(g / (pond + 1)))\n",
    "                print('             <gi> = {}'.format(gc / (pond + 1)))\n",
    "        sigma[dynt, m] =  s / numponderas\n",
    "        gains[dynt, m] = g / numponderas\n",
    "        gains_imitators[dynt, m] = gc / numponderas\n",
    "        print('Remembering...')\n",
    "        print('dynt = ', dynamic_times[:(dynt+1)])\n",
    "        print('σ²/N = ', sigma[:(dynt+1), m])\n",
    "        print(' <g> = ', gains[:(dynt+1), m])\n",
    "        print('<gi> = ', gains_imitators[:(dynt+1), m])"
   ]
  },
  {
   "cell_type": "code",
   "execution_count": 73,
   "metadata": {},
   "outputs": [],
   "source": [
    "for dy in range(len(lendyn)):\n",
    "    file_name = 'imitation_Sigma,GainImitator,GainALLvsDYNT_' + str(N) +'N_1Ncop_SWORLD_' +str(\n",
    "                            p) + 'p_' + str(dynamic_times[dy]) + 'dynT_' +  str(\n",
    "                                T)+'T_'+str(numponderas)+'numponds'\n",
    "    with open('{}.dat'.format(file_name), 'w') as file:\n",
    "        for i in range(len(alpha)):\n",
    "            file.write('{} {} {} {}\\n'.format(dynamic_times[i], sigma[dy,i], gains[dy,i], gains_imitators[dy,i]))"
   ]
  },
  {
   "cell_type": "code",
   "execution_count": 2,
   "metadata": {},
   "outputs": [],
   "source": [
    "S=2\n",
    "N=401\n",
    "Ncop=1\n",
    "T=20000\n",
    "numponderas = 100\n",
    "p=0.2\n",
    "\n",
    "lendyn = 13\n",
    "leneme = 3\n",
    "\n",
    "dynTime0 = np.logspace(0,4.3,lendyn).astype(int)\n",
    "sigma0 = np.zeros((lendyn, lenemes))\n",
    "gains0 = np.zeros((lendyn, lenemes))\n",
    "gains_imitators0 = np.zeros((lendyn, lenemes))\n",
    "\n",
    "for dy in range(len(lendyn)):\n",
    "    file_name = 'imitation_Sigma,GainImitator,GainALLvsDYNT_' + str(N) +'N_1Ncop_SWORLD_' +str(\n",
    "                            p) + 'p_' + str(dynTime0[dy]) + 'dynT_' +  str(\n",
    "                                T)+'T_'+str(numponderas)+'numponds'\n",
    "    with open('{}.dat'.format(file_name), 'r') as file:\n",
    "        i = 0\n",
    "        for line in file:\n",
    "            value = line.split()\n",
    "            value[3].split('\\n')\n",
    "            sigma0[dy, i] = float(value[1])\n",
    "            gains0[dy, i] = float(value[2])\n",
    "            gains_imitators0[dy, i] = float(value[3])\n",
    "            i += 1"
   ]
  },
  {
   "cell_type": "code",
   "execution_count": null,
   "metadata": {},
   "outputs": [],
   "source": [
    "#old file names\n",
    "#file_name = 'MAXIMITATION_Sigma,GainImitator,GainALLvsDyntimes_4M201N_CG,1p_20000T_100numponds'\n",
    "#file_name = 'MAXIMITATION_Sigma,GainImitator,GainALLvsDyntimes_6M201N_CG,1p_20000T_100numponds'\n",
    "#file_name = 'MAXIMITATION_Sigma,GainImitator,GainALLvsDyntimes_9M201N_CG,1p_20000T_100numponds'\n",
    "#file_name = 'MAXIMITATION_Sigma,GainImitator,GainALLvsDyntimes_4M201N_R,1p_20000T_100numponds'\n",
    "#file_name = 'MAXIMITATION_Sigma,GainImitator,GainALLvsDyntimes_6M201N_R,1p_20000T_100numponds'\n",
    "#file_name = 'MAXIMITATION_Sigma,GainImitator,GainALLvsDyntimes_9M201N_R,1p_20000T_100numponds'"
   ]
  },
  {
   "cell_type": "code",
   "execution_count": 16,
   "metadata": {},
   "outputs": [
    {
     "data": {
      "image/png": "[encoded data removed]",
      "text/plain": [
       "<Figure size 576x432 with 1 Axes>"
      ]
     },
     "metadata": {
      "needs_background": "light"
     },
     "output_type": "display_data"
    }
   ],
   "source": [
    "fig, ax = plt.subplots(1, figsize=(8,6))\n",
    "ax.set_xscale('log')\n",
    "ax.set_yscale('log')\n",
    "\n",
    "#ax.set_ylim([0,4.6])\n",
    "ax.set_xlabel(r'$\\alpha$', fontsize='large')\n",
    "ax.set_ylabel(r'$\\sigma^2/N$', fontsize='large')\n",
    "\n",
    "ax.tick_params(which='both', direction='inout', labelbottom=True, labeltop=False, labelleft=True, labelright=False,\n",
    "               bottom=True, top=True, left=True, right=True)\n",
    "\n",
    "\n",
    "cols = ['dodgerblue', 'yellowgreen', 'crimson', 'yellow', 'orange']\n",
    "\n",
    "for dy in range(len(dynTime0)):\n",
    "    ax.plot(dynTime0, gains0/gains_imitators0, lw=1, ls = '--', color = 'k', alpha=0.8,\n",
    "             marker='s', mec = cols[nc], mfc=cols[nc], mew = 1, ms = 7, label=labels[nc])\n",
    "\n",
    "\n",
    "\"\"\"yticks1 = [0, 0.5, 1, 1.5, 2, 2.5, 3, 3.5, 4]\n",
    "ax.set_yticks(yticks1)\n",
    "ax.set_yticklabels([str(i) for i in yticks1])\"\"\"\n",
    "\n",
    "#ax.axhline(y=1, xmin=0, xmax=1, color='k', alpha=0.7, linestyle='--')\n",
    "\n",
    "labels = [r'$\\alpha = 0.08$', r'$\\alpha = 0.32$', r'$\\alpha = 2.55$']\n",
    "ax.legend(loc='center', bbox_to_anchor=[1.1,0.5], label)\n",
    "\n",
    "#filename = 'imitationCG_SIGMAvsALPHA' + str(\n",
    "                    #N) +' N_' + 'Ncop_CG_' + str(\n",
    "                    #dynT) + 'dynT_' + str(T)+'T_'+str(numponderas)+'numponds.png'\n",
    "#fig.savefig(filename, bbox_inches='tight')"
   ]
  }
 ],
 "metadata": {
  "kernelspec": {
   "display_name": "Documentos",
   "language": "python",
   "name": "documentos"
  },
  "language_info": {
   "codemirror_mode": {
    "name": "ipython",
    "version": 3
   },
   "file_extension": ".py",
   "mimetype": "text/x-python",
   "name": "python",
   "nbconvert_exporter": "python",
   "pygments_lexer": "ipython3",
   "version": "3.5.2"
  }
 },
 "nbformat": 4,
 "nbformat_minor": 2
}
