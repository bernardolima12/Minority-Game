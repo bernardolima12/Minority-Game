{
 "cells": [
  {
   "cell_type": "code",
   "execution_count": 1,
   "metadata": {},
   "outputs": [],
   "source": [
    "import numpy as np\n",
    "import matplotlib.pyplot as plt\n",
    "from mygame_functions import one_simulation_variables\n",
    "%matplotlib inline"
   ]
  },
  {
   "cell_type": "code",
   "execution_count": 2,
   "metadata": {},
   "outputs": [
    {
     "name": "stdout",
     "output_type": "stream",
     "text": [
      "         t=2500/10000\n",
      "         t=5000/10000\n",
      "         t=7500/10000\n",
      "         t=10000/10000\n"
     ]
    }
   ],
   "source": [
    "N = 252\n",
    "M = 8\n",
    "T = 10000\n",
    "t,A,pol = one_simulation_variables(N,2,M,T,imprime=2500)\n",
    "pol_nozeros = pol[pol>0]/T"
   ]
  },
  {
   "cell_type": "code",
   "execution_count": 3,
   "metadata": {
    "scrolled": true
   },
   "outputs": [
    {
     "name": "stdout",
     "output_type": "stream",
     "text": [
      "252 245\n"
     ]
    }
   ],
   "source": [
    "print(len(pol), len(pol_nozeros))"
   ]
  },
  {
   "cell_type": "code",
   "execution_count": 4,
   "metadata": {},
   "outputs": [
    {
     "data": {
      "image/png": "[encoded data removed]",
      "text/plain": [
       "<Figure size 432x288 with 1 Axes>"
      ]
     },
     "metadata": {
      "needs_background": "light"
     },
     "output_type": "display_data"
    }
   ],
   "source": [
    "plt.hist(pol_nozeros,bins = 10**np.linspace(np.log10(min(pol_nozeros)),np.log10(max(pol_nozeros)),40))\n",
    "plt.yscale('log')\n",
    "plt.xscale('log')"
   ]
  },
  {
   "cell_type": "code",
   "execution_count": 3,
   "metadata": {},
   "outputs": [],
   "source": [
    "pol_list = list(pol_nozeros)"
   ]
  },
  {
   "cell_type": "code",
   "execution_count": 4,
   "metadata": {},
   "outputs": [
    {
     "name": "stdout",
     "output_type": "stream",
     "text": [
      "Ponderacion numero 1/10\n",
      "         t=100000/1000000\n",
      "         t=200000/1000000\n",
      "         t=300000/1000000\n",
      "         t=400000/1000000\n",
      "         t=500000/1000000\n",
      "         t=600000/1000000\n",
      "         t=700000/1000000\n",
      "         t=800000/1000000\n",
      "         t=900000/1000000\n",
      "         t=1000000/1000000\n",
      "Ponderacion numero 2/10\n",
      "         t=100000/1000000\n",
      "         t=200000/1000000\n",
      "         t=300000/1000000\n",
      "         t=400000/1000000\n",
      "         t=500000/1000000\n",
      "         t=600000/1000000\n",
      "         t=700000/1000000\n",
      "         t=800000/1000000\n",
      "         t=900000/1000000\n",
      "         t=1000000/1000000\n",
      "Ponderacion numero 3/10\n",
      "         t=100000/1000000\n",
      "         t=200000/1000000\n",
      "         t=300000/1000000\n",
      "         t=400000/1000000\n",
      "         t=500000/1000000\n",
      "         t=600000/1000000\n",
      "         t=700000/1000000\n",
      "         t=800000/1000000\n",
      "         t=900000/1000000\n",
      "         t=1000000/1000000\n",
      "Ponderacion numero 4/10\n",
      "         t=100000/1000000\n",
      "         t=200000/1000000\n",
      "         t=300000/1000000\n",
      "         t=400000/1000000\n",
      "         t=500000/1000000\n",
      "         t=600000/1000000\n",
      "         t=700000/1000000\n",
      "         t=800000/1000000\n",
      "         t=900000/1000000\n",
      "         t=1000000/1000000\n",
      "Ponderacion numero 5/10\n",
      "         t=100000/1000000\n",
      "         t=200000/1000000\n",
      "         t=300000/1000000\n",
      "         t=400000/1000000\n",
      "         t=500000/1000000\n",
      "         t=600000/1000000\n",
      "         t=700000/1000000\n",
      "         t=800000/1000000\n",
      "         t=900000/1000000\n",
      "         t=1000000/1000000\n",
      "Ponderacion numero 6/10\n",
      "         t=100000/1000000\n",
      "         t=200000/1000000\n",
      "         t=300000/1000000\n",
      "         t=400000/1000000\n",
      "         t=500000/1000000\n",
      "         t=600000/1000000\n",
      "         t=700000/1000000\n",
      "         t=800000/1000000\n",
      "         t=900000/1000000\n",
      "         t=1000000/1000000\n",
      "Ponderacion numero 7/10\n",
      "         t=100000/1000000\n",
      "         t=200000/1000000\n",
      "         t=300000/1000000\n",
      "         t=400000/1000000\n",
      "         t=500000/1000000\n",
      "         t=600000/1000000\n",
      "         t=700000/1000000\n",
      "         t=800000/1000000\n",
      "         t=900000/1000000\n",
      "         t=1000000/1000000\n",
      "Ponderacion numero 8/10\n",
      "         t=100000/1000000\n",
      "         t=200000/1000000\n",
      "         t=300000/1000000\n",
      "         t=400000/1000000\n",
      "         t=500000/1000000\n",
      "         t=600000/1000000\n",
      "         t=700000/1000000\n",
      "         t=800000/1000000\n",
      "         t=900000/1000000\n",
      "         t=1000000/1000000\n",
      "Ponderacion numero 9/10\n",
      "         t=100000/1000000\n",
      "         t=200000/1000000\n",
      "         t=300000/1000000\n",
      "         t=400000/1000000\n",
      "         t=500000/1000000\n",
      "         t=600000/1000000\n",
      "         t=700000/1000000\n",
      "         t=800000/1000000\n",
      "         t=900000/1000000\n",
      "         t=1000000/1000000\n",
      "Ponderacion numero 10/10\n",
      "         t=100000/1000000\n",
      "         t=200000/1000000\n",
      "         t=300000/1000000\n",
      "         t=400000/1000000\n",
      "         t=500000/1000000\n",
      "         t=600000/1000000\n",
      "         t=700000/1000000\n",
      "         t=800000/1000000\n",
      "         t=900000/1000000\n",
      "         t=1000000/1000000\n"
     ]
    }
   ],
   "source": [
    "N = 251\n",
    "M = 8\n",
    "T = 1000000\n",
    "pol_list=[]\n",
    "for i in range(10):\n",
    "    print('Ponderacion numero {}/{}'.format(i+1,10))\n",
    "    t,A,pol = one_simulation_variables(N,2,M,T,imprime=100000)\n",
    "    pol = pol[pol>0]\n",
    "    for j in list(pol):\n",
    "        pol_list.append(j)"
   ]
  },
  {
   "cell_type": "code",
   "execution_count": 13,
   "metadata": {},
   "outputs": [
    {
     "data": {
      "text/plain": [
       "array([9.400e+01, 1.180e+02, 4.800e+01, 4.000e+00, 6.000e+00, 4.000e+01,\n",
       "       4.000e+00, 2.400e+01, 3.600e+01, 4.000e+00, 1.720e+02, 4.940e+02,\n",
       "       3.200e+01, 4.100e+02, 5.600e+01, 7.460e+02, 8.360e+02, 2.720e+02,\n",
       "       5.940e+02, 2.580e+02, 1.000e+01, 3.000e+01, 8.100e+02, 1.580e+02,\n",
       "       8.000e+00, 1.024e+03, 1.400e+01, 1.000e+01, 2.600e+01, 1.400e+01,\n",
       "       4.000e+00, 6.000e+00, 2.000e+00, 1.000e+01, 3.600e+01, 4.280e+02,\n",
       "       3.740e+02, 7.340e+02, 1.600e+01, 1.200e+01, 1.400e+01, 8.000e+01,\n",
       "       2.780e+02, 4.000e+00, 3.460e+02, 1.220e+02, 1.000e+01, 5.380e+02,\n",
       "       3.200e+01, 3.000e+01, 5.200e+01, 1.200e+01, 7.700e+02, 2.022e+03,\n",
       "       5.380e+02, 6.000e+00, 2.000e+01, 4.000e+00, 2.400e+01, 4.000e+00,\n",
       "       2.820e+02, 1.000e+01, 1.200e+01, 2.460e+02, 1.200e+01, 1.800e+01,\n",
       "       3.280e+02, 4.960e+02, 1.700e+02, 1.980e+02, 1.860e+02, 4.000e+00,\n",
       "       9.600e+01, 6.000e+00, 5.840e+02, 4.000e+01, 1.200e+01, 8.000e+00,\n",
       "       4.700e+02, 2.000e+00, 6.000e+00, 2.000e+00, 1.780e+02, 1.800e+01,\n",
       "       2.800e+01, 6.200e+01, 2.400e+01, 4.400e+01, 6.000e+00, 2.000e+00,\n",
       "       1.060e+02, 1.340e+02, 4.000e+00, 4.000e+00, 4.000e+00, 2.940e+02,\n",
       "       6.200e+01, 1.000e+02, 8.000e+00, 3.800e+01, 6.800e+01, 1.380e+02,\n",
       "       4.660e+02, 5.200e+01, 1.540e+02, 1.000e+01, 5.600e+01, 2.800e+01,\n",
       "       3.800e+01, 5.200e+01, 1.600e+01, 6.820e+02, 1.200e+01, 1.668e+03,\n",
       "       4.000e+00, 4.400e+01, 2.000e+00, 1.000e+01, 2.720e+02, 5.800e+01,\n",
       "       1.600e+01, 7.080e+02, 2.000e+01, 1.476e+03, 4.000e+00, 7.080e+02,\n",
       "       4.480e+02, 2.000e+00, 2.000e+00, 1.300e+02, 6.420e+02, 3.200e+01,\n",
       "       5.620e+02, 1.140e+02, 2.000e+00, 2.000e+01, 5.400e+01, 1.560e+02,\n",
       "       1.180e+02, 5.200e+01, 8.000e+00, 1.200e+02, 1.600e+01, 1.460e+02,\n",
       "       1.980e+02, 4.000e+00, 8.600e+01, 3.200e+01, 2.000e+00, 2.000e+00,\n",
       "       1.920e+02, 1.820e+02, 3.800e+02, 4.000e+00, 2.600e+01, 1.000e+01,\n",
       "       1.044e+03, 2.800e+01, 2.640e+02, 7.880e+02, 4.220e+02, 7.800e+02,\n",
       "       1.420e+02, 3.400e+01, 1.200e+01, 1.000e+01, 4.800e+01, 4.000e+00,\n",
       "       1.740e+02, 1.560e+02, 1.000e+01, 4.800e+01, 1.620e+02, 4.800e+01,\n",
       "       3.800e+02, 1.220e+02, 2.100e+02, 2.060e+02, 6.260e+02, 4.000e+01,\n",
       "       1.780e+02, 2.000e+00, 1.200e+01, 4.000e+00, 8.300e+02, 4.000e+00,\n",
       "       2.000e+00, 4.000e+00, 2.400e+01, 7.520e+02, 1.540e+02, 9.000e+01,\n",
       "       5.080e+02, 1.200e+01, 1.200e+01, 4.700e+02, 3.540e+02, 4.020e+02,\n",
       "       9.800e+01, 6.000e+00, 5.800e+01, 1.800e+01, 1.800e+01, 1.000e+01,\n",
       "       1.402e+03, 6.000e+00, 4.400e+01, 1.400e+01, 2.260e+02, 1.000e+01,\n",
       "       1.392e+03, 1.000e+01, 2.740e+02, 6.000e+00, 2.000e+00, 3.360e+02,\n",
       "       2.840e+02, 6.000e+00, 6.000e+00, 3.080e+02, 6.080e+02, 1.400e+01,\n",
       "       1.600e+01, 3.300e+02, 3.600e+01, 4.800e+01, 3.200e+01, 1.640e+02,\n",
       "       4.000e+01, 6.800e+01, 8.000e+00, 9.400e+01, 6.000e+00, 8.600e+01,\n",
       "       4.000e+00, 2.600e+01, 1.980e+02, 2.200e+02, 2.100e+02, 3.800e+02,\n",
       "       7.260e+02, 2.000e+01, 8.100e+02, 1.180e+02, 1.120e+03])"
      ]
     },
     "execution_count": 13,
     "metadata": {},
     "output_type": "execute_result"
    }
   ],
   "source": [
    "pol_list"
   ]
  },
  {
   "cell_type": "code",
   "execution_count": 20,
   "metadata": {},
   "outputs": [
    {
     "data": {
      "text/plain": [
       "Text(0, 0.5, 'D(v)')"
      ]
     },
     "execution_count": 20,
     "metadata": {},
     "output_type": "execute_result"
    },
    {
     "data": {
      "image/png": "[encoded data removed]",
      "text/plain": [
       "<Figure size 432x288 with 1 Axes>"
      ]
     },
     "metadata": {
      "needs_background": "light"
     },
     "output_type": "display_data"
    }
   ],
   "source": [
    "plt.hist(pol_list,bins = 10**np.linspace(np.log10(min(pol_nozeros)),np.log10(max(pol_nozeros)),50))\n",
    "plt.yscale('log')\n",
    "plt.xscale('log')\n",
    "plt.xlabel('v')\n",
    "plt.ylabel('D(v)')"
   ]
  },
  {
   "cell_type": "code",
   "execution_count": 28,
   "metadata": {},
   "outputs": [
    {
     "data": {
      "image/png": "[encoded data removed]",
      "text/plain": [
       "<Figure size 432x288 with 1 Axes>"
      ]
     },
     "metadata": {
      "needs_background": "light"
     },
     "output_type": "display_data"
    }
   ],
   "source": [
    "ax = sns.distplot(pol_list)\n",
    "ax.set_yscale('log')\n",
    "ax.set_xscale('log')"
   ]
  }
 ],
 "metadata": {
  "kernelspec": {
   "display_name": "Documentos",
   "language": "python",
   "name": "documentos"
  },
  "language_info": {
   "codemirror_mode": {
    "name": "ipython",
    "version": 3
   },
   "file_extension": ".py",
   "mimetype": "text/x-python",
   "name": "python",
   "nbconvert_exporter": "python",
   "pygments_lexer": "ipython3",
   "version": "3.5.2"
  }
 },
 "nbformat": 4,
 "nbformat_minor": 2
}
