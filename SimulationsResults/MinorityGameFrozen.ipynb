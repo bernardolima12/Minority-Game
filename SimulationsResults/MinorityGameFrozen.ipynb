{
 "cells": [
  {
   "cell_type": "code",
   "execution_count": 1,
   "metadata": {},
   "outputs": [],
   "source": [
    "import numpy as np\n",
    "import matplotlib.pyplot as plt\n",
    "from mygame_functions import one_simulation_frozen\n",
    "%matplotlib inline"
   ]
  },
  {
   "cell_type": "markdown",
   "metadata": {},
   "source": [
    "# PROOF"
   ]
  },
  {
   "cell_type": "code",
   "execution_count": 21,
   "metadata": {},
   "outputs": [],
   "source": [
    "N = 101\n",
    "M = 10\n",
    "T = 1000\n",
    "t,A,pol = one_simulation_frozen(N,2,M,T)"
   ]
  },
  {
   "cell_type": "code",
   "execution_count": 24,
   "metadata": {},
   "outputs": [],
   "source": [
    "abspol = pol*T"
   ]
  },
  {
   "cell_type": "code",
   "execution_count": 29,
   "metadata": {},
   "outputs": [
    {
     "data": {
      "text/plain": [
       "(101, 94, 83)"
      ]
     },
     "execution_count": 29,
     "metadata": {},
     "output_type": "execute_result"
    }
   ],
   "source": [
    "len(abspol), len(abspol[abspol>0]), len(abspol[abspol>2])"
   ]
  },
  {
   "cell_type": "code",
   "execution_count": 30,
   "metadata": {},
   "outputs": [
    {
     "data": {
      "text/plain": [
       "0.9306930693069307"
      ]
     },
     "execution_count": 30,
     "metadata": {},
     "output_type": "execute_result"
    }
   ],
   "source": [
    "len(abspol[abspol>0])/len(abspol)"
   ]
  },
  {
   "cell_type": "markdown",
   "metadata": {},
   "source": [
    "# One value correct?"
   ]
  },
  {
   "cell_type": "code",
   "execution_count": 43,
   "metadata": {},
   "outputs": [
    {
     "data": {
      "text/plain": [
       "640"
      ]
     },
     "execution_count": 43,
     "metadata": {},
     "output_type": "execute_result"
    }
   ],
   "source": [
    "M = 7\n",
    "alpha = 0.2\n",
    "N = int(2**M/alpha)\n",
    "N"
   ]
  },
  {
   "cell_type": "code",
   "execution_count": 44,
   "metadata": {},
   "outputs": [
    {
     "name": "stdout",
     "output_type": "stream",
     "text": [
      "     t=1000/10000\n",
      "     t=2000/10000\n",
      "     t=3000/10000\n",
      "     t=4000/10000\n",
      "     t=5000/10000\n",
      "     t=6000/10000\n",
      "     t=7000/10000\n",
      "     t=8000/10000\n",
      "     t=9000/10000\n",
      "     t=10000/10000\n"
     ]
    }
   ],
   "source": [
    "T = 10000\n",
    "t,A,pol = one_simulation_frozen(N,2,M,T,imprime=1000)"
   ]
  },
  {
   "cell_type": "code",
   "execution_count": 45,
   "metadata": {},
   "outputs": [
    {
     "data": {
      "text/plain": [
       "array([ 8., 12., 10., 18.,  2.,  4., 12., 18.,  6.,  2., 22.,  8., 20.,\n",
       "        6., 14., 10., 10., 12.,  8.,  6.,  4.,  6.,  6.,  4., 10.,  2.,\n",
       "        0., 24.,  6., 16., 10.,  8.,  8.,  4.,  2., 10., 24.,  4.,  6.,\n",
       "       10.,  8., 14., 18.,  0.,  4., 10., 14.,  0., 16., 16., 16.,  2.,\n",
       "        6., 10.,  4., 26., 16., 16., 20.,  2., 28., 16., 10., 14., 12.,\n",
       "        8., 10.,  6.,  2.,  4., 26.,  6., 16.,  6., 24.,  6., 10., 16.,\n",
       "        6.,  8.,  2.,  0., 12., 10.,  6.,  2.,  6., 18.,  2., 14., 12.,\n",
       "        2., 12., 26.,  2.,  2.,  8.,  8., 24., 26., 20.,  0., 16.,  2.,\n",
       "        4.,  4., 10.,  4., 24., 22., 32., 22.,  4., 14., 18.,  6.,  4.,\n",
       "        2.,  6., 10., 14., 18.,  4.,  4.,  2., 16.,  8., 18., 24.,  2.,\n",
       "        4., 10.,  4., 18., 12., 18.,  4., 14., 20., 10.,  8., 10., 20.,\n",
       "        6.,  4., 20.,  8., 10., 24., 18., 18.,  8.,  8., 34.,  0., 12.,\n",
       "       16., 12.,  2.,  6., 14.,  4., 10.,  6., 10., 34.,  0.,  8.,  6.,\n",
       "       24., 14., 16., 10.,  4.,  6.,  2.,  6.,  6.,  2.,  6., 14.,  0.,\n",
       "       16., 20.,  0., 22., 16., 10.,  8.,  2.,  2.,  6.,  6.,  4.,  0.,\n",
       "       10., 26., 14.,  2., 12.,  6.,  4., 28., 18.,  4., 18.,  4.,  0.,\n",
       "        2., 20., 18.,  6.,  0.,  8.,  8., 10., 16.,  2., 22., 14., 12.,\n",
       "        8., 10.,  4.,  8., 36., 10.,  0.,  6., 12.,  8.,  2., 10.,  2.,\n",
       "        0.,  6., 12.,  6.,  6.,  6., 18.,  2., 18., 22.,  6., 10.,  8.,\n",
       "        6., 12.,  0.,  0.,  6.,  0.,  2.,  8.,  0.,  2., 38.,  6.,  6.,\n",
       "        8.,  0., 10.,  0., 28., 12.,  4., 12., 12.,  4., 12., 32.,  8.,\n",
       "        4.,  6., 18., 12., 20., 16.,  0., 12., 12., 24., 12.,  4.,  2.,\n",
       "        2., 26., 16., 18.,  2.,  8.,  2.,  4.,  2.,  8.,  6.,  8., 10.,\n",
       "        6., 20., 14.,  8.,  0., 14., 14., 20.,  6., 20.,  4., 10.,  0.,\n",
       "        4.,  6., 10., 12.,  2., 14.,  0., 12.,  4., 32., 18., 18., 22.,\n",
       "        2., 14., 12.,  6.,  8., 14.,  6., 12.,  2.,  2., 18.,  8.,  4.,\n",
       "        8., 14., 18.,  8.,  2.,  2., 10., 20.,  8., 18., 14.,  8.,  6.,\n",
       "        0.,  0., 12.,  8.,  8., 18., 32., 10.,  6., 14.,  8., 18., 10.,\n",
       "        6.,  8.,  8., 10.,  4.,  4.,  8., 10.,  2.,  8., 18., 28.,  0.,\n",
       "       14., 10.,  4., 14.,  4.,  4., 12.,  4., 20.,  6., 26., 12., 22.,\n",
       "       12., 28.,  4., 16.,  8., 22., 36.,  4., 20.,  4.,  4., 46.,  2.,\n",
       "        6.,  6.,  8.,  4., 16.,  0.,  6.,  4., 18., 12., 26.,  2., 10.,\n",
       "       10., 16., 10.,  2., 14.,  8., 24.,  0.,  8., 12.,  2.,  2., 24.,\n",
       "       12.,  4.,  4.,  8.,  0.,  8.,  4., 20.,  6., 10.,  6.,  6., 10.,\n",
       "        6., 10., 20.,  6., 10.,  0.,  2.,  8.,  0., 12.,  8., 36., 40.,\n",
       "        6., 10.,  4., 12., 10.,  4.,  8.,  2.,  4.,  8.,  6., 12.,  0.,\n",
       "        2., 18., 18.,  6.,  2., 16., 20.,  6.,  2.,  4.,  2.,  8.,  8.,\n",
       "        0., 10., 18.,  6.,  6., 20., 14., 16.,  0.,  2.,  8., 16., 14.,\n",
       "       16.,  0., 36., 10.,  4.,  0.,  8.,  6.,  8.,  8., 12.,  0., 26.,\n",
       "       14., 12.,  0., 16.,  4., 30.,  4., 10., 26.,  2., 10.,  2.,  6.,\n",
       "        4., 12., 12., 22., 28.,  8., 26., 28.,  2., 14.,  6.,  8., 22.,\n",
       "        6.,  6., 22., 30., 14., 10.,  0., 20.,  4.,  8.,  2.,  2.,  4.,\n",
       "        8., 10., 16., 12.,  8.,  2., 10., 10., 16., 10.,  4., 22.,  2.,\n",
       "        2.,  2.,  6., 22., 14.,  8., 20.,  0., 14.,  4.,  2., 12.,  4.,\n",
       "       10.,  6., 14.,  8., 18., 12.,  2., 20., 14., 12., 24.,  4., 10.,\n",
       "        6., 14., 34.,  8., 16., 18.,  6., 12.,  6.,  8., 10.,  4., 14.,\n",
       "       16., 10., 20.,  4.,  8., 12.,  6., 40., 22., 10.,  6., 40.,  8.,\n",
       "       10., 10.,  4.,  0.,  8.,  4.,  4., 10., 10., 14., 14.,  6., 20.,\n",
       "       28., 12.,  0.,  2., 10.,  6.,  8.,  8.,  4., 18., 18.,  0.,  8.,\n",
       "       10.,  2., 24.])"
      ]
     },
     "execution_count": 45,
     "metadata": {},
     "output_type": "execute_result"
    }
   ],
   "source": [
    "abspol = pol*T\n",
    "abspol"
   ]
  },
  {
   "cell_type": "code",
   "execution_count": 51,
   "metadata": {},
   "outputs": [
    {
     "data": {
      "text/plain": [
       "0.0"
      ]
     },
     "execution_count": 51,
     "metadata": {},
     "output_type": "execute_result"
    }
   ],
   "source": [
    "len(abspol[abspol>50])/len(abspol)"
   ]
  },
  {
   "cell_type": "code",
   "execution_count": 36,
   "metadata": {},
   "outputs": [
    {
     "data": {
      "text/plain": [
       "256"
      ]
     },
     "execution_count": 36,
     "metadata": {},
     "output_type": "execute_result"
    }
   ],
   "source": [
    "M = 7\n",
    "alpha = 0.5\n",
    "N = int(2**M/alpha)\n",
    "N"
   ]
  },
  {
   "cell_type": "code",
   "execution_count": 37,
   "metadata": {
    "scrolled": true
   },
   "outputs": [
    {
     "name": "stdout",
     "output_type": "stream",
     "text": [
      "     t=1000/10000\n",
      "     t=2000/10000\n",
      "     t=3000/10000\n",
      "     t=4000/10000\n",
      "     t=5000/10000\n",
      "     t=6000/10000\n",
      "     t=7000/10000\n",
      "     t=8000/10000\n",
      "     t=9000/10000\n",
      "     t=10000/10000\n"
     ]
    }
   ],
   "source": [
    "T = 10000\n",
    "t,A,pol = one_simulation_frozen(N,2,M,T,imprime=1000)"
   ]
  },
  {
   "cell_type": "code",
   "execution_count": 38,
   "metadata": {},
   "outputs": [
    {
     "data": {
      "text/plain": [
       "array([136., 202., 172., 124., 130., 262., 212.,  16.,  68., 134.,  74.,\n",
       "        34.,  34.,   2., 204., 208.,   4.,   4.,   6.,  94.,   2.,   4.,\n",
       "       314.,   4.,   6.,  22.,  16.,  84.,   2.,  22., 554.,   4.,  82.,\n",
       "        22., 546., 422.,   8.,   6.,  66., 458.,   6.,   8., 214.,  30.,\n",
       "         6., 230.,   4.,   4.,  46.,   2., 130.,  22.,   6.,  70.,  66.,\n",
       "         8.,  12., 318.,  28.,  14.,  78.,   4., 284., 362., 288., 220.,\n",
       "       102., 154., 292., 258., 390.,   4.,   6.,  12., 180., 270.,   4.,\n",
       "       210., 276.,   2., 828.,   0.,   0., 352., 250., 120.,   2., 104.,\n",
       "         6., 108.,  14.,  14.,   0.,  24., 192., 220.,  16.,   6.,  14.,\n",
       "       154., 108., 462.,  96.,  42.,  66., 152.,   8.,   8., 332., 268.,\n",
       "       278., 238., 368.,  34., 458.,  12.,   2.,   0.,  64., 336.,  12.,\n",
       "         6., 152., 216.,  18.,  50.,  58.,  40.,   8., 514.,   4., 112.,\n",
       "       160., 200., 314., 444.,  62.,  40., 114., 154.,  14., 188., 162.,\n",
       "         2.,  36.,  74.,  30.,  56.,   8.,  12.,  18.,   4., 182.,   4.,\n",
       "        46., 424.,   4.,  28., 330.,  94.,  28., 100.,  12., 132.,   6.,\n",
       "       330., 446.,  98., 258.,   8., 164.,   6.,  76.,  24.,   2.,  14.,\n",
       "       220.,  56.,   2.,  48., 214., 262.,  74., 176.,  52., 212.,  10.,\n",
       "         2.,   4., 156.,  18., 358.,  12.,  12.,   4.,   2., 494.,   4.,\n",
       "       150.,   2., 424., 238., 412., 240.,  78., 496., 202.,  10.,   6.,\n",
       "        76.,  52.,   2.,   4., 322.,   8., 208.,  10., 296.,  70.,  56.,\n",
       "       216., 364., 110., 468.,   2.,  62.,   2.,  18.,  28., 206., 278.,\n",
       "         4.,  56., 558.,  98., 454., 460., 346.,  22., 388.,  24., 160.,\n",
       "        12., 188.,   0., 310.,   0.,   4.,   2.,   6., 268., 214.,   4.,\n",
       "       208., 688.,  50.])"
      ]
     },
     "execution_count": 38,
     "metadata": {},
     "output_type": "execute_result"
    }
   ],
   "source": [
    "abspol2 = pol*T\n",
    "abspol2"
   ]
  },
  {
   "cell_type": "code",
   "execution_count": 52,
   "metadata": {},
   "outputs": [
    {
     "data": {
      "text/plain": [
       "0.5390625"
      ]
     },
     "execution_count": 52,
     "metadata": {},
     "output_type": "execute_result"
    }
   ],
   "source": [
    "len(abspol2[abspol2>50])/len(abspol2)"
   ]
  },
  {
   "cell_type": "code",
   "execution_count": 54,
   "metadata": {},
   "outputs": [
    {
     "data": {
      "text/plain": [
       "64"
      ]
     },
     "execution_count": 54,
     "metadata": {},
     "output_type": "execute_result"
    }
   ],
   "source": [
    "M = 7\n",
    "alpha = 2\n",
    "N = int(2**M/alpha)\n",
    "N"
   ]
  },
  {
   "cell_type": "code",
   "execution_count": 55,
   "metadata": {},
   "outputs": [
    {
     "name": "stdout",
     "output_type": "stream",
     "text": [
      "     t=1000/10000\n",
      "     t=2000/10000\n",
      "     t=3000/10000\n",
      "     t=4000/10000\n",
      "     t=5000/10000\n",
      "     t=6000/10000\n",
      "     t=7000/10000\n",
      "     t=8000/10000\n",
      "     t=9000/10000\n",
      "     t=10000/10000\n"
     ]
    }
   ],
   "source": [
    "T = 10000\n",
    "t,A,pol = one_simulation_frozen(N,2,M,T,imprime=1000)"
   ]
  },
  {
   "cell_type": "code",
   "execution_count": 57,
   "metadata": {},
   "outputs": [
    {
     "data": {
      "text/plain": [
       "array([  4.,   4., 568., 226., 120.,  14., 482., 186.,  50.,  18., 340.,\n",
       "         6.,   0.,   6.,   6.,   4.,   8.,  60.,   0.,   0.,  24.,  36.,\n",
       "         8.,  40.,  26., 350.,   6., 170.,  12., 110.,  38.,   0.,  14.,\n",
       "        56.,  16., 136.,  16.,   0.,  10.,   6.,   2.,  20.,  42.,  36.,\n",
       "         2., 332., 136., 454.,  54., 100.,   6.,   6.,   2.,  22.,   4.,\n",
       "        10.,   8., 550.,  94.,  26., 112.,   4., 332., 616.])"
      ]
     },
     "execution_count": 57,
     "metadata": {},
     "output_type": "execute_result"
    }
   ],
   "source": [
    "abspol3 = pol*T\n",
    "abspol3"
   ]
  },
  {
   "cell_type": "code",
   "execution_count": 59,
   "metadata": {},
   "outputs": [
    {
     "data": {
      "text/plain": [
       "0.34375"
      ]
     },
     "execution_count": 59,
     "metadata": {},
     "output_type": "execute_result"
    }
   ],
   "source": [
    "len(abspol3[abspol3>50])/len(abspol3)"
   ]
  },
  {
   "cell_type": "code",
   "execution_count": 67,
   "metadata": {},
   "outputs": [
    {
     "data": {
      "text/plain": [
       "[0.5011872336272722,\n",
       " 0.5956621435290105,\n",
       " 0.7079457843841379,\n",
       " 0.841395141645195,\n",
       " 1.0,\n",
       " 1.1885022274370185,\n",
       " 1.4125375446227542,\n",
       " 1.6788040181225605,\n",
       " 1.9952623149688795,\n",
       " 2.371373705661655,\n",
       " 2.8183829312644537,\n",
       " 3.3496543915782757,\n",
       " 3.9810717055349714,\n",
       " 4.731512589614805,\n",
       " 5.623413251903491,\n",
       " 6.6834391756861455,\n",
       " 7.943282347242813,\n",
       " 9.440608762859231,\n",
       " 11.220184543019629,\n",
       " 13.33521432163324]"
      ]
     },
     "execution_count": 67,
     "metadata": {},
     "output_type": "execute_result"
    }
   ],
   "source": [
    "alpha = [10**(-0.3 + 0.075*ni)  for ni in range(20)]  #Logaritmically equispaced\n",
    "alpha"
   ]
  },
  {
   "cell_type": "code",
   "execution_count": 68,
   "metadata": {},
   "outputs": [
    {
     "data": {
      "text/plain": [
       "[255,\n",
       " 214,\n",
       " 180,\n",
       " 152,\n",
       " 128,\n",
       " 107,\n",
       " 90,\n",
       " 76,\n",
       " 64,\n",
       " 53,\n",
       " 45,\n",
       " 38,\n",
       " 32,\n",
       " 27,\n",
       " 22,\n",
       " 19,\n",
       " 16,\n",
       " 13,\n",
       " 11,\n",
       " 9]"
      ]
     },
     "execution_count": 68,
     "metadata": {},
     "output_type": "execute_result"
    }
   ],
   "source": [
    "enes = [int(2**M/alpha[i]) for i in range(len(alpha))]  # N has to be integer\n",
    "enes"
   ]
  },
  {
   "cell_type": "code",
   "execution_count": 69,
   "metadata": {},
   "outputs": [
    {
     "data": {
      "text/plain": [
       "[0.5019607843137255,\n",
       " 0.5981308411214953,\n",
       " 0.7111111111111111,\n",
       " 0.8421052631578947,\n",
       " 1.0,\n",
       " 1.1962616822429906,\n",
       " 1.4222222222222223,\n",
       " 1.6842105263157894,\n",
       " 2.0,\n",
       " 2.4150943396226414,\n",
       " 2.8444444444444446,\n",
       " 3.3684210526315788,\n",
       " 4.0,\n",
       " 4.7407407407407405,\n",
       " 5.818181818181818,\n",
       " 6.7368421052631575,\n",
       " 8.0,\n",
       " 9.846153846153847,\n",
       " 11.636363636363637,\n",
       " 14.222222222222221]"
      ]
     },
     "execution_count": 69,
     "metadata": {},
     "output_type": "execute_result"
    }
   ],
   "source": [
    "alpha = [2**M/enes[i] for i in range(len(alpha))]  # X\n",
    "alpha"
   ]
  },
  {
   "cell_type": "code",
   "execution_count": 70,
   "metadata": {},
   "outputs": [
    {
     "name": "stdout",
     "output_type": "stream",
     "text": [
      "N = 255 (1/20)\n",
      "     t=1000/10000\n",
      "     t=2000/10000\n",
      "     t=3000/10000\n",
      "     t=4000/10000\n",
      "     t=5000/10000\n",
      "     t=6000/10000\n",
      "     t=7000/10000\n",
      "     t=8000/10000\n",
      "     t=9000/10000\n",
      "     t=10000/10000\n",
      "phi = 0.6118\n",
      "N = 214 (2/20)\n",
      "     t=1000/10000\n",
      "     t=2000/10000\n",
      "     t=3000/10000\n",
      "     t=4000/10000\n",
      "     t=5000/10000\n",
      "     t=6000/10000\n",
      "     t=7000/10000\n",
      "     t=8000/10000\n",
      "     t=9000/10000\n",
      "     t=10000/10000\n",
      "phi = 0.5093\n",
      "N = 180 (3/20)\n",
      "     t=1000/10000\n",
      "     t=2000/10000\n",
      "     t=3000/10000\n",
      "     t=4000/10000\n",
      "     t=5000/10000\n",
      "     t=6000/10000\n",
      "     t=7000/10000\n",
      "     t=8000/10000\n",
      "     t=9000/10000\n",
      "     t=10000/10000\n",
      "phi = 0.4611\n",
      "N = 152 (4/20)\n",
      "     t=1000/10000\n",
      "     t=2000/10000\n",
      "     t=3000/10000\n",
      "     t=4000/10000\n",
      "     t=5000/10000\n",
      "     t=6000/10000\n",
      "     t=7000/10000\n",
      "     t=8000/10000\n",
      "     t=9000/10000\n",
      "     t=10000/10000\n",
      "phi = 0.4408\n",
      "N = 128 (5/20)\n",
      "     t=1000/10000\n",
      "     t=2000/10000\n",
      "     t=3000/10000\n",
      "     t=4000/10000\n",
      "     t=5000/10000\n",
      "     t=6000/10000\n",
      "     t=7000/10000\n",
      "     t=8000/10000\n",
      "     t=9000/10000\n",
      "     t=10000/10000\n",
      "phi = 0.4297\n",
      "N = 107 (6/20)\n",
      "     t=1000/10000\n",
      "     t=2000/10000\n",
      "     t=3000/10000\n",
      "     t=4000/10000\n",
      "     t=5000/10000\n",
      "     t=6000/10000\n",
      "     t=7000/10000\n",
      "     t=8000/10000\n",
      "     t=9000/10000\n",
      "     t=10000/10000\n",
      "phi = 0.3178\n",
      "N = 90 (7/20)\n",
      "     t=1000/10000\n",
      "     t=2000/10000\n",
      "     t=3000/10000\n",
      "     t=4000/10000\n",
      "     t=5000/10000\n",
      "     t=6000/10000\n",
      "     t=7000/10000\n",
      "     t=8000/10000\n",
      "     t=9000/10000\n",
      "     t=10000/10000\n",
      "phi = 0.4222\n",
      "N = 76 (8/20)\n",
      "     t=1000/10000\n",
      "     t=2000/10000\n",
      "     t=3000/10000\n",
      "     t=4000/10000\n",
      "     t=5000/10000\n",
      "     t=6000/10000\n",
      "     t=7000/10000\n",
      "     t=8000/10000\n",
      "     t=9000/10000\n",
      "     t=10000/10000\n",
      "phi = 0.4079\n",
      "N = 64 (9/20)\n",
      "     t=1000/10000\n",
      "     t=2000/10000\n",
      "     t=3000/10000\n",
      "     t=4000/10000\n",
      "     t=5000/10000\n",
      "     t=6000/10000\n",
      "     t=7000/10000\n",
      "     t=8000/10000\n",
      "     t=9000/10000\n",
      "     t=10000/10000\n",
      "phi = 0.4844\n",
      "N = 53 (10/20)\n",
      "     t=1000/10000\n",
      "     t=2000/10000\n",
      "     t=3000/10000\n",
      "     t=4000/10000\n",
      "     t=5000/10000\n",
      "     t=6000/10000\n",
      "     t=7000/10000\n",
      "     t=8000/10000\n",
      "     t=9000/10000\n",
      "     t=10000/10000\n",
      "phi = 0.3962\n",
      "N = 45 (11/20)\n",
      "     t=1000/10000\n",
      "     t=2000/10000\n",
      "     t=3000/10000\n",
      "     t=4000/10000\n",
      "     t=5000/10000\n",
      "     t=6000/10000\n",
      "     t=7000/10000\n",
      "     t=8000/10000\n",
      "     t=9000/10000\n",
      "     t=10000/10000\n",
      "phi = 0.4222\n",
      "N = 38 (12/20)\n",
      "     t=1000/10000\n",
      "     t=2000/10000\n",
      "     t=3000/10000\n",
      "     t=4000/10000\n",
      "     t=5000/10000\n",
      "     t=6000/10000\n",
      "     t=7000/10000\n",
      "     t=8000/10000\n",
      "     t=9000/10000\n",
      "     t=10000/10000\n",
      "phi = 0.1579\n",
      "N = 32 (13/20)\n",
      "     t=1000/10000\n",
      "     t=2000/10000\n",
      "     t=3000/10000\n",
      "     t=4000/10000\n",
      "     t=5000/10000\n",
      "     t=6000/10000\n",
      "     t=7000/10000\n",
      "     t=8000/10000\n",
      "     t=9000/10000\n",
      "     t=10000/10000\n",
      "phi = 0.3125\n",
      "N = 27 (14/20)\n",
      "     t=1000/10000\n",
      "     t=2000/10000\n",
      "     t=3000/10000\n",
      "     t=4000/10000\n",
      "     t=5000/10000\n",
      "     t=6000/10000\n",
      "     t=7000/10000\n",
      "     t=8000/10000\n",
      "     t=9000/10000\n",
      "     t=10000/10000\n",
      "phi = 0.0741\n",
      "N = 22 (15/20)\n",
      "     t=1000/10000\n",
      "     t=2000/10000\n",
      "     t=3000/10000\n",
      "     t=4000/10000\n",
      "     t=5000/10000\n",
      "     t=6000/10000\n",
      "     t=7000/10000\n",
      "     t=8000/10000\n",
      "     t=9000/10000\n",
      "     t=10000/10000\n",
      "phi = 0.0455\n",
      "N = 19 (16/20)\n",
      "     t=1000/10000\n",
      "     t=2000/10000\n",
      "     t=3000/10000\n",
      "     t=4000/10000\n",
      "     t=5000/10000\n",
      "     t=6000/10000\n",
      "     t=7000/10000\n",
      "     t=8000/10000\n",
      "     t=9000/10000\n",
      "     t=10000/10000\n",
      "phi = 0.0526\n",
      "N = 16 (17/20)\n",
      "     t=1000/10000\n",
      "     t=2000/10000\n",
      "     t=3000/10000\n",
      "     t=4000/10000\n",
      "     t=5000/10000\n",
      "     t=6000/10000\n",
      "     t=7000/10000\n",
      "     t=8000/10000\n",
      "     t=9000/10000\n",
      "     t=10000/10000\n",
      "phi = 0.0625\n",
      "N = 13 (18/20)\n",
      "     t=1000/10000\n",
      "     t=2000/10000\n",
      "     t=3000/10000\n",
      "     t=4000/10000\n",
      "     t=5000/10000\n",
      "     t=6000/10000\n",
      "     t=7000/10000\n",
      "     t=8000/10000\n",
      "     t=9000/10000\n",
      "     t=10000/10000\n",
      "phi = 0.0000\n",
      "N = 11 (19/20)\n",
      "     t=1000/10000\n",
      "     t=2000/10000\n",
      "     t=3000/10000\n",
      "     t=4000/10000\n",
      "     t=5000/10000\n",
      "     t=6000/10000\n",
      "     t=7000/10000\n",
      "     t=8000/10000\n",
      "     t=9000/10000\n",
      "     t=10000/10000\n",
      "phi = 0.0000\n",
      "N = 9 (20/20)\n",
      "     t=1000/10000\n",
      "     t=2000/10000\n",
      "     t=3000/10000\n",
      "     t=4000/10000\n",
      "     t=5000/10000\n",
      "     t=6000/10000\n",
      "     t=7000/10000\n",
      "     t=8000/10000\n",
      "     t=9000/10000\n",
      "     t=10000/10000\n",
      "phi = 0.0000\n"
     ]
    }
   ],
   "source": [
    "M = 7\n",
    "T = 10000\n",
    "phi = []\n",
    "total = []\n",
    "for N in enes:\n",
    "    print('N = {} ({}/{})'.format(N,enes.index(N)+1,len(enes)))\n",
    "    t,A,pol = one_simulation_frozen(N,2,M,T,imprime=1000)\n",
    "    abspol = pol*T\n",
    "    frozen = len(abspol[abspol>50])/len(abspol)\n",
    "    total.append(len(abspol[abspol>1])/len(abspol))\n",
    "    phi.append(frozen)\n",
    "    print('phi = {:.4f}'.format(phi[-1]))"
   ]
  },
  {
   "cell_type": "code",
   "execution_count": 71,
   "metadata": {},
   "outputs": [
    {
     "data": {
      "text/plain": [
       "[<matplotlib.lines.Line2D at 0x7f25c32f8588>]"
      ]
     },
     "execution_count": 71,
     "metadata": {},
     "output_type": "execute_result"
    },
    {
     "data": {
      "image/png": "[encoded data removed]",
      "text/plain": [
       "<Figure size 432x288 with 1 Axes>"
      ]
     },
     "metadata": {
      "needs_background": "light"
     },
     "output_type": "display_data"
    }
   ],
   "source": [
    "fig, ax = plt.subplots()\n",
    "ax.plot(alpha, phi, '.')"
   ]
  }
 ],
 "metadata": {
  "kernelspec": {
   "display_name": "Documentos",
   "language": "python",
   "name": "documentos"
  },
  "language_info": {
   "codemirror_mode": {
    "name": "ipython",
    "version": 3
   },
   "file_extension": ".py",
   "mimetype": "text/x-python",
   "name": "python",
   "nbconvert_exporter": "python",
   "pygments_lexer": "ipython3",
   "version": "3.5.2"
  }
 },
 "nbformat": 4,
 "nbformat_minor": 2
}
